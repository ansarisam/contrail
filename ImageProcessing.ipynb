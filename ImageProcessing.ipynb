{
 "cells": [
  {
   "cell_type": "code",
   "execution_count": null,
   "metadata": {
    "colab": {
     "base_uri": "https://localhost:8080/"
    },
    "executionInfo": {
     "elapsed": 5209,
     "status": "ok",
     "timestamp": 1617852849764,
     "user": {
      "displayName": "Anamika Singh",
      "photoUrl": "",
      "userId": "16961174137829210259"
     },
     "user_tz": 240
    },
    "id": "0bK5bOQGit5H",
    "outputId": "c76fe007-0cd7-451a-be5a-1332248336a0"
   },
   "outputs": [],
   "source": [
    "#!pip install opencv-python"
   ]
  },
  {
   "cell_type": "code",
   "execution_count": 1,
   "metadata": {
    "executionInfo": {
     "elapsed": 1782,
     "status": "ok",
     "timestamp": 1617853599916,
     "user": {
      "displayName": "Anamika Singh",
      "photoUrl": "",
      "userId": "16961174137829210259"
     },
     "user_tz": 240
    },
    "id": "HJ_1JkJIvDnZ"
   },
   "outputs": [],
   "source": [
    "import cv2\n",
    "import os\n",
    "import numpy as np"
   ]
  },
  {
   "cell_type": "code",
   "execution_count": null,
   "metadata": {
    "colab": {
     "base_uri": "https://localhost:8080/"
    },
    "executionInfo": {
     "elapsed": 21718,
     "status": "ok",
     "timestamp": 1617854165131,
     "user": {
      "displayName": "Anamika Singh",
      "photoUrl": "",
      "userId": "16961174137829210259"
     },
     "user_tz": 240
    },
    "id": "oS9JhwMAizP2",
    "outputId": "0d9253b9-db91-45ca-ee2a-a4421ad31daa"
   },
   "outputs": [],
   "source": [
    "path_of_images = r\"C:/Users/ankit/Downloads/TransformedImages/original/\" \n",
    "# directory path where all images exists\n",
    "list_of_images = os.listdir(path_of_images)\n",
    "\n",
    "for image in list_of_images:\n",
    "    img = cv2.imread(os.path.join(path_of_images, image))\n",
    "    rows,cols = img[0].shape\n",
    "    M = cv2.getRotationMatrix2D((cols/2,rows/2),90,1)\n",
    "    rotate_img = cv2.warpAffine(img,M,(cols,rows))\n",
    "    blur_image = cv2.GaussianBlur(img, (7,7), 0)\n",
    "    contrast_img = cv2.addWeighted(img, 2.5, np.zeros(img.shape, img.dtype), 0, 0)\n",
    "    basename = os.path.basename(image)  # e.g. MyPhoto.jpg\n",
    "    name = os.path.splitext(basename)[0]  # e.g. MyPhoto\n",
    "    cv2.imwrite('C:/Users/ankit/Downloads/TransformedImages/'+ name + '_blur.jpg', blur_image)\n",
    "    cv2.imwrite('C:/Users/ankit/Downloads/TransformedImages/'+ name + '_contrast.jpg', contrast_img)\n",
    "    cv2.imwrite('C:/Users/ankit/Downloads/TransformedImages/'+ name + '_rotate.jpg', rotate_img)"
   ]
  }
 ],
 "metadata": {
  "colab": {
   "authorship_tag": "ABX9TyOvuGZg90uRFo8Qu3rW5ZfY",
   "collapsed_sections": [],
   "mount_file_id": "1nA7K3D4sFYtzKD4dmlZDZ_AZRF_ilmKq",
   "name": "ImageProcessing.ipynb",
   "provenance": []
  },
  "kernelspec": {
   "display_name": "Python 3",
   "language": "python",
   "name": "python3"
  },
  "language_info": {
   "codemirror_mode": {
    "name": "ipython",
    "version": 3
   },
   "file_extension": ".py",
   "mimetype": "text/x-python",
   "name": "python",
   "nbconvert_exporter": "python",
   "pygments_lexer": "ipython3",
   "version": "3.8.8"
  }
 },
 "nbformat": 4,
 "nbformat_minor": 1
}
