{
  "nbformat": 4,
  "nbformat_minor": 0,
  "metadata": {
    "colab": {
      "name": "yolov3_final.ipynb",
      "provenance": [],
      "collapsed_sections": [],
      "machine_shape": "hm"
    },
    "kernelspec": {
      "name": "python3",
      "display_name": "Python 3"
    },
    "language_info": {
      "name": "python"
    },
    "accelerator": "GPU"
  },
  "cells": [
    {
      "cell_type": "code",
      "metadata": {
        "colab": {
          "base_uri": "https://localhost:8080/"
        },
        "id": "5rMB-ayv5cep",
        "outputId": "b1252e05-540b-4b9b-8580-a1485c883ce3"
      },
      "source": [
        "# To Check GPU\n",
        "!nvidia-smi"
      ],
      "execution_count": 3,
      "outputs": [
        {
          "output_type": "stream",
          "text": [
            "Fri Apr 30 21:50:14 2021       \n",
            "+-----------------------------------------------------------------------------+\n",
            "| NVIDIA-SMI 465.19.01    Driver Version: 460.32.03    CUDA Version: 11.2     |\n",
            "|-------------------------------+----------------------+----------------------+\n",
            "| GPU  Name        Persistence-M| Bus-Id        Disp.A | Volatile Uncorr. ECC |\n",
            "| Fan  Temp  Perf  Pwr:Usage/Cap|         Memory-Usage | GPU-Util  Compute M. |\n",
            "|                               |                      |               MIG M. |\n",
            "|===============================+======================+======================|\n",
            "|   0  Tesla P100-PCIE...  Off  | 00000000:00:04.0 Off |                    0 |\n",
            "| N/A   36C    P0    25W / 250W |      0MiB / 16280MiB |      0%      Default |\n",
            "|                               |                      |                  N/A |\n",
            "+-------------------------------+----------------------+----------------------+\n",
            "                                                                               \n",
            "+-----------------------------------------------------------------------------+\n",
            "| Processes:                                                                  |\n",
            "|  GPU   GI   CI        PID   Type   Process name                  GPU Memory |\n",
            "|        ID   ID                                                   Usage      |\n",
            "|=============================================================================|\n",
            "|  No running processes found                                                 |\n",
            "+-----------------------------------------------------------------------------+\n"
          ],
          "name": "stdout"
        }
      ]
    },
    {
      "cell_type": "code",
      "metadata": {
        "colab": {
          "base_uri": "https://localhost:8080/"
        },
        "id": "2L14iImt5fv4",
        "outputId": "f7edec10-538f-4fbd-a0fb-6829236e8074"
      },
      "source": [
        "from google.colab import drive\n",
        "drive.mount('/content/drive')"
      ],
      "execution_count": 4,
      "outputs": [
        {
          "output_type": "stream",
          "text": [
            "Drive already mounted at /content/drive; to attempt to forcibly remount, call drive.mount(\"/content/drive\", force_remount=True).\n"
          ],
          "name": "stdout"
        }
      ]
    },
    {
      "cell_type": "code",
      "metadata": {
        "colab": {
          "base_uri": "https://localhost:8080/"
        },
        "id": "n7JWa0Jk5ooE",
        "outputId": "53f4c202-a134-4f9b-e21d-5e3e4efb5a0d"
      },
      "source": [
        "from google.colab import drive\n",
        "drive.mount('/content/gdrive')\n",
        "!ln -s /content/gdrive/My\\ Drive/ /mydrive\n"
      ],
      "execution_count": 5,
      "outputs": [
        {
          "output_type": "stream",
          "text": [
            "Mounted at /content/gdrive\n"
          ],
          "name": "stdout"
        }
      ]
    },
    {
      "cell_type": "code",
      "metadata": {
        "colab": {
          "base_uri": "https://localhost:8080/"
        },
        "id": "5uUT7htl5vMv",
        "outputId": "7c4f0a46-bf12-467d-98e4-2fe7d5a38ce2"
      },
      "source": [
        "# Clone the Darknet to the Colab\n",
        "#!git clone https://github.com/pjreddie/darknet\n",
        "#!git clone https://github.com/ansarisam/darknet.git\n",
        "!git clone https://github.com/AlexeyAB/darknet"
      ],
      "execution_count": 6,
      "outputs": [
        {
          "output_type": "stream",
          "text": [
            "Cloning into 'darknet'...\n",
            "remote: Enumerating objects: 14997, done.\u001b[K\n",
            "remote: Counting objects: 100% (46/46), done.\u001b[K\n",
            "remote: Compressing objects: 100% (33/33), done.\u001b[K\n",
            "remote: Total 14997 (delta 18), reused 31 (delta 12), pack-reused 14951\u001b[K\n",
            "Receiving objects: 100% (14997/14997), 13.41 MiB | 15.97 MiB/s, done.\n",
            "Resolving deltas: 100% (10183/10183), done.\n"
          ],
          "name": "stdout"
        }
      ]
    },
    {
      "cell_type": "code",
      "metadata": {
        "id": "uDXPAJZh5yja",
        "colab": {
          "base_uri": "https://localhost:8080/"
        },
        "outputId": "e922d771-18f9-470b-a310-ad65122ddbb8"
      },
      "source": [
        "# change makefile to have GPU and OPENCV enabled\n",
        "%cd darknet\n",
        "!sed -i 's/OPENCV=0/OPENCV=1/' Makefile\n",
        "!sed -i 's/GPU=0/GPU=1/' Makefile\n",
        "!sed -i 's/CUDNN=0/CUDNN=1/' Makefile\n",
        "!make\n",
        "!chmod +x /content/darknet"
      ],
      "execution_count": 7,
      "outputs": [
        {
          "output_type": "stream",
          "text": [
            "/content/darknet\n",
            "mkdir -p ./obj/\n",
            "mkdir -p backup\n",
            "chmod +x *.sh\n",
            "g++ -std=c++11 -std=c++11 -Iinclude/ -I3rdparty/stb/include -DOPENCV `pkg-config --cflags opencv4 2> /dev/null || pkg-config --cflags opencv` -DGPU -I/usr/local/cuda/include/ -DCUDNN -Wall -Wfatal-errors -Wno-unused-result -Wno-unknown-pragmas -fPIC -Ofast -DOPENCV -DGPU -DCUDNN -I/usr/local/cudnn/include -c ./src/image_opencv.cpp -o obj/image_opencv.o\n",
            "\u001b[01m\u001b[K./src/image_opencv.cpp:\u001b[m\u001b[K In function ‘\u001b[01m\u001b[Kvoid draw_detections_cv_v3(void**, detection*, int, float, char**, image**, int, int)\u001b[m\u001b[K’:\n",
            "\u001b[01m\u001b[K./src/image_opencv.cpp:926:23:\u001b[m\u001b[K \u001b[01;35m\u001b[Kwarning: \u001b[m\u001b[Kvariable ‘\u001b[01m\u001b[Krgb\u001b[m\u001b[K’ set but not used [\u001b[01;35m\u001b[K-Wunused-but-set-variable\u001b[m\u001b[K]\n",
            "                 float \u001b[01;35m\u001b[Krgb\u001b[m\u001b[K[3];\n",
            "                       \u001b[01;35m\u001b[K^~~\u001b[m\u001b[K\n",
            "\u001b[01m\u001b[K./src/image_opencv.cpp:\u001b[m\u001b[K In function ‘\u001b[01m\u001b[Kvoid draw_train_loss(char*, void**, int, float, float, int, int, float, int, char*, float, int, int, double)\u001b[m\u001b[K’:\n",
            "\u001b[01m\u001b[K./src/image_opencv.cpp:1127:13:\u001b[m\u001b[K \u001b[01;35m\u001b[Kwarning: \u001b[m\u001b[Kthis ‘\u001b[01m\u001b[Kif\u001b[m\u001b[K’ clause does not guard... [\u001b[01;35m\u001b[K-Wmisleading-indentation\u001b[m\u001b[K]\n",
            "             \u001b[01;35m\u001b[Kif\u001b[m\u001b[K (iteration_old == 0)\n",
            "             \u001b[01;35m\u001b[K^~\u001b[m\u001b[K\n",
            "\u001b[01m\u001b[K./src/image_opencv.cpp:1130:10:\u001b[m\u001b[K \u001b[01;36m\u001b[Knote: \u001b[m\u001b[K...this statement, but the latter is misleadingly indented as if it were guarded by the ‘\u001b[01m\u001b[Kif\u001b[m\u001b[K’\n",
            "          \u001b[01;36m\u001b[Kif\u001b[m\u001b[K (iteration_old != 0){\n",
            "          \u001b[01;36m\u001b[K^~\u001b[m\u001b[K\n",
            "\u001b[01m\u001b[K./src/image_opencv.cpp:\u001b[m\u001b[K In function ‘\u001b[01m\u001b[Kvoid cv_draw_object(image, float*, int, int, int*, float*, int*, int, char**)\u001b[m\u001b[K’:\n",
            "\u001b[01m\u001b[K./src/image_opencv.cpp:1424:14:\u001b[m\u001b[K \u001b[01;35m\u001b[Kwarning: \u001b[m\u001b[Kunused variable ‘\u001b[01m\u001b[Kbuff\u001b[m\u001b[K’ [\u001b[01;35m\u001b[K-Wunused-variable\u001b[m\u001b[K]\n",
            "         char \u001b[01;35m\u001b[Kbuff\u001b[m\u001b[K[100];\n",
            "              \u001b[01;35m\u001b[K^~~~\u001b[m\u001b[K\n",
            "\u001b[01m\u001b[K./src/image_opencv.cpp:1400:9:\u001b[m\u001b[K \u001b[01;35m\u001b[Kwarning: \u001b[m\u001b[Kunused variable ‘\u001b[01m\u001b[Kit_tb_res\u001b[m\u001b[K’ [\u001b[01;35m\u001b[K-Wunused-variable\u001b[m\u001b[K]\n",
            "     int \u001b[01;35m\u001b[Kit_tb_res\u001b[m\u001b[K = cv::createTrackbar(it_trackbar_name, window_name, &it_trackbar_value, 1000);\n",
            "         \u001b[01;35m\u001b[K^~~~~~~~~\u001b[m\u001b[K\n",
            "\u001b[01m\u001b[K./src/image_opencv.cpp:1404:9:\u001b[m\u001b[K \u001b[01;35m\u001b[Kwarning: \u001b[m\u001b[Kunused variable ‘\u001b[01m\u001b[Klr_tb_res\u001b[m\u001b[K’ [\u001b[01;35m\u001b[K-Wunused-variable\u001b[m\u001b[K]\n",
            "     int \u001b[01;35m\u001b[Klr_tb_res\u001b[m\u001b[K = cv::createTrackbar(lr_trackbar_name, window_name, &lr_trackbar_value, 20);\n",
            "         \u001b[01;35m\u001b[K^~~~~~~~~\u001b[m\u001b[K\n",
            "\u001b[01m\u001b[K./src/image_opencv.cpp:1408:9:\u001b[m\u001b[K \u001b[01;35m\u001b[Kwarning: \u001b[m\u001b[Kunused variable ‘\u001b[01m\u001b[Kcl_tb_res\u001b[m\u001b[K’ [\u001b[01;35m\u001b[K-Wunused-variable\u001b[m\u001b[K]\n",
            "     int \u001b[01;35m\u001b[Kcl_tb_res\u001b[m\u001b[K = cv::createTrackbar(cl_trackbar_name, window_name, &cl_trackbar_value, classes-1);\n",
            "         \u001b[01;35m\u001b[K^~~~~~~~~\u001b[m\u001b[K\n",
            "\u001b[01m\u001b[K./src/image_opencv.cpp:1411:9:\u001b[m\u001b[K \u001b[01;35m\u001b[Kwarning: \u001b[m\u001b[Kunused variable ‘\u001b[01m\u001b[Kbo_tb_res\u001b[m\u001b[K’ [\u001b[01;35m\u001b[K-Wunused-variable\u001b[m\u001b[K]\n",
            "     int \u001b[01;35m\u001b[Kbo_tb_res\u001b[m\u001b[K = cv::createTrackbar(bo_trackbar_name, window_name, boxonly, 1);\n",
            "         \u001b[01;35m\u001b[K^~~~~~~~~\u001b[m\u001b[K\n",
            "g++ -std=c++11 -std=c++11 -Iinclude/ -I3rdparty/stb/include -DOPENCV `pkg-config --cflags opencv4 2> /dev/null || pkg-config --cflags opencv` -DGPU -I/usr/local/cuda/include/ -DCUDNN -Wall -Wfatal-errors -Wno-unused-result -Wno-unknown-pragmas -fPIC -Ofast -DOPENCV -DGPU -DCUDNN -I/usr/local/cudnn/include -c ./src/http_stream.cpp -o obj/http_stream.o\n",
            "\u001b[01m\u001b[K./src/http_stream.cpp:\u001b[m\u001b[K In member function ‘\u001b[01m\u001b[Kbool JSON_sender::write(const char*)\u001b[m\u001b[K’:\n",
            "\u001b[01m\u001b[K./src/http_stream.cpp:253:21:\u001b[m\u001b[K \u001b[01;35m\u001b[Kwarning: \u001b[m\u001b[Kunused variable ‘\u001b[01m\u001b[Kn\u001b[m\u001b[K’ [\u001b[01;35m\u001b[K-Wunused-variable\u001b[m\u001b[K]\n",
            "                 int \u001b[01;35m\u001b[Kn\u001b[m\u001b[K = _write(client, outputbuf, outlen);\n",
            "                     \u001b[01;35m\u001b[K^\u001b[m\u001b[K\n",
            "\u001b[01m\u001b[K./src/http_stream.cpp:\u001b[m\u001b[K In member function ‘\u001b[01m\u001b[Kbool MJPG_sender::write(const cv::Mat&)\u001b[m\u001b[K’:\n",
            "\u001b[01m\u001b[K./src/http_stream.cpp:511:113:\u001b[m\u001b[K \u001b[01;35m\u001b[Kwarning: \u001b[m\u001b[Kformat ‘\u001b[01m\u001b[K%zu\u001b[m\u001b[K’ expects argument of type ‘\u001b[01m\u001b[Ksize_t\u001b[m\u001b[K’, but argument 3 has type ‘\u001b[01m\u001b[Kint\u001b[m\u001b[K’ [\u001b[01;35m\u001b[K-Wformat=\u001b[m\u001b[K]\n",
            "                 sprintf(head, \"--mjpegstream\\r\\nContent-Type: image/jpeg\\r\\nContent-Length: %zu\\r\\n\\r\\n\", outlen\u001b[01;35m\u001b[K)\u001b[m\u001b[K;\n",
            "                                                                                                                 \u001b[01;35m\u001b[K^\u001b[m\u001b[K\n",
            "\u001b[01m\u001b[K./src/http_stream.cpp:\u001b[m\u001b[K In function ‘\u001b[01m\u001b[Kvoid set_track_id(detection*, int, float, float, float, int, int, int)\u001b[m\u001b[K’:\n",
            "\u001b[01m\u001b[K./src/http_stream.cpp:867:27:\u001b[m\u001b[K \u001b[01;35m\u001b[Kwarning: \u001b[m\u001b[Kcomparison between signed and unsigned integer expressions [\u001b[01;35m\u001b[K-Wsign-compare\u001b[m\u001b[K]\n",
            "         for (int i = 0; \u001b[01;35m\u001b[Ki < v.size()\u001b[m\u001b[K; ++i) {\n",
            "                         \u001b[01;35m\u001b[K~~^~~~~~~~~~\u001b[m\u001b[K\n",
            "\u001b[01m\u001b[K./src/http_stream.cpp:875:33:\u001b[m\u001b[K \u001b[01;35m\u001b[Kwarning: \u001b[m\u001b[Kcomparison between signed and unsigned integer expressions [\u001b[01;35m\u001b[K-Wsign-compare\u001b[m\u001b[K]\n",
            "     for (int old_id = 0; \u001b[01;35m\u001b[Kold_id < old_dets.size()\u001b[m\u001b[K; ++old_id) {\n",
            "                          \u001b[01;35m\u001b[K~~~~~~~^~~~~~~~~~~~~~~~~\u001b[m\u001b[K\n",
            "\u001b[01m\u001b[K./src/http_stream.cpp:894:31:\u001b[m\u001b[K \u001b[01;35m\u001b[Kwarning: \u001b[m\u001b[Kcomparison between signed and unsigned integer expressions [\u001b[01;35m\u001b[K-Wsign-compare\u001b[m\u001b[K]\n",
            "     for (int index = 0; \u001b[01;35m\u001b[Kindex < new_dets_num*old_dets.size()\u001b[m\u001b[K; ++index) {\n",
            "                         \u001b[01;35m\u001b[K~~~~~~^~~~~~~~~~~~~~~~~~~~~~~~~~~~~~\u001b[m\u001b[K\n",
            "\u001b[01m\u001b[K./src/http_stream.cpp:930:28:\u001b[m\u001b[K \u001b[01;35m\u001b[Kwarning: \u001b[m\u001b[Kcomparison between signed and unsigned integer expressions [\u001b[01;35m\u001b[K-Wsign-compare\u001b[m\u001b[K]\n",
            "     if (\u001b[01;35m\u001b[Kold_dets_dq.size() > deque_size\u001b[m\u001b[K) old_dets_dq.pop_front();\n",
            "         \u001b[01;35m\u001b[K~~~~~~~~~~~~~~~~~~~^~~~~~~~~~~~\u001b[m\u001b[K\n",
            "gcc -Iinclude/ -I3rdparty/stb/include -DOPENCV `pkg-config --cflags opencv4 2> /dev/null || pkg-config --cflags opencv` -DGPU -I/usr/local/cuda/include/ -DCUDNN -Wall -Wfatal-errors -Wno-unused-result -Wno-unknown-pragmas -fPIC -Ofast -DOPENCV -DGPU -DCUDNN -I/usr/local/cudnn/include -c ./src/gemm.c -o obj/gemm.o\n",
            "\u001b[01m\u001b[K./src/gemm.c:\u001b[m\u001b[K In function ‘\u001b[01m\u001b[Kconvolution_2d\u001b[m\u001b[K’:\n",
            "\u001b[01m\u001b[K./src/gemm.c:2044:15:\u001b[m\u001b[K \u001b[01;35m\u001b[Kwarning: \u001b[m\u001b[Kunused variable ‘\u001b[01m\u001b[Kout_w\u001b[m\u001b[K’ [\u001b[01;35m\u001b[K-Wunused-variable\u001b[m\u001b[K]\n",
            "     const int \u001b[01;35m\u001b[Kout_w\u001b[m\u001b[K = (w + 2 * pad - ksize) / stride + 1;    // output_width=input_width for stride=1 and pad=1\n",
            "               \u001b[01;35m\u001b[K^~~~~\u001b[m\u001b[K\n",
            "\u001b[01m\u001b[K./src/gemm.c:2043:15:\u001b[m\u001b[K \u001b[01;35m\u001b[Kwarning: \u001b[m\u001b[Kunused variable ‘\u001b[01m\u001b[Kout_h\u001b[m\u001b[K’ [\u001b[01;35m\u001b[K-Wunused-variable\u001b[m\u001b[K]\n",
            "     const int \u001b[01;35m\u001b[Kout_h\u001b[m\u001b[K = (h + 2 * pad - ksize) / stride + 1;    // output_height=input_height for stride=1 and pad=1\n",
            "               \u001b[01;35m\u001b[K^~~~~\u001b[m\u001b[K\n",
            "gcc -Iinclude/ -I3rdparty/stb/include -DOPENCV `pkg-config --cflags opencv4 2> /dev/null || pkg-config --cflags opencv` -DGPU -I/usr/local/cuda/include/ -DCUDNN -Wall -Wfatal-errors -Wno-unused-result -Wno-unknown-pragmas -fPIC -Ofast -DOPENCV -DGPU -DCUDNN -I/usr/local/cudnn/include -c ./src/utils.c -o obj/utils.o\n",
            "\u001b[01m\u001b[K./src/utils.c:\u001b[m\u001b[K In function ‘\u001b[01m\u001b[Kcustom_hash\u001b[m\u001b[K’:\n",
            "\u001b[01m\u001b[K./src/utils.c:1045:12:\u001b[m\u001b[K \u001b[01;35m\u001b[Kwarning: \u001b[m\u001b[Ksuggest parentheses around assignment used as truth value [\u001b[01;35m\u001b[K-Wparentheses\u001b[m\u001b[K]\n",
            "     while (\u001b[01;35m\u001b[Kc\u001b[m\u001b[K = *str++)\n",
            "            \u001b[01;35m\u001b[K^\u001b[m\u001b[K\n",
            "gcc -Iinclude/ -I3rdparty/stb/include -DOPENCV `pkg-config --cflags opencv4 2> /dev/null || pkg-config --cflags opencv` -DGPU -I/usr/local/cuda/include/ -DCUDNN -Wall -Wfatal-errors -Wno-unused-result -Wno-unknown-pragmas -fPIC -Ofast -DOPENCV -DGPU -DCUDNN -I/usr/local/cudnn/include -c ./src/dark_cuda.c -o obj/dark_cuda.o\n",
            "\u001b[01m\u001b[K./src/dark_cuda.c:\u001b[m\u001b[K In function ‘\u001b[01m\u001b[Kcudnn_check_error_extended\u001b[m\u001b[K’:\n",
            "\u001b[01m\u001b[K./src/dark_cuda.c:231:20:\u001b[m\u001b[K \u001b[01;35m\u001b[Kwarning: \u001b[m\u001b[Kcomparison between ‘\u001b[01m\u001b[KcudaError_t {aka enum cudaError}\u001b[m\u001b[K’ and ‘\u001b[01m\u001b[Kenum <anonymous>\u001b[m\u001b[K’ [\u001b[01;35m\u001b[K-Wenum-compare\u001b[m\u001b[K]\n",
            "         if (status \u001b[01;35m\u001b[K!=\u001b[m\u001b[K CUDNN_STATUS_SUCCESS)\n",
            "                    \u001b[01;35m\u001b[K^~\u001b[m\u001b[K\n",
            "\u001b[01m\u001b[K./src/dark_cuda.c:\u001b[m\u001b[K In function ‘\u001b[01m\u001b[Kcublas_check_error_extended\u001b[m\u001b[K’:\n",
            "\u001b[01m\u001b[K./src/dark_cuda.c:265:18:\u001b[m\u001b[K \u001b[01;35m\u001b[Kwarning: \u001b[m\u001b[Kcomparison between ‘\u001b[01m\u001b[KcudaError_t {aka enum cudaError}\u001b[m\u001b[K’ and ‘\u001b[01m\u001b[Kenum cudaError_enum\u001b[m\u001b[K’ [\u001b[01;35m\u001b[K-Wenum-compare\u001b[m\u001b[K]\n",
            "       if (status \u001b[01;35m\u001b[K!=\u001b[m\u001b[K CUDA_SUCCESS)\n",
            "                  \u001b[01;35m\u001b[K^~\u001b[m\u001b[K\n",
            "\u001b[01m\u001b[K./src/dark_cuda.c:\u001b[m\u001b[K In function ‘\u001b[01m\u001b[Kpre_allocate_pinned_memory\u001b[m\u001b[K’:\n",
            "\u001b[01m\u001b[K./src/dark_cuda.c:396:40:\u001b[m\u001b[K \u001b[01;35m\u001b[Kwarning: \u001b[m\u001b[Kformat ‘\u001b[01m\u001b[K%u\u001b[m\u001b[K’ expects argument of type ‘\u001b[01m\u001b[Kunsigned int\u001b[m\u001b[K’, but argument 2 has type ‘\u001b[01m\u001b[Klong unsigned int\u001b[m\u001b[K’ [\u001b[01;35m\u001b[K-Wformat=\u001b[m\u001b[K]\n",
            "         printf(\"pre_allocate: size = \u001b[01;35m\u001b[K%Iu\u001b[m\u001b[K MB, num_of_blocks = %Iu, block_size = %Iu MB \\n\",\n",
            "                                      \u001b[01;35m\u001b[K~~^\u001b[m\u001b[K\n",
            "                                      \u001b[32m\u001b[K%Ilu\u001b[m\u001b[K\n",
            "             \u001b[32m\u001b[Ksize / (1024*1024)\u001b[m\u001b[K, num_of_blocks, pinned_block_size / (1024 * 1024));\n",
            "             \u001b[32m\u001b[K~~~~~~~~~~~~~~~~~~\u001b[m\u001b[K          \n",
            "\u001b[01m\u001b[K./src/dark_cuda.c:396:64:\u001b[m\u001b[K \u001b[01;35m\u001b[Kwarning: \u001b[m\u001b[Kformat ‘\u001b[01m\u001b[K%u\u001b[m\u001b[K’ expects argument of type ‘\u001b[01m\u001b[Kunsigned int\u001b[m\u001b[K’, but argument 3 has type ‘\u001b[01m\u001b[Ksize_t {aka const long unsigned int}\u001b[m\u001b[K’ [\u001b[01;35m\u001b[K-Wformat=\u001b[m\u001b[K]\n",
            "         printf(\"pre_allocate: size = %Iu MB, num_of_blocks = \u001b[01;35m\u001b[K%Iu\u001b[m\u001b[K, block_size = %Iu MB \\n\",\n",
            "                                                              \u001b[01;35m\u001b[K~~^\u001b[m\u001b[K\n",
            "                                                              \u001b[32m\u001b[K%Ilu\u001b[m\u001b[K\n",
            "\u001b[01m\u001b[K./src/dark_cuda.c:396:82:\u001b[m\u001b[K \u001b[01;35m\u001b[Kwarning: \u001b[m\u001b[Kformat ‘\u001b[01m\u001b[K%u\u001b[m\u001b[K’ expects argument of type ‘\u001b[01m\u001b[Kunsigned int\u001b[m\u001b[K’, but argument 4 has type ‘\u001b[01m\u001b[Klong unsigned int\u001b[m\u001b[K’ [\u001b[01;35m\u001b[K-Wformat=\u001b[m\u001b[K]\n",
            "         printf(\"pre_allocate: size = %Iu MB, num_of_blocks = %Iu, block_size = \u001b[01;35m\u001b[K%Iu\u001b[m\u001b[K MB \\n\",\n",
            "                                                                                \u001b[01;35m\u001b[K~~^\u001b[m\u001b[K\n",
            "                                                                                \u001b[32m\u001b[K%Ilu\u001b[m\u001b[K\n",
            "\u001b[01m\u001b[K./src/dark_cuda.c:406:37:\u001b[m\u001b[K \u001b[01;35m\u001b[Kwarning: \u001b[m\u001b[Kformat ‘\u001b[01m\u001b[K%d\u001b[m\u001b[K’ expects argument of type ‘\u001b[01m\u001b[Kint\u001b[m\u001b[K’, but argument 2 has type ‘\u001b[01m\u001b[Ksize_t {aka const long unsigned int}\u001b[m\u001b[K’ [\u001b[01;35m\u001b[K-Wformat=\u001b[m\u001b[K]\n",
            "                 printf(\" Allocated \u001b[01;35m\u001b[K%d\u001b[m\u001b[K pinned block \\n\", pinned_block_size);\n",
            "                                    \u001b[01;35m\u001b[K~^\u001b[m\u001b[K\n",
            "                                    \u001b[32m\u001b[K%ld\u001b[m\u001b[K\n",
            "\u001b[01m\u001b[K./src/dark_cuda.c:\u001b[m\u001b[K In function ‘\u001b[01m\u001b[Kcuda_make_array_pinned_preallocated\u001b[m\u001b[K’:\n",
            "\u001b[01m\u001b[K./src/dark_cuda.c:427:43:\u001b[m\u001b[K \u001b[01;35m\u001b[Kwarning: \u001b[m\u001b[Kformat ‘\u001b[01m\u001b[K%d\u001b[m\u001b[K’ expects argument of type ‘\u001b[01m\u001b[Kint\u001b[m\u001b[K’, but argument 2 has type ‘\u001b[01m\u001b[Ksize_t {aka long unsigned int}\u001b[m\u001b[K’ [\u001b[01;35m\u001b[K-Wformat=\u001b[m\u001b[K]\n",
            "             printf(\"\\n Pinned block_id = \u001b[01;35m\u001b[K%d\u001b[m\u001b[K, filled = %f %% \\n\", pinned_block_id, filled);\n",
            "                                          \u001b[01;35m\u001b[K~^\u001b[m\u001b[K\n",
            "                                          \u001b[32m\u001b[K%ld\u001b[m\u001b[K\n",
            "\u001b[01m\u001b[K./src/dark_cuda.c:442:64:\u001b[m\u001b[K \u001b[01;35m\u001b[Kwarning: \u001b[m\u001b[Kformat ‘\u001b[01m\u001b[K%d\u001b[m\u001b[K’ expects argument of type ‘\u001b[01m\u001b[Kint\u001b[m\u001b[K’, but argument 2 has type ‘\u001b[01m\u001b[Klong unsigned int\u001b[m\u001b[K’ [\u001b[01;35m\u001b[K-Wformat=\u001b[m\u001b[K]\n",
            "             printf(\"Try to allocate new pinned memory, size = \u001b[01;35m\u001b[K%d\u001b[m\u001b[K MB \\n\", \u001b[32m\u001b[Ksize / (1024 * 1024)\u001b[m\u001b[K);\n",
            "                                                               \u001b[01;35m\u001b[K~^\u001b[m\u001b[K         \u001b[32m\u001b[K~~~~~~~~~~~~~~~~~~~~\u001b[m\u001b[K\n",
            "                                                               \u001b[32m\u001b[K%ld\u001b[m\u001b[K\n",
            "\u001b[01m\u001b[K./src/dark_cuda.c:448:63:\u001b[m\u001b[K \u001b[01;35m\u001b[Kwarning: \u001b[m\u001b[Kformat ‘\u001b[01m\u001b[K%d\u001b[m\u001b[K’ expects argument of type ‘\u001b[01m\u001b[Kint\u001b[m\u001b[K’, but argument 2 has type ‘\u001b[01m\u001b[Klong unsigned int\u001b[m\u001b[K’ [\u001b[01;35m\u001b[K-Wformat=\u001b[m\u001b[K]\n",
            "             printf(\"Try to allocate new pinned BLOCK, size = \u001b[01;35m\u001b[K%d\u001b[m\u001b[K MB \\n\", \u001b[32m\u001b[Ksize / (1024 * 1024)\u001b[m\u001b[K);\n",
            "                                                              \u001b[01;35m\u001b[K~^\u001b[m\u001b[K         \u001b[32m\u001b[K~~~~~~~~~~~~~~~~~~~~\u001b[m\u001b[K\n",
            "                                                              \u001b[32m\u001b[K%ld\u001b[m\u001b[K\n",
            "At top level:\n",
            "\u001b[01m\u001b[K./src/dark_cuda.c:288:23:\u001b[m\u001b[K \u001b[01;35m\u001b[Kwarning: \u001b[m\u001b[K‘\u001b[01m\u001b[KswitchBlasHandle\u001b[m\u001b[K’ defined but not used [\u001b[01;35m\u001b[K-Wunused-variable\u001b[m\u001b[K]\n",
            " static cublasHandle_t \u001b[01;35m\u001b[KswitchBlasHandle\u001b[m\u001b[K[16];\n",
            "                       \u001b[01;35m\u001b[K^~~~~~~~~~~~~~~~\u001b[m\u001b[K\n",
            "\u001b[01m\u001b[K./src/dark_cuda.c:287:12:\u001b[m\u001b[K \u001b[01;35m\u001b[Kwarning: \u001b[m\u001b[K‘\u001b[01m\u001b[KswitchBlasInit\u001b[m\u001b[K’ defined but not used [\u001b[01;35m\u001b[K-Wunused-variable\u001b[m\u001b[K]\n",
            " static int \u001b[01;35m\u001b[KswitchBlasInit\u001b[m\u001b[K[16] = { 0 };\n",
            "            \u001b[01;35m\u001b[K^~~~~~~~~~~~~~\u001b[m\u001b[K\n",
            "gcc -Iinclude/ -I3rdparty/stb/include -DOPENCV `pkg-config --cflags opencv4 2> /dev/null || pkg-config --cflags opencv` -DGPU -I/usr/local/cuda/include/ -DCUDNN -Wall -Wfatal-errors -Wno-unused-result -Wno-unknown-pragmas -fPIC -Ofast -DOPENCV -DGPU -DCUDNN -I/usr/local/cudnn/include -c ./src/convolutional_layer.c -o obj/convolutional_layer.o\n",
            "\u001b[01m\u001b[K./src/convolutional_layer.c:\u001b[m\u001b[K In function ‘\u001b[01m\u001b[Kforward_convolutional_layer\u001b[m\u001b[K’:\n",
            "\u001b[01m\u001b[K./src/convolutional_layer.c:1341:32:\u001b[m\u001b[K \u001b[01;35m\u001b[Kwarning: \u001b[m\u001b[Kunused variable ‘\u001b[01m\u001b[Kt_intput_size\u001b[m\u001b[K’ [\u001b[01;35m\u001b[K-Wunused-variable\u001b[m\u001b[K]\n",
            "                         size_t \u001b[01;35m\u001b[Kt_intput_size\u001b[m\u001b[K = binary_transpose_align_input(k, n, state.workspace, &l.t_bit_input, ldb_align, l.bit_align);\n",
            "                                \u001b[01;35m\u001b[K^~~~~~~~~~~~~\u001b[m\u001b[K\n",
            "gcc -Iinclude/ -I3rdparty/stb/include -DOPENCV `pkg-config --cflags opencv4 2> /dev/null || pkg-config --cflags opencv` -DGPU -I/usr/local/cuda/include/ -DCUDNN -Wall -Wfatal-errors -Wno-unused-result -Wno-unknown-pragmas -fPIC -Ofast -DOPENCV -DGPU -DCUDNN -I/usr/local/cudnn/include -c ./src/list.c -o obj/list.o\n",
            "gcc -Iinclude/ -I3rdparty/stb/include -DOPENCV `pkg-config --cflags opencv4 2> /dev/null || pkg-config --cflags opencv` -DGPU -I/usr/local/cuda/include/ -DCUDNN -Wall -Wfatal-errors -Wno-unused-result -Wno-unknown-pragmas -fPIC -Ofast -DOPENCV -DGPU -DCUDNN -I/usr/local/cudnn/include -c ./src/image.c -o obj/image.o\n",
            "gcc -Iinclude/ -I3rdparty/stb/include -DOPENCV `pkg-config --cflags opencv4 2> /dev/null || pkg-config --cflags opencv` -DGPU -I/usr/local/cuda/include/ -DCUDNN -Wall -Wfatal-errors -Wno-unused-result -Wno-unknown-pragmas -fPIC -Ofast -DOPENCV -DGPU -DCUDNN -I/usr/local/cudnn/include -c ./src/activations.c -o obj/activations.o\n",
            "\u001b[01m\u001b[K./src/activations.c:\u001b[m\u001b[K In function ‘\u001b[01m\u001b[Kactivate\u001b[m\u001b[K’:\n",
            "\u001b[01m\u001b[K./src/activations.c:79:5:\u001b[m\u001b[K \u001b[01;35m\u001b[Kwarning: \u001b[m\u001b[Kenumeration value ‘\u001b[01m\u001b[KRELU6\u001b[m\u001b[K’ not handled in switch [\u001b[01;35m\u001b[K-Wswitch\u001b[m\u001b[K]\n",
            "     \u001b[01;35m\u001b[Kswitch\u001b[m\u001b[K(a){\n",
            "     \u001b[01;35m\u001b[K^~~~~~\u001b[m\u001b[K\n",
            "\u001b[01m\u001b[K./src/activations.c:79:5:\u001b[m\u001b[K \u001b[01;35m\u001b[Kwarning: \u001b[m\u001b[Kenumeration value ‘\u001b[01m\u001b[KSWISH\u001b[m\u001b[K’ not handled in switch [\u001b[01;35m\u001b[K-Wswitch\u001b[m\u001b[K]\n",
            "\u001b[01m\u001b[K./src/activations.c:79:5:\u001b[m\u001b[K \u001b[01;35m\u001b[Kwarning: \u001b[m\u001b[Kenumeration value ‘\u001b[01m\u001b[KMISH\u001b[m\u001b[K’ not handled in switch [\u001b[01;35m\u001b[K-Wswitch\u001b[m\u001b[K]\n",
            "\u001b[01m\u001b[K./src/activations.c:79:5:\u001b[m\u001b[K \u001b[01;35m\u001b[Kwarning: \u001b[m\u001b[Kenumeration value ‘\u001b[01m\u001b[KHARD_MISH\u001b[m\u001b[K’ not handled in switch [\u001b[01;35m\u001b[K-Wswitch\u001b[m\u001b[K]\n",
            "\u001b[01m\u001b[K./src/activations.c:79:5:\u001b[m\u001b[K \u001b[01;35m\u001b[Kwarning: \u001b[m\u001b[Kenumeration value ‘\u001b[01m\u001b[KNORM_CHAN\u001b[m\u001b[K’ not handled in switch [\u001b[01;35m\u001b[K-Wswitch\u001b[m\u001b[K]\n",
            "\u001b[01m\u001b[K./src/activations.c:79:5:\u001b[m\u001b[K \u001b[01;35m\u001b[Kwarning: \u001b[m\u001b[Kenumeration value ‘\u001b[01m\u001b[KNORM_CHAN_SOFTMAX\u001b[m\u001b[K’ not handled in switch [\u001b[01;35m\u001b[K-Wswitch\u001b[m\u001b[K]\n",
            "\u001b[01m\u001b[K./src/activations.c:79:5:\u001b[m\u001b[K \u001b[01;35m\u001b[Kwarning: \u001b[m\u001b[Kenumeration value ‘\u001b[01m\u001b[KNORM_CHAN_SOFTMAX_MAXVAL\u001b[m\u001b[K’ not handled in switch [\u001b[01;35m\u001b[K-Wswitch\u001b[m\u001b[K]\n",
            "\u001b[01m\u001b[K./src/activations.c:\u001b[m\u001b[K In function ‘\u001b[01m\u001b[Kgradient\u001b[m\u001b[K’:\n",
            "\u001b[01m\u001b[K./src/activations.c:310:5:\u001b[m\u001b[K \u001b[01;35m\u001b[Kwarning: \u001b[m\u001b[Kenumeration value ‘\u001b[01m\u001b[KSWISH\u001b[m\u001b[K’ not handled in switch [\u001b[01;35m\u001b[K-Wswitch\u001b[m\u001b[K]\n",
            "     \u001b[01;35m\u001b[Kswitch\u001b[m\u001b[K(a){\n",
            "     \u001b[01;35m\u001b[K^~~~~~\u001b[m\u001b[K\n",
            "\u001b[01m\u001b[K./src/activations.c:310:5:\u001b[m\u001b[K \u001b[01;35m\u001b[Kwarning: \u001b[m\u001b[Kenumeration value ‘\u001b[01m\u001b[KMISH\u001b[m\u001b[K’ not handled in switch [\u001b[01;35m\u001b[K-Wswitch\u001b[m\u001b[K]\n",
            "\u001b[01m\u001b[K./src/activations.c:310:5:\u001b[m\u001b[K \u001b[01;35m\u001b[Kwarning: \u001b[m\u001b[Kenumeration value ‘\u001b[01m\u001b[KHARD_MISH\u001b[m\u001b[K’ not handled in switch [\u001b[01;35m\u001b[K-Wswitch\u001b[m\u001b[K]\n",
            "gcc -Iinclude/ -I3rdparty/stb/include -DOPENCV `pkg-config --cflags opencv4 2> /dev/null || pkg-config --cflags opencv` -DGPU -I/usr/local/cuda/include/ -DCUDNN -Wall -Wfatal-errors -Wno-unused-result -Wno-unknown-pragmas -fPIC -Ofast -DOPENCV -DGPU -DCUDNN -I/usr/local/cudnn/include -c ./src/im2col.c -o obj/im2col.o\n",
            "gcc -Iinclude/ -I3rdparty/stb/include -DOPENCV `pkg-config --cflags opencv4 2> /dev/null || pkg-config --cflags opencv` -DGPU -I/usr/local/cuda/include/ -DCUDNN -Wall -Wfatal-errors -Wno-unused-result -Wno-unknown-pragmas -fPIC -Ofast -DOPENCV -DGPU -DCUDNN -I/usr/local/cudnn/include -c ./src/col2im.c -o obj/col2im.o\n",
            "gcc -Iinclude/ -I3rdparty/stb/include -DOPENCV `pkg-config --cflags opencv4 2> /dev/null || pkg-config --cflags opencv` -DGPU -I/usr/local/cuda/include/ -DCUDNN -Wall -Wfatal-errors -Wno-unused-result -Wno-unknown-pragmas -fPIC -Ofast -DOPENCV -DGPU -DCUDNN -I/usr/local/cudnn/include -c ./src/blas.c -o obj/blas.o\n",
            "\u001b[01m\u001b[K./src/blas.c:\u001b[m\u001b[K In function ‘\u001b[01m\u001b[Kbackward_shortcut_multilayer_cpu\u001b[m\u001b[K’:\n",
            "\u001b[01m\u001b[K./src/blas.c:207:21:\u001b[m\u001b[K \u001b[01;35m\u001b[Kwarning: \u001b[m\u001b[Kunused variable ‘\u001b[01m\u001b[Kout_index\u001b[m\u001b[K’ [\u001b[01;35m\u001b[K-Wunused-variable\u001b[m\u001b[K]\n",
            "                 int \u001b[01;35m\u001b[Kout_index\u001b[m\u001b[K = id;\n",
            "                     \u001b[01;35m\u001b[K^~~~~~~~~\u001b[m\u001b[K\n",
            "\u001b[01m\u001b[K./src/blas.c:\u001b[m\u001b[K In function ‘\u001b[01m\u001b[Kfind_sim\u001b[m\u001b[K’:\n",
            "\u001b[01m\u001b[K./src/blas.c:597:59:\u001b[m\u001b[K \u001b[01;35m\u001b[Kwarning: \u001b[m\u001b[Kformat ‘\u001b[01m\u001b[K%d\u001b[m\u001b[K’ expects argument of type ‘\u001b[01m\u001b[Kint\u001b[m\u001b[K’, but argument 2 has type ‘\u001b[01m\u001b[Ksize_t {aka long unsigned int}\u001b[m\u001b[K’ [\u001b[01;35m\u001b[K-Wformat=\u001b[m\u001b[K]\n",
            "         printf(\" Error: find_sim(): sim isn't found: i = \u001b[01;35m\u001b[K%d\u001b[m\u001b[K, j = %d, z = %d \\n\", i, j, z);\n",
            "                                                          \u001b[01;35m\u001b[K~^\u001b[m\u001b[K\n",
            "                                                          \u001b[32m\u001b[K%ld\u001b[m\u001b[K\n",
            "\u001b[01m\u001b[K./src/blas.c:597:67:\u001b[m\u001b[K \u001b[01;35m\u001b[Kwarning: \u001b[m\u001b[Kformat ‘\u001b[01m\u001b[K%d\u001b[m\u001b[K’ expects argument of type ‘\u001b[01m\u001b[Kint\u001b[m\u001b[K’, but argument 3 has type ‘\u001b[01m\u001b[Ksize_t {aka long unsigned int}\u001b[m\u001b[K’ [\u001b[01;35m\u001b[K-Wformat=\u001b[m\u001b[K]\n",
            "         printf(\" Error: find_sim(): sim isn't found: i = %d, j = \u001b[01;35m\u001b[K%d\u001b[m\u001b[K, z = %d \\n\", i, j, z);\n",
            "                                                                  \u001b[01;35m\u001b[K~^\u001b[m\u001b[K\n",
            "                                                                  \u001b[32m\u001b[K%ld\u001b[m\u001b[K\n",
            "\u001b[01m\u001b[K./src/blas.c:597:75:\u001b[m\u001b[K \u001b[01;35m\u001b[Kwarning: \u001b[m\u001b[Kformat ‘\u001b[01m\u001b[K%d\u001b[m\u001b[K’ expects argument of type ‘\u001b[01m\u001b[Kint\u001b[m\u001b[K’, but argument 4 has type ‘\u001b[01m\u001b[Ksize_t {aka long unsigned int}\u001b[m\u001b[K’ [\u001b[01;35m\u001b[K-Wformat=\u001b[m\u001b[K]\n",
            "         printf(\" Error: find_sim(): sim isn't found: i = %d, j = %d, z = \u001b[01;35m\u001b[K%d\u001b[m\u001b[K \\n\", i, j, z);\n",
            "                                                                          \u001b[01;35m\u001b[K~^\u001b[m\u001b[K\n",
            "                                                                          \u001b[32m\u001b[K%ld\u001b[m\u001b[K\n",
            "\u001b[01m\u001b[K./src/blas.c:\u001b[m\u001b[K In function ‘\u001b[01m\u001b[Kfind_P_constrastive\u001b[m\u001b[K’:\n",
            "\u001b[01m\u001b[K./src/blas.c:611:68:\u001b[m\u001b[K \u001b[01;35m\u001b[Kwarning: \u001b[m\u001b[Kformat ‘\u001b[01m\u001b[K%d\u001b[m\u001b[K’ expects argument of type ‘\u001b[01m\u001b[Kint\u001b[m\u001b[K’, but argument 2 has type ‘\u001b[01m\u001b[Ksize_t {aka long unsigned int}\u001b[m\u001b[K’ [\u001b[01;35m\u001b[K-Wformat=\u001b[m\u001b[K]\n",
            "         printf(\" Error: find_P_constrastive(): P isn't found: i = \u001b[01;35m\u001b[K%d\u001b[m\u001b[K, j = %d, z = %d \\n\", i, j, z);\n",
            "                                                                   \u001b[01;35m\u001b[K~^\u001b[m\u001b[K\n",
            "                                                                   \u001b[32m\u001b[K%ld\u001b[m\u001b[K\n",
            "\u001b[01m\u001b[K./src/blas.c:611:76:\u001b[m\u001b[K \u001b[01;35m\u001b[Kwarning: \u001b[m\u001b[Kformat ‘\u001b[01m\u001b[K%d\u001b[m\u001b[K’ expects argument of type ‘\u001b[01m\u001b[Kint\u001b[m\u001b[K’, but argument 3 has type ‘\u001b[01m\u001b[Ksize_t {aka long unsigned int}\u001b[m\u001b[K’ [\u001b[01;35m\u001b[K-Wformat=\u001b[m\u001b[K]\n",
            "         printf(\" Error: find_P_constrastive(): P isn't found: i = %d, j = \u001b[01;35m\u001b[K%d\u001b[m\u001b[K, z = %d \\n\", i, j, z);\n",
            "                                                                           \u001b[01;35m\u001b[K~^\u001b[m\u001b[K\n",
            "                                                                           \u001b[32m\u001b[K%ld\u001b[m\u001b[K\n",
            "\u001b[01m\u001b[K./src/blas.c:611:84:\u001b[m\u001b[K \u001b[01;35m\u001b[Kwarning: \u001b[m\u001b[Kformat ‘\u001b[01m\u001b[K%d\u001b[m\u001b[K’ expects argument of type ‘\u001b[01m\u001b[Kint\u001b[m\u001b[K’, but argument 4 has type ‘\u001b[01m\u001b[Ksize_t {aka long unsigned int}\u001b[m\u001b[K’ [\u001b[01;35m\u001b[K-Wformat=\u001b[m\u001b[K]\n",
            "         printf(\" Error: find_P_constrastive(): P isn't found: i = %d, j = %d, z = \u001b[01;35m\u001b[K%d\u001b[m\u001b[K \\n\", i, j, z);\n",
            "                                                                                   \u001b[01;35m\u001b[K~^\u001b[m\u001b[K\n",
            "                                                                                   \u001b[32m\u001b[K%ld\u001b[m\u001b[K\n",
            "\u001b[01m\u001b[K./src/blas.c:\u001b[m\u001b[K In function ‘\u001b[01m\u001b[KP_constrastive_f\u001b[m\u001b[K’:\n",
            "\u001b[01m\u001b[K./src/blas.c:651:79:\u001b[m\u001b[K \u001b[01;35m\u001b[Kwarning: \u001b[m\u001b[Kformat ‘\u001b[01m\u001b[K%d\u001b[m\u001b[K’ expects argument of type ‘\u001b[01m\u001b[Kint\u001b[m\u001b[K’, but argument 3 has type ‘\u001b[01m\u001b[Ksize_t {aka long unsigned int}\u001b[m\u001b[K’ [\u001b[01;35m\u001b[K-Wformat=\u001b[m\u001b[K]\n",
            "         fprintf(stderr, \" Error: in P_constrastive must be i != l, while i = \u001b[01;35m\u001b[K%d\u001b[m\u001b[K, l = %d \\n\", i, l);\n",
            "                                                                              \u001b[01;35m\u001b[K~^\u001b[m\u001b[K\n",
            "                                                                              \u001b[32m\u001b[K%ld\u001b[m\u001b[K\n",
            "\u001b[01m\u001b[K./src/blas.c:651:87:\u001b[m\u001b[K \u001b[01;35m\u001b[Kwarning: \u001b[m\u001b[Kformat ‘\u001b[01m\u001b[K%d\u001b[m\u001b[K’ expects argument of type ‘\u001b[01m\u001b[Kint\u001b[m\u001b[K’, but argument 4 has type ‘\u001b[01m\u001b[Ksize_t {aka long unsigned int}\u001b[m\u001b[K’ [\u001b[01;35m\u001b[K-Wformat=\u001b[m\u001b[K]\n",
            "         fprintf(stderr, \" Error: in P_constrastive must be i != l, while i = %d, l = \u001b[01;35m\u001b[K%d\u001b[m\u001b[K \\n\", i, l);\n",
            "                                                                                      \u001b[01;35m\u001b[K~^\u001b[m\u001b[K\n",
            "                                                                                      \u001b[32m\u001b[K%ld\u001b[m\u001b[K\n",
            "\u001b[01m\u001b[K./src/blas.c:\u001b[m\u001b[K In function ‘\u001b[01m\u001b[KP_constrastive\u001b[m\u001b[K’:\n",
            "\u001b[01m\u001b[K./src/blas.c:785:79:\u001b[m\u001b[K \u001b[01;35m\u001b[Kwarning: \u001b[m\u001b[Kformat ‘\u001b[01m\u001b[K%d\u001b[m\u001b[K’ expects argument of type ‘\u001b[01m\u001b[Kint\u001b[m\u001b[K’, but argument 3 has type ‘\u001b[01m\u001b[Ksize_t {aka long unsigned int}\u001b[m\u001b[K’ [\u001b[01;35m\u001b[K-Wformat=\u001b[m\u001b[K]\n",
            "         fprintf(stderr, \" Error: in P_constrastive must be i != l, while i = \u001b[01;35m\u001b[K%d\u001b[m\u001b[K, l = %d \\n\", i, l);\n",
            "                                                                              \u001b[01;35m\u001b[K~^\u001b[m\u001b[K\n",
            "                                                                              \u001b[32m\u001b[K%ld\u001b[m\u001b[K\n",
            "\u001b[01m\u001b[K./src/blas.c:785:87:\u001b[m\u001b[K \u001b[01;35m\u001b[Kwarning: \u001b[m\u001b[Kformat ‘\u001b[01m\u001b[K%d\u001b[m\u001b[K’ expects argument of type ‘\u001b[01m\u001b[Kint\u001b[m\u001b[K’, but argument 4 has type ‘\u001b[01m\u001b[Ksize_t {aka long unsigned int}\u001b[m\u001b[K’ [\u001b[01;35m\u001b[K-Wformat=\u001b[m\u001b[K]\n",
            "         fprintf(stderr, \" Error: in P_constrastive must be i != l, while i = %d, l = \u001b[01;35m\u001b[K%d\u001b[m\u001b[K \\n\", i, l);\n",
            "                                                                                      \u001b[01;35m\u001b[K~^\u001b[m\u001b[K\n",
            "                                                                                      \u001b[32m\u001b[K%ld\u001b[m\u001b[K\n",
            "gcc -Iinclude/ -I3rdparty/stb/include -DOPENCV `pkg-config --cflags opencv4 2> /dev/null || pkg-config --cflags opencv` -DGPU -I/usr/local/cuda/include/ -DCUDNN -Wall -Wfatal-errors -Wno-unused-result -Wno-unknown-pragmas -fPIC -Ofast -DOPENCV -DGPU -DCUDNN -I/usr/local/cudnn/include -c ./src/crop_layer.c -o obj/crop_layer.o\n",
            "gcc -Iinclude/ -I3rdparty/stb/include -DOPENCV `pkg-config --cflags opencv4 2> /dev/null || pkg-config --cflags opencv` -DGPU -I/usr/local/cuda/include/ -DCUDNN -Wall -Wfatal-errors -Wno-unused-result -Wno-unknown-pragmas -fPIC -Ofast -DOPENCV -DGPU -DCUDNN -I/usr/local/cudnn/include -c ./src/dropout_layer.c -o obj/dropout_layer.o\n",
            "gcc -Iinclude/ -I3rdparty/stb/include -DOPENCV `pkg-config --cflags opencv4 2> /dev/null || pkg-config --cflags opencv` -DGPU -I/usr/local/cuda/include/ -DCUDNN -Wall -Wfatal-errors -Wno-unused-result -Wno-unknown-pragmas -fPIC -Ofast -DOPENCV -DGPU -DCUDNN -I/usr/local/cudnn/include -c ./src/maxpool_layer.c -o obj/maxpool_layer.o\n",
            "gcc -Iinclude/ -I3rdparty/stb/include -DOPENCV `pkg-config --cflags opencv4 2> /dev/null || pkg-config --cflags opencv` -DGPU -I/usr/local/cuda/include/ -DCUDNN -Wall -Wfatal-errors -Wno-unused-result -Wno-unknown-pragmas -fPIC -Ofast -DOPENCV -DGPU -DCUDNN -I/usr/local/cudnn/include -c ./src/softmax_layer.c -o obj/softmax_layer.o\n",
            "\u001b[01m\u001b[K./src/softmax_layer.c:\u001b[m\u001b[K In function ‘\u001b[01m\u001b[Kmake_contrastive_layer\u001b[m\u001b[K’:\n",
            "\u001b[01m\u001b[K./src/softmax_layer.c:203:101:\u001b[m\u001b[K \u001b[01;35m\u001b[Kwarning: \u001b[m\u001b[Kformat ‘\u001b[01m\u001b[K%d\u001b[m\u001b[K’ expects argument of type ‘\u001b[01m\u001b[Kint\u001b[m\u001b[K’, but argument 9 has type ‘\u001b[01m\u001b[Ksize_t {aka const long unsigned int}\u001b[m\u001b[K’ [\u001b[01;35m\u001b[K-Wformat=\u001b[m\u001b[K]\n",
            "     fprintf(stderr, \"contrastive %4d x%4d x%4d x emb_size %4d x batch: %4d  classes = %4d, step = \u001b[01;35m\u001b[K%4d\u001b[m\u001b[K \\n\", w, h, l.n, l.embedding_size, batch, l.classes, step);\n",
            "                                                                                                   \u001b[01;35m\u001b[K~~^\u001b[m\u001b[K\n",
            "                                                                                                   \u001b[32m\u001b[K%4ld\u001b[m\u001b[K\n",
            "\u001b[01m\u001b[K./src/softmax_layer.c:\u001b[m\u001b[K In function ‘\u001b[01m\u001b[Kforward_contrastive_layer\u001b[m\u001b[K’:\n",
            "\u001b[01m\u001b[K./src/softmax_layer.c:244:27:\u001b[m\u001b[K \u001b[01;35m\u001b[Kwarning: \u001b[m\u001b[Kvariable ‘\u001b[01m\u001b[Kmax_truth\u001b[m\u001b[K’ set but not used [\u001b[01;35m\u001b[K-Wunused-but-set-variable\u001b[m\u001b[K]\n",
            "                     float \u001b[01;35m\u001b[Kmax_truth\u001b[m\u001b[K = 0;\n",
            "                           \u001b[01;35m\u001b[K^~~~~~~~~\u001b[m\u001b[K\n",
            "\u001b[01m\u001b[K./src/softmax_layer.c:423:71:\u001b[m\u001b[K \u001b[01;35m\u001b[Kwarning: \u001b[m\u001b[Kformat ‘\u001b[01m\u001b[K%d\u001b[m\u001b[K’ expects argument of type ‘\u001b[01m\u001b[Kint\u001b[m\u001b[K’, but argument 2 has type ‘\u001b[01m\u001b[Ksize_t {aka const long unsigned int}\u001b[m\u001b[K’ [\u001b[01;35m\u001b[K-Wformat=\u001b[m\u001b[K]\n",
            "             printf(\" Error: too large number of bboxes: contr_size = \u001b[01;35m\u001b[K%d\u001b[m\u001b[K > max_contr_size  = %d \\n\", contr_size, max_contr_size);\n",
            "                                                                      \u001b[01;35m\u001b[K~^\u001b[m\u001b[K\n",
            "                                                                      \u001b[32m\u001b[K%ld\u001b[m\u001b[K\n",
            "gcc -Iinclude/ -I3rdparty/stb/include -DOPENCV `pkg-config --cflags opencv4 2> /dev/null || pkg-config --cflags opencv` -DGPU -I/usr/local/cuda/include/ -DCUDNN -Wall -Wfatal-errors -Wno-unused-result -Wno-unknown-pragmas -fPIC -Ofast -DOPENCV -DGPU -DCUDNN -I/usr/local/cudnn/include -c ./src/data.c -o obj/data.o\n",
            "\u001b[01m\u001b[K./src/data.c:\u001b[m\u001b[K In function ‘\u001b[01m\u001b[Kload_data_detection\u001b[m\u001b[K’:\n",
            "\u001b[01m\u001b[K./src/data.c:1297:24:\u001b[m\u001b[K \u001b[01;35m\u001b[Kwarning: \u001b[m\u001b[Kunused variable ‘\u001b[01m\u001b[Kx\u001b[m\u001b[K’ [\u001b[01;35m\u001b[K-Wunused-variable\u001b[m\u001b[K]\n",
            "                 int k, \u001b[01;35m\u001b[Kx\u001b[m\u001b[K, y;\n",
            "                        \u001b[01;35m\u001b[K^\u001b[m\u001b[K\n",
            "\u001b[01m\u001b[K./src/data.c:1090:43:\u001b[m\u001b[K \u001b[01;35m\u001b[Kwarning: \u001b[m\u001b[Kvariable ‘\u001b[01m\u001b[Kr_scale\u001b[m\u001b[K’ set but not used [\u001b[01;35m\u001b[K-Wunused-but-set-variable\u001b[m\u001b[K]\n",
            "     float r1 = 0, r2 = 0, r3 = 0, r4 = 0, \u001b[01;35m\u001b[Kr_scale\u001b[m\u001b[K = 0;\n",
            "                                           \u001b[01;35m\u001b[K^~~~~~~\u001b[m\u001b[K\n",
            "gcc -Iinclude/ -I3rdparty/stb/include -DOPENCV `pkg-config --cflags opencv4 2> /dev/null || pkg-config --cflags opencv` -DGPU -I/usr/local/cuda/include/ -DCUDNN -Wall -Wfatal-errors -Wno-unused-result -Wno-unknown-pragmas -fPIC -Ofast -DOPENCV -DGPU -DCUDNN -I/usr/local/cudnn/include -c ./src/matrix.c -o obj/matrix.o\n",
            "gcc -Iinclude/ -I3rdparty/stb/include -DOPENCV `pkg-config --cflags opencv4 2> /dev/null || pkg-config --cflags opencv` -DGPU -I/usr/local/cuda/include/ -DCUDNN -Wall -Wfatal-errors -Wno-unused-result -Wno-unknown-pragmas -fPIC -Ofast -DOPENCV -DGPU -DCUDNN -I/usr/local/cudnn/include -c ./src/network.c -o obj/network.o\n",
            "\u001b[01m\u001b[K./src/network.c:\u001b[m\u001b[K In function ‘\u001b[01m\u001b[Ktrain_network_waitkey\u001b[m\u001b[K’:\n",
            "\u001b[01m\u001b[K./src/network.c:434:13:\u001b[m\u001b[K \u001b[01;35m\u001b[Kwarning: \u001b[m\u001b[Kunused variable ‘\u001b[01m\u001b[Kema_period\u001b[m\u001b[K’ [\u001b[01;35m\u001b[K-Wunused-variable\u001b[m\u001b[K]\n",
            "         int \u001b[01;35m\u001b[Kema_period\u001b[m\u001b[K = (net.max_batches - ema_start_point - 1000) * (1.0 - net.ema_alpha);\n",
            "             \u001b[01;35m\u001b[K^~~~~~~~~~\u001b[m\u001b[K\n",
            "\u001b[01m\u001b[K./src/network.c:\u001b[m\u001b[K In function ‘\u001b[01m\u001b[Kresize_network\u001b[m\u001b[K’:\n",
            "\u001b[01m\u001b[K./src/network.c:659:42:\u001b[m\u001b[K \u001b[01;35m\u001b[Kwarning: \u001b[m\u001b[Kpassing argument 1 of ‘\u001b[01m\u001b[KcudaHostAlloc\u001b[m\u001b[K’ from incompatible pointer type [\u001b[01;35m\u001b[K-Wincompatible-pointer-types\u001b[m\u001b[K]\n",
            "         if (cudaSuccess == cudaHostAlloc(\u001b[01;35m\u001b[K&\u001b[m\u001b[Knet->input_pinned_cpu, size * sizeof(float), cudaHostRegisterMapped))\n",
            "                                          \u001b[01;35m\u001b[K^\u001b[m\u001b[K\n",
            "In file included from \u001b[01m\u001b[K/usr/local/cuda/include/cuda_runtime.h:96:0\u001b[m\u001b[K,\n",
            "                 from \u001b[01m\u001b[Kinclude/darknet.h:41\u001b[m\u001b[K,\n",
            "                 from \u001b[01m\u001b[K./src/network.c:1\u001b[m\u001b[K:\n",
            "\u001b[01m\u001b[K/usr/local/cuda/include/cuda_runtime_api.h:4707:39:\u001b[m\u001b[K \u001b[01;36m\u001b[Knote: \u001b[m\u001b[Kexpected ‘\u001b[01m\u001b[Kvoid **\u001b[m\u001b[K’ but argument is of type ‘\u001b[01m\u001b[Kfloat **\u001b[m\u001b[K’\n",
            " extern __host__ cudaError_t CUDARTAPI \u001b[01;36m\u001b[KcudaHostAlloc\u001b[m\u001b[K(void **pHost, size_t size, unsigned int flags);\n",
            "                                       \u001b[01;36m\u001b[K^~~~~~~~~~~~~\u001b[m\u001b[K\n",
            "gcc -Iinclude/ -I3rdparty/stb/include -DOPENCV `pkg-config --cflags opencv4 2> /dev/null || pkg-config --cflags opencv` -DGPU -I/usr/local/cuda/include/ -DCUDNN -Wall -Wfatal-errors -Wno-unused-result -Wno-unknown-pragmas -fPIC -Ofast -DOPENCV -DGPU -DCUDNN -I/usr/local/cudnn/include -c ./src/connected_layer.c -o obj/connected_layer.o\n",
            "\u001b[01m\u001b[K./src/connected_layer.c:\u001b[m\u001b[K In function ‘\u001b[01m\u001b[Kforward_connected_layer_gpu\u001b[m\u001b[K’:\n",
            "\u001b[01m\u001b[K./src/connected_layer.c:346:11:\u001b[m\u001b[K \u001b[01;35m\u001b[Kwarning: \u001b[m\u001b[Kunused variable ‘\u001b[01m\u001b[Kone\u001b[m\u001b[K’ [\u001b[01;35m\u001b[K-Wunused-variable\u001b[m\u001b[K]\n",
            "     float \u001b[01;35m\u001b[Kone\u001b[m\u001b[K = 1;    // alpha[0], beta[0]\n",
            "           \u001b[01;35m\u001b[K^~~\u001b[m\u001b[K\n",
            "\u001b[01m\u001b[K./src/connected_layer.c:344:13:\u001b[m\u001b[K \u001b[01;35m\u001b[Kwarning: \u001b[m\u001b[Kunused variable ‘\u001b[01m\u001b[Kc\u001b[m\u001b[K’ [\u001b[01;35m\u001b[K-Wunused-variable\u001b[m\u001b[K]\n",
            "     float * \u001b[01;35m\u001b[Kc\u001b[m\u001b[K = l.output_gpu;\n",
            "             \u001b[01;35m\u001b[K^\u001b[m\u001b[K\n",
            "\u001b[01m\u001b[K./src/connected_layer.c:343:13:\u001b[m\u001b[K \u001b[01;35m\u001b[Kwarning: \u001b[m\u001b[Kunused variable ‘\u001b[01m\u001b[Kb\u001b[m\u001b[K’ [\u001b[01;35m\u001b[K-Wunused-variable\u001b[m\u001b[K]\n",
            "     float * \u001b[01;35m\u001b[Kb\u001b[m\u001b[K = l.weights_gpu;\n",
            "             \u001b[01;35m\u001b[K^\u001b[m\u001b[K\n",
            "\u001b[01m\u001b[K./src/connected_layer.c:342:13:\u001b[m\u001b[K \u001b[01;35m\u001b[Kwarning: \u001b[m\u001b[Kunused variable ‘\u001b[01m\u001b[Ka\u001b[m\u001b[K’ [\u001b[01;35m\u001b[K-Wunused-variable\u001b[m\u001b[K]\n",
            "     float * \u001b[01;35m\u001b[Ka\u001b[m\u001b[K = state.input;\n",
            "             \u001b[01;35m\u001b[K^\u001b[m\u001b[K\n",
            "\u001b[01m\u001b[K./src/connected_layer.c:341:9:\u001b[m\u001b[K \u001b[01;35m\u001b[Kwarning: \u001b[m\u001b[Kunused variable ‘\u001b[01m\u001b[Kn\u001b[m\u001b[K’ [\u001b[01;35m\u001b[K-Wunused-variable\u001b[m\u001b[K]\n",
            "     int \u001b[01;35m\u001b[Kn\u001b[m\u001b[K = l.outputs;\n",
            "         \u001b[01;35m\u001b[K^\u001b[m\u001b[K\n",
            "\u001b[01m\u001b[K./src/connected_layer.c:340:9:\u001b[m\u001b[K \u001b[01;35m\u001b[Kwarning: \u001b[m\u001b[Kunused variable ‘\u001b[01m\u001b[Kk\u001b[m\u001b[K’ [\u001b[01;35m\u001b[K-Wunused-variable\u001b[m\u001b[K]\n",
            "     int \u001b[01;35m\u001b[Kk\u001b[m\u001b[K = l.inputs;\n",
            "         \u001b[01;35m\u001b[K^\u001b[m\u001b[K\n",
            "\u001b[01m\u001b[K./src/connected_layer.c:339:9:\u001b[m\u001b[K \u001b[01;35m\u001b[Kwarning: \u001b[m\u001b[Kunused variable ‘\u001b[01m\u001b[Km\u001b[m\u001b[K’ [\u001b[01;35m\u001b[K-Wunused-variable\u001b[m\u001b[K]\n",
            "     int \u001b[01;35m\u001b[Km\u001b[m\u001b[K = l.batch;\n",
            "         \u001b[01;35m\u001b[K^\u001b[m\u001b[K\n",
            "gcc -Iinclude/ -I3rdparty/stb/include -DOPENCV `pkg-config --cflags opencv4 2> /dev/null || pkg-config --cflags opencv` -DGPU -I/usr/local/cuda/include/ -DCUDNN -Wall -Wfatal-errors -Wno-unused-result -Wno-unknown-pragmas -fPIC -Ofast -DOPENCV -DGPU -DCUDNN -I/usr/local/cudnn/include -c ./src/cost_layer.c -o obj/cost_layer.o\n",
            "gcc -Iinclude/ -I3rdparty/stb/include -DOPENCV `pkg-config --cflags opencv4 2> /dev/null || pkg-config --cflags opencv` -DGPU -I/usr/local/cuda/include/ -DCUDNN -Wall -Wfatal-errors -Wno-unused-result -Wno-unknown-pragmas -fPIC -Ofast -DOPENCV -DGPU -DCUDNN -I/usr/local/cudnn/include -c ./src/parser.c -o obj/parser.o\n",
            "\u001b[01m\u001b[K./src/parser.c:\u001b[m\u001b[K In function ‘\u001b[01m\u001b[Kparse_network_cfg_custom\u001b[m\u001b[K’:\n",
            "\u001b[01m\u001b[K./src/parser.c:1689:42:\u001b[m\u001b[K \u001b[01;35m\u001b[Kwarning: \u001b[m\u001b[Kpassing argument 1 of ‘\u001b[01m\u001b[KcudaHostAlloc\u001b[m\u001b[K’ from incompatible pointer type [\u001b[01;35m\u001b[K-Wincompatible-pointer-types\u001b[m\u001b[K]\n",
            "         if (cudaSuccess == cudaHostAlloc(\u001b[01;35m\u001b[K&\u001b[m\u001b[Knet.input_pinned_cpu, size * sizeof(float), cudaHostRegisterMapped)) net.input_pinned_cpu_flag = 1;\n",
            "                                          \u001b[01;35m\u001b[K^\u001b[m\u001b[K\n",
            "In file included from \u001b[01m\u001b[K/usr/local/cuda/include/cuda_runtime.h:96:0\u001b[m\u001b[K,\n",
            "                 from \u001b[01m\u001b[Kinclude/darknet.h:41\u001b[m\u001b[K,\n",
            "                 from \u001b[01m\u001b[K./src/activations.h:3\u001b[m\u001b[K,\n",
            "                 from \u001b[01m\u001b[K./src/activation_layer.h:4\u001b[m\u001b[K,\n",
            "                 from \u001b[01m\u001b[K./src/parser.c:6\u001b[m\u001b[K:\n",
            "\u001b[01m\u001b[K/usr/local/cuda/include/cuda_runtime_api.h:4707:39:\u001b[m\u001b[K \u001b[01;36m\u001b[Knote: \u001b[m\u001b[Kexpected ‘\u001b[01m\u001b[Kvoid **\u001b[m\u001b[K’ but argument is of type ‘\u001b[01m\u001b[Kfloat **\u001b[m\u001b[K’\n",
            " extern __host__ cudaError_t CUDARTAPI \u001b[01;36m\u001b[KcudaHostAlloc\u001b[m\u001b[K(void **pHost, size_t size, unsigned int flags);\n",
            "                                       \u001b[01;36m\u001b[K^~~~~~~~~~~~~\u001b[m\u001b[K\n",
            "\u001b[01m\u001b[K./src/parser.c:\u001b[m\u001b[K In function ‘\u001b[01m\u001b[Kget_classes_multipliers\u001b[m\u001b[K’:\n",
            "\u001b[01m\u001b[K./src/parser.c:431:29:\u001b[m\u001b[K \u001b[01;35m\u001b[Kwarning: \u001b[m\u001b[Kargument 1 range [18446744071562067968, 18446744073709551615] exceeds maximum object size 9223372036854775807 [\u001b[01;35m\u001b[K-Walloc-size-larger-than=\u001b[m\u001b[K]\n",
            "         \u001b[01;35m\u001b[Kclasses_multipliers = (float *)calloc(classes_counters, sizeof(float))\u001b[m\u001b[K;\n",
            "         \u001b[01;35m\u001b[K~~~~~~~~~~~~~~~~~~~~^~~~~~~~~~~~~~~~~~~~~~~~~~~~~~~~~~~~~~~~~~~~~~~~~~\u001b[m\u001b[K\n",
            "In file included from \u001b[01m\u001b[K./src/parser.c:3:0\u001b[m\u001b[K:\n",
            "\u001b[01m\u001b[K/usr/include/stdlib.h:541:14:\u001b[m\u001b[K \u001b[01;36m\u001b[Knote: \u001b[m\u001b[Kin a call to allocation function ‘\u001b[01m\u001b[Kcalloc\u001b[m\u001b[K’ declared here\n",
            " extern void *\u001b[01;36m\u001b[Kcalloc\u001b[m\u001b[K (size_t __nmemb, size_t __size)\n",
            "              \u001b[01;36m\u001b[K^~~~~~\u001b[m\u001b[K\n",
            "gcc -Iinclude/ -I3rdparty/stb/include -DOPENCV `pkg-config --cflags opencv4 2> /dev/null || pkg-config --cflags opencv` -DGPU -I/usr/local/cuda/include/ -DCUDNN -Wall -Wfatal-errors -Wno-unused-result -Wno-unknown-pragmas -fPIC -Ofast -DOPENCV -DGPU -DCUDNN -I/usr/local/cudnn/include -c ./src/option_list.c -o obj/option_list.o\n",
            "gcc -Iinclude/ -I3rdparty/stb/include -DOPENCV `pkg-config --cflags opencv4 2> /dev/null || pkg-config --cflags opencv` -DGPU -I/usr/local/cuda/include/ -DCUDNN -Wall -Wfatal-errors -Wno-unused-result -Wno-unknown-pragmas -fPIC -Ofast -DOPENCV -DGPU -DCUDNN -I/usr/local/cudnn/include -c ./src/darknet.c -o obj/darknet.o\n",
            "gcc -Iinclude/ -I3rdparty/stb/include -DOPENCV `pkg-config --cflags opencv4 2> /dev/null || pkg-config --cflags opencv` -DGPU -I/usr/local/cuda/include/ -DCUDNN -Wall -Wfatal-errors -Wno-unused-result -Wno-unknown-pragmas -fPIC -Ofast -DOPENCV -DGPU -DCUDNN -I/usr/local/cudnn/include -c ./src/detection_layer.c -o obj/detection_layer.o\n",
            "gcc -Iinclude/ -I3rdparty/stb/include -DOPENCV `pkg-config --cflags opencv4 2> /dev/null || pkg-config --cflags opencv` -DGPU -I/usr/local/cuda/include/ -DCUDNN -Wall -Wfatal-errors -Wno-unused-result -Wno-unknown-pragmas -fPIC -Ofast -DOPENCV -DGPU -DCUDNN -I/usr/local/cudnn/include -c ./src/captcha.c -o obj/captcha.o\n",
            "gcc -Iinclude/ -I3rdparty/stb/include -DOPENCV `pkg-config --cflags opencv4 2> /dev/null || pkg-config --cflags opencv` -DGPU -I/usr/local/cuda/include/ -DCUDNN -Wall -Wfatal-errors -Wno-unused-result -Wno-unknown-pragmas -fPIC -Ofast -DOPENCV -DGPU -DCUDNN -I/usr/local/cudnn/include -c ./src/route_layer.c -o obj/route_layer.o\n",
            "gcc -Iinclude/ -I3rdparty/stb/include -DOPENCV `pkg-config --cflags opencv4 2> /dev/null || pkg-config --cflags opencv` -DGPU -I/usr/local/cuda/include/ -DCUDNN -Wall -Wfatal-errors -Wno-unused-result -Wno-unknown-pragmas -fPIC -Ofast -DOPENCV -DGPU -DCUDNN -I/usr/local/cudnn/include -c ./src/writing.c -o obj/writing.o\n",
            "gcc -Iinclude/ -I3rdparty/stb/include -DOPENCV `pkg-config --cflags opencv4 2> /dev/null || pkg-config --cflags opencv` -DGPU -I/usr/local/cuda/include/ -DCUDNN -Wall -Wfatal-errors -Wno-unused-result -Wno-unknown-pragmas -fPIC -Ofast -DOPENCV -DGPU -DCUDNN -I/usr/local/cudnn/include -c ./src/box.c -o obj/box.o\n",
            "\u001b[01m\u001b[K./src/box.c:\u001b[m\u001b[K In function ‘\u001b[01m\u001b[Kbox_iou_kind\u001b[m\u001b[K’:\n",
            "\u001b[01m\u001b[K./src/box.c:154:5:\u001b[m\u001b[K \u001b[01;35m\u001b[Kwarning: \u001b[m\u001b[Kenumeration value ‘\u001b[01m\u001b[KMSE\u001b[m\u001b[K’ not handled in switch [\u001b[01;35m\u001b[K-Wswitch\u001b[m\u001b[K]\n",
            "     \u001b[01;35m\u001b[Kswitch\u001b[m\u001b[K(iou_kind) {\n",
            "     \u001b[01;35m\u001b[K^~~~~~\u001b[m\u001b[K\n",
            "\u001b[01m\u001b[K./src/box.c:\u001b[m\u001b[K In function ‘\u001b[01m\u001b[Kdiounms_sort\u001b[m\u001b[K’:\n",
            "\u001b[01m\u001b[K./src/box.c:898:27:\u001b[m\u001b[K \u001b[01;35m\u001b[Kwarning: \u001b[m\u001b[Kunused variable ‘\u001b[01m\u001b[Kbeta_prob\u001b[m\u001b[K’ [\u001b[01;35m\u001b[K-Wunused-variable\u001b[m\u001b[K]\n",
            "                     float \u001b[01;35m\u001b[Kbeta_prob\u001b[m\u001b[K = pow(dets[j].prob[k], 2) / sum_prob;\n",
            "                           \u001b[01;35m\u001b[K^~~~~~~~~\u001b[m\u001b[K\n",
            "\u001b[01m\u001b[K./src/box.c:897:27:\u001b[m\u001b[K \u001b[01;35m\u001b[Kwarning: \u001b[m\u001b[Kunused variable ‘\u001b[01m\u001b[Kalpha_prob\u001b[m\u001b[K’ [\u001b[01;35m\u001b[K-Wunused-variable\u001b[m\u001b[K]\n",
            "                     float \u001b[01;35m\u001b[Kalpha_prob\u001b[m\u001b[K = pow(dets[i].prob[k], 2) / sum_prob;\n",
            "                           \u001b[01;35m\u001b[K^~~~~~~~~~\u001b[m\u001b[K\n",
            "gcc -Iinclude/ -I3rdparty/stb/include -DOPENCV `pkg-config --cflags opencv4 2> /dev/null || pkg-config --cflags opencv` -DGPU -I/usr/local/cuda/include/ -DCUDNN -Wall -Wfatal-errors -Wno-unused-result -Wno-unknown-pragmas -fPIC -Ofast -DOPENCV -DGPU -DCUDNN -I/usr/local/cudnn/include -c ./src/nightmare.c -o obj/nightmare.o\n",
            "gcc -Iinclude/ -I3rdparty/stb/include -DOPENCV `pkg-config --cflags opencv4 2> /dev/null || pkg-config --cflags opencv` -DGPU -I/usr/local/cuda/include/ -DCUDNN -Wall -Wfatal-errors -Wno-unused-result -Wno-unknown-pragmas -fPIC -Ofast -DOPENCV -DGPU -DCUDNN -I/usr/local/cudnn/include -c ./src/normalization_layer.c -o obj/normalization_layer.o\n",
            "gcc -Iinclude/ -I3rdparty/stb/include -DOPENCV `pkg-config --cflags opencv4 2> /dev/null || pkg-config --cflags opencv` -DGPU -I/usr/local/cuda/include/ -DCUDNN -Wall -Wfatal-errors -Wno-unused-result -Wno-unknown-pragmas -fPIC -Ofast -DOPENCV -DGPU -DCUDNN -I/usr/local/cudnn/include -c ./src/avgpool_layer.c -o obj/avgpool_layer.o\n",
            "gcc -Iinclude/ -I3rdparty/stb/include -DOPENCV `pkg-config --cflags opencv4 2> /dev/null || pkg-config --cflags opencv` -DGPU -I/usr/local/cuda/include/ -DCUDNN -Wall -Wfatal-errors -Wno-unused-result -Wno-unknown-pragmas -fPIC -Ofast -DOPENCV -DGPU -DCUDNN -I/usr/local/cudnn/include -c ./src/coco.c -o obj/coco.o\n",
            "\u001b[01m\u001b[K./src/coco.c:\u001b[m\u001b[K In function ‘\u001b[01m\u001b[Kvalidate_coco_recall\u001b[m\u001b[K’:\n",
            "\u001b[01m\u001b[K./src/coco.c:248:11:\u001b[m\u001b[K \u001b[01;35m\u001b[Kwarning: \u001b[m\u001b[Kunused variable ‘\u001b[01m\u001b[Kbase\u001b[m\u001b[K’ [\u001b[01;35m\u001b[K-Wunused-variable\u001b[m\u001b[K]\n",
            "     char *\u001b[01;35m\u001b[Kbase\u001b[m\u001b[K = \"results/comp4_det_test_\";\n",
            "           \u001b[01;35m\u001b[K^~~~\u001b[m\u001b[K\n",
            "gcc -Iinclude/ -I3rdparty/stb/include -DOPENCV `pkg-config --cflags opencv4 2> /dev/null || pkg-config --cflags opencv` -DGPU -I/usr/local/cuda/include/ -DCUDNN -Wall -Wfatal-errors -Wno-unused-result -Wno-unknown-pragmas -fPIC -Ofast -DOPENCV -DGPU -DCUDNN -I/usr/local/cudnn/include -c ./src/dice.c -o obj/dice.o\n",
            "gcc -Iinclude/ -I3rdparty/stb/include -DOPENCV `pkg-config --cflags opencv4 2> /dev/null || pkg-config --cflags opencv` -DGPU -I/usr/local/cuda/include/ -DCUDNN -Wall -Wfatal-errors -Wno-unused-result -Wno-unknown-pragmas -fPIC -Ofast -DOPENCV -DGPU -DCUDNN -I/usr/local/cudnn/include -c ./src/yolo.c -o obj/yolo.o\n",
            "gcc -Iinclude/ -I3rdparty/stb/include -DOPENCV `pkg-config --cflags opencv4 2> /dev/null || pkg-config --cflags opencv` -DGPU -I/usr/local/cuda/include/ -DCUDNN -Wall -Wfatal-errors -Wno-unused-result -Wno-unknown-pragmas -fPIC -Ofast -DOPENCV -DGPU -DCUDNN -I/usr/local/cudnn/include -c ./src/detector.c -o obj/detector.o\n",
            "\u001b[01m\u001b[K./src/detector.c:\u001b[m\u001b[K In function ‘\u001b[01m\u001b[Ktrain_detector\u001b[m\u001b[K’:\n",
            "\u001b[01m\u001b[K./src/detector.c:386:72:\u001b[m\u001b[K \u001b[01;35m\u001b[Kwarning: \u001b[m\u001b[Ksuggest parentheses around ‘\u001b[01m\u001b[K&&\u001b[m\u001b[K’ within ‘\u001b[01m\u001b[K||\u001b[m\u001b[K’ [\u001b[01;35m\u001b[K-Wparentheses\u001b[m\u001b[K]\n",
            "             \u001b[01;35m\u001b[K(iteration >= (iter_save + 1000) || iteration % 1000 == 0) && net.max_batches < 10000\u001b[m\u001b[K)\n",
            "             \u001b[01;35m\u001b[K~~~~~~~~~~~~~~~~~~~~~~~~~~~~~~~~~~~~~~~~~~~~~~~~~~~~~~~~~~~^~~~~~~~~~~~~~~~~~~~~~~~~~\u001b[m\u001b[K\n",
            "\u001b[01m\u001b[K./src/detector.c:\u001b[m\u001b[K In function ‘\u001b[01m\u001b[Kprint_cocos\u001b[m\u001b[K’:\n",
            "\u001b[01m\u001b[K./src/detector.c:486:29:\u001b[m\u001b[K \u001b[01;35m\u001b[Kwarning: \u001b[m\u001b[Kformat not a string literal and no format arguments [\u001b[01;35m\u001b[K-Wformat-security\u001b[m\u001b[K]\n",
            "                 fprintf(fp, \u001b[01;35m\u001b[Kbuff\u001b[m\u001b[K);\n",
            "                             \u001b[01;35m\u001b[K^~~~\u001b[m\u001b[K\n",
            "\u001b[01m\u001b[K./src/detector.c:\u001b[m\u001b[K In function ‘\u001b[01m\u001b[Keliminate_bdd\u001b[m\u001b[K’:\n",
            "\u001b[01m\u001b[K./src/detector.c:579:21:\u001b[m\u001b[K \u001b[01;35m\u001b[Kwarning: \u001b[m\u001b[Kstatement with no effect [\u001b[01;35m\u001b[K-Wunused-value\u001b[m\u001b[K]\n",
            "                     \u001b[01;35m\u001b[Kfor\u001b[m\u001b[K (k; buf[k + n] != '\\0'; k++)\n",
            "                     \u001b[01;35m\u001b[K^~~\u001b[m\u001b[K\n",
            "\u001b[01m\u001b[K./src/detector.c:\u001b[m\u001b[K In function ‘\u001b[01m\u001b[Kvalidate_detector\u001b[m\u001b[K’:\n",
            "\u001b[01m\u001b[K./src/detector.c:700:13:\u001b[m\u001b[K \u001b[01;35m\u001b[Kwarning: \u001b[m\u001b[Kunused variable ‘\u001b[01m\u001b[Kmkd2\u001b[m\u001b[K’ [\u001b[01;35m\u001b[K-Wunused-variable\u001b[m\u001b[K]\n",
            "         int \u001b[01;35m\u001b[Kmkd2\u001b[m\u001b[K = make_directory(buff2, 0777);\n",
            "             \u001b[01;35m\u001b[K^~~~\u001b[m\u001b[K\n",
            "\u001b[01m\u001b[K./src/detector.c:698:13:\u001b[m\u001b[K \u001b[01;35m\u001b[Kwarning: \u001b[m\u001b[Kunused variable ‘\u001b[01m\u001b[Kmkd\u001b[m\u001b[K’ [\u001b[01;35m\u001b[K-Wunused-variable\u001b[m\u001b[K]\n",
            "         int \u001b[01;35m\u001b[Kmkd\u001b[m\u001b[K = make_directory(buff, 0777);\n",
            "             \u001b[01;35m\u001b[K^~~\u001b[m\u001b[K\n",
            "\u001b[01m\u001b[K./src/detector.c:\u001b[m\u001b[K In function ‘\u001b[01m\u001b[Kvalidate_detector_map\u001b[m\u001b[K’:\n",
            "\u001b[01m\u001b[K./src/detector.c:1332:15:\u001b[m\u001b[K \u001b[01;35m\u001b[Kwarning: \u001b[m\u001b[Kunused variable ‘\u001b[01m\u001b[Kclass_recall\u001b[m\u001b[K’ [\u001b[01;35m\u001b[K-Wunused-variable\u001b[m\u001b[K]\n",
            "         float \u001b[01;35m\u001b[Kclass_recall\u001b[m\u001b[K = (float)tp_for_thresh_per_class[i] / ((float)tp_for_thresh_per_class[i] + (float)(truth_classes_count[i] - tp_for_thresh_per_class[i]));\n",
            "               \u001b[01;35m\u001b[K^~~~~~~~~~~~\u001b[m\u001b[K\n",
            "\u001b[01m\u001b[K./src/detector.c:1331:15:\u001b[m\u001b[K \u001b[01;35m\u001b[Kwarning: \u001b[m\u001b[Kunused variable ‘\u001b[01m\u001b[Kclass_precision\u001b[m\u001b[K’ [\u001b[01;35m\u001b[K-Wunused-variable\u001b[m\u001b[K]\n",
            "         float \u001b[01;35m\u001b[Kclass_precision\u001b[m\u001b[K = (float)tp_for_thresh_per_class[i] / ((float)tp_for_thresh_per_class[i] + (float)fp_for_thresh_per_class[i]);\n",
            "               \u001b[01;35m\u001b[K^~~~~~~~~~~~~~~\u001b[m\u001b[K\n",
            "\u001b[01m\u001b[K./src/detector.c:\u001b[m\u001b[K In function ‘\u001b[01m\u001b[Kdraw_object\u001b[m\u001b[K’:\n",
            "\u001b[01m\u001b[K./src/detector.c:1867:19:\u001b[m\u001b[K \u001b[01;35m\u001b[Kwarning: \u001b[m\u001b[Kunused variable ‘\u001b[01m\u001b[Kinv_loss\u001b[m\u001b[K’ [\u001b[01;35m\u001b[K-Wunused-variable\u001b[m\u001b[K]\n",
            "             float \u001b[01;35m\u001b[Kinv_loss\u001b[m\u001b[K = 1.0 / max_val_cmp(0.01, avg_loss);\n",
            "                   \u001b[01;35m\u001b[K^~~~~~~~\u001b[m\u001b[K\n",
            "gcc -Iinclude/ -I3rdparty/stb/include -DOPENCV `pkg-config --cflags opencv4 2> /dev/null || pkg-config --cflags opencv` -DGPU -I/usr/local/cuda/include/ -DCUDNN -Wall -Wfatal-errors -Wno-unused-result -Wno-unknown-pragmas -fPIC -Ofast -DOPENCV -DGPU -DCUDNN -I/usr/local/cudnn/include -c ./src/layer.c -o obj/layer.o\n",
            "\u001b[01m\u001b[K./src/layer.c:\u001b[m\u001b[K In function ‘\u001b[01m\u001b[Kfree_layer_custom\u001b[m\u001b[K’:\n",
            "\u001b[01m\u001b[K./src/layer.c:208:68:\u001b[m\u001b[K \u001b[01;35m\u001b[Kwarning: \u001b[m\u001b[Ksuggest parentheses around ‘\u001b[01m\u001b[K&&\u001b[m\u001b[K’ within ‘\u001b[01m\u001b[K||\u001b[m\u001b[K’ [\u001b[01;35m\u001b[K-Wparentheses\u001b[m\u001b[K]\n",
            "     if (l.delta_gpu && (l.optimized_memory < 1 || \u001b[01;35m\u001b[Kl.keep_delta_gpu && l.optimized_memory < 3\u001b[m\u001b[K)) cuda_free(l.delta_gpu), l.delta_gpu = NULL;\n",
            "                                                   \u001b[01;35m\u001b[K~~~~~~~~~~~~~~~~~^~~~~~~~~~~~~~~~~~~~~~~~~\u001b[m\u001b[K\n",
            "gcc -Iinclude/ -I3rdparty/stb/include -DOPENCV `pkg-config --cflags opencv4 2> /dev/null || pkg-config --cflags opencv` -DGPU -I/usr/local/cuda/include/ -DCUDNN -Wall -Wfatal-errors -Wno-unused-result -Wno-unknown-pragmas -fPIC -Ofast -DOPENCV -DGPU -DCUDNN -I/usr/local/cudnn/include -c ./src/compare.c -o obj/compare.o\n",
            "gcc -Iinclude/ -I3rdparty/stb/include -DOPENCV `pkg-config --cflags opencv4 2> /dev/null || pkg-config --cflags opencv` -DGPU -I/usr/local/cuda/include/ -DCUDNN -Wall -Wfatal-errors -Wno-unused-result -Wno-unknown-pragmas -fPIC -Ofast -DOPENCV -DGPU -DCUDNN -I/usr/local/cudnn/include -c ./src/classifier.c -o obj/classifier.o\n",
            "\u001b[01m\u001b[K./src/classifier.c:\u001b[m\u001b[K In function ‘\u001b[01m\u001b[Ktrain_classifier\u001b[m\u001b[K’:\n",
            "\u001b[01m\u001b[K./src/classifier.c:146:9:\u001b[m\u001b[K \u001b[01;35m\u001b[Kwarning: \u001b[m\u001b[Kunused variable ‘\u001b[01m\u001b[Kcount\u001b[m\u001b[K’ [\u001b[01;35m\u001b[K-Wunused-variable\u001b[m\u001b[K]\n",
            "     int \u001b[01;35m\u001b[Kcount\u001b[m\u001b[K = 0;\n",
            "         \u001b[01;35m\u001b[K^~~~~\u001b[m\u001b[K\n",
            "\u001b[01m\u001b[K./src/classifier.c:\u001b[m\u001b[K In function ‘\u001b[01m\u001b[Kpredict_classifier\u001b[m\u001b[K’:\n",
            "\u001b[01m\u001b[K./src/classifier.c:855:13:\u001b[m\u001b[K \u001b[01;35m\u001b[Kwarning: \u001b[m\u001b[Kunused variable ‘\u001b[01m\u001b[Ktime\u001b[m\u001b[K’ [\u001b[01;35m\u001b[K-Wunused-variable\u001b[m\u001b[K]\n",
            "     clock_t \u001b[01;35m\u001b[Ktime\u001b[m\u001b[K;\n",
            "             \u001b[01;35m\u001b[K^~~~\u001b[m\u001b[K\n",
            "\u001b[01m\u001b[K./src/classifier.c:\u001b[m\u001b[K In function ‘\u001b[01m\u001b[Kdemo_classifier\u001b[m\u001b[K’:\n",
            "\u001b[01m\u001b[K./src/classifier.c:1287:49:\u001b[m\u001b[K \u001b[01;35m\u001b[Kwarning: \u001b[m\u001b[Kunused variable ‘\u001b[01m\u001b[Ktval_result\u001b[m\u001b[K’ [\u001b[01;35m\u001b[K-Wunused-variable\u001b[m\u001b[K]\n",
            "         struct timeval tval_before, tval_after, \u001b[01;35m\u001b[Ktval_result\u001b[m\u001b[K;\n",
            "                                                 \u001b[01;35m\u001b[K^~~~~~~~~~~\u001b[m\u001b[K\n",
            "\u001b[01m\u001b[K./src/classifier.c:1287:37:\u001b[m\u001b[K \u001b[01;35m\u001b[Kwarning: \u001b[m\u001b[Kunused variable ‘\u001b[01m\u001b[Ktval_after\u001b[m\u001b[K’ [\u001b[01;35m\u001b[K-Wunused-variable\u001b[m\u001b[K]\n",
            "         struct timeval tval_before, \u001b[01;35m\u001b[Ktval_after\u001b[m\u001b[K, tval_result;\n",
            "                                     \u001b[01;35m\u001b[K^~~~~~~~~~\u001b[m\u001b[K\n",
            "gcc -Iinclude/ -I3rdparty/stb/include -DOPENCV `pkg-config --cflags opencv4 2> /dev/null || pkg-config --cflags opencv` -DGPU -I/usr/local/cuda/include/ -DCUDNN -Wall -Wfatal-errors -Wno-unused-result -Wno-unknown-pragmas -fPIC -Ofast -DOPENCV -DGPU -DCUDNN -I/usr/local/cudnn/include -c ./src/local_layer.c -o obj/local_layer.o\n",
            "gcc -Iinclude/ -I3rdparty/stb/include -DOPENCV `pkg-config --cflags opencv4 2> /dev/null || pkg-config --cflags opencv` -DGPU -I/usr/local/cuda/include/ -DCUDNN -Wall -Wfatal-errors -Wno-unused-result -Wno-unknown-pragmas -fPIC -Ofast -DOPENCV -DGPU -DCUDNN -I/usr/local/cudnn/include -c ./src/swag.c -o obj/swag.o\n",
            "gcc -Iinclude/ -I3rdparty/stb/include -DOPENCV `pkg-config --cflags opencv4 2> /dev/null || pkg-config --cflags opencv` -DGPU -I/usr/local/cuda/include/ -DCUDNN -Wall -Wfatal-errors -Wno-unused-result -Wno-unknown-pragmas -fPIC -Ofast -DOPENCV -DGPU -DCUDNN -I/usr/local/cudnn/include -c ./src/shortcut_layer.c -o obj/shortcut_layer.o\n",
            "\u001b[01m\u001b[K./src/shortcut_layer.c:\u001b[m\u001b[K In function ‘\u001b[01m\u001b[Kmake_shortcut_layer\u001b[m\u001b[K’:\n",
            "\u001b[01m\u001b[K./src/shortcut_layer.c:55:15:\u001b[m\u001b[K \u001b[01;35m\u001b[Kwarning: \u001b[m\u001b[Kunused variable ‘\u001b[01m\u001b[Kscale\u001b[m\u001b[K’ [\u001b[01;35m\u001b[K-Wunused-variable\u001b[m\u001b[K]\n",
            "         float \u001b[01;35m\u001b[Kscale\u001b[m\u001b[K = sqrt(2. / l.nweights);\n",
            "               \u001b[01;35m\u001b[K^~~~~\u001b[m\u001b[K\n",
            "gcc -Iinclude/ -I3rdparty/stb/include -DOPENCV `pkg-config --cflags opencv4 2> /dev/null || pkg-config --cflags opencv` -DGPU -I/usr/local/cuda/include/ -DCUDNN -Wall -Wfatal-errors -Wno-unused-result -Wno-unknown-pragmas -fPIC -Ofast -DOPENCV -DGPU -DCUDNN -I/usr/local/cudnn/include -c ./src/activation_layer.c -o obj/activation_layer.o\n",
            "gcc -Iinclude/ -I3rdparty/stb/include -DOPENCV `pkg-config --cflags opencv4 2> /dev/null || pkg-config --cflags opencv` -DGPU -I/usr/local/cuda/include/ -DCUDNN -Wall -Wfatal-errors -Wno-unused-result -Wno-unknown-pragmas -fPIC -Ofast -DOPENCV -DGPU -DCUDNN -I/usr/local/cudnn/include -c ./src/rnn_layer.c -o obj/rnn_layer.o\n",
            "gcc -Iinclude/ -I3rdparty/stb/include -DOPENCV `pkg-config --cflags opencv4 2> /dev/null || pkg-config --cflags opencv` -DGPU -I/usr/local/cuda/include/ -DCUDNN -Wall -Wfatal-errors -Wno-unused-result -Wno-unknown-pragmas -fPIC -Ofast -DOPENCV -DGPU -DCUDNN -I/usr/local/cudnn/include -c ./src/gru_layer.c -o obj/gru_layer.o\n",
            "gcc -Iinclude/ -I3rdparty/stb/include -DOPENCV `pkg-config --cflags opencv4 2> /dev/null || pkg-config --cflags opencv` -DGPU -I/usr/local/cuda/include/ -DCUDNN -Wall -Wfatal-errors -Wno-unused-result -Wno-unknown-pragmas -fPIC -Ofast -DOPENCV -DGPU -DCUDNN -I/usr/local/cudnn/include -c ./src/rnn.c -o obj/rnn.o\n",
            "gcc -Iinclude/ -I3rdparty/stb/include -DOPENCV `pkg-config --cflags opencv4 2> /dev/null || pkg-config --cflags opencv` -DGPU -I/usr/local/cuda/include/ -DCUDNN -Wall -Wfatal-errors -Wno-unused-result -Wno-unknown-pragmas -fPIC -Ofast -DOPENCV -DGPU -DCUDNN -I/usr/local/cudnn/include -c ./src/rnn_vid.c -o obj/rnn_vid.o\n",
            "gcc -Iinclude/ -I3rdparty/stb/include -DOPENCV `pkg-config --cflags opencv4 2> /dev/null || pkg-config --cflags opencv` -DGPU -I/usr/local/cuda/include/ -DCUDNN -Wall -Wfatal-errors -Wno-unused-result -Wno-unknown-pragmas -fPIC -Ofast -DOPENCV -DGPU -DCUDNN -I/usr/local/cudnn/include -c ./src/crnn_layer.c -o obj/crnn_layer.o\n",
            "gcc -Iinclude/ -I3rdparty/stb/include -DOPENCV `pkg-config --cflags opencv4 2> /dev/null || pkg-config --cflags opencv` -DGPU -I/usr/local/cuda/include/ -DCUDNN -Wall -Wfatal-errors -Wno-unused-result -Wno-unknown-pragmas -fPIC -Ofast -DOPENCV -DGPU -DCUDNN -I/usr/local/cudnn/include -c ./src/demo.c -o obj/demo.o\n",
            "\u001b[01m\u001b[K./src/demo.c:\u001b[m\u001b[K In function ‘\u001b[01m\u001b[Kdetect_in_thread\u001b[m\u001b[K’:\n",
            "\u001b[01m\u001b[K./src/demo.c:98:15:\u001b[m\u001b[K \u001b[01;35m\u001b[Kwarning: \u001b[m\u001b[Kunused variable ‘\u001b[01m\u001b[Kl\u001b[m\u001b[K’ [\u001b[01;35m\u001b[K-Wunused-variable\u001b[m\u001b[K]\n",
            "         layer \u001b[01;35m\u001b[Kl\u001b[m\u001b[K = net.layers[net.n - 1];\n",
            "               \u001b[01;35m\u001b[K^\u001b[m\u001b[K\n",
            "gcc -Iinclude/ -I3rdparty/stb/include -DOPENCV `pkg-config --cflags opencv4 2> /dev/null || pkg-config --cflags opencv` -DGPU -I/usr/local/cuda/include/ -DCUDNN -Wall -Wfatal-errors -Wno-unused-result -Wno-unknown-pragmas -fPIC -Ofast -DOPENCV -DGPU -DCUDNN -I/usr/local/cudnn/include -c ./src/tag.c -o obj/tag.o\n",
            "gcc -Iinclude/ -I3rdparty/stb/include -DOPENCV `pkg-config --cflags opencv4 2> /dev/null || pkg-config --cflags opencv` -DGPU -I/usr/local/cuda/include/ -DCUDNN -Wall -Wfatal-errors -Wno-unused-result -Wno-unknown-pragmas -fPIC -Ofast -DOPENCV -DGPU -DCUDNN -I/usr/local/cudnn/include -c ./src/cifar.c -o obj/cifar.o\n",
            "gcc -Iinclude/ -I3rdparty/stb/include -DOPENCV `pkg-config --cflags opencv4 2> /dev/null || pkg-config --cflags opencv` -DGPU -I/usr/local/cuda/include/ -DCUDNN -Wall -Wfatal-errors -Wno-unused-result -Wno-unknown-pragmas -fPIC -Ofast -DOPENCV -DGPU -DCUDNN -I/usr/local/cudnn/include -c ./src/go.c -o obj/go.o\n",
            "gcc -Iinclude/ -I3rdparty/stb/include -DOPENCV `pkg-config --cflags opencv4 2> /dev/null || pkg-config --cflags opencv` -DGPU -I/usr/local/cuda/include/ -DCUDNN -Wall -Wfatal-errors -Wno-unused-result -Wno-unknown-pragmas -fPIC -Ofast -DOPENCV -DGPU -DCUDNN -I/usr/local/cudnn/include -c ./src/batchnorm_layer.c -o obj/batchnorm_layer.o\n",
            "gcc -Iinclude/ -I3rdparty/stb/include -DOPENCV `pkg-config --cflags opencv4 2> /dev/null || pkg-config --cflags opencv` -DGPU -I/usr/local/cuda/include/ -DCUDNN -Wall -Wfatal-errors -Wno-unused-result -Wno-unknown-pragmas -fPIC -Ofast -DOPENCV -DGPU -DCUDNN -I/usr/local/cudnn/include -c ./src/art.c -o obj/art.o\n",
            "gcc -Iinclude/ -I3rdparty/stb/include -DOPENCV `pkg-config --cflags opencv4 2> /dev/null || pkg-config --cflags opencv` -DGPU -I/usr/local/cuda/include/ -DCUDNN -Wall -Wfatal-errors -Wno-unused-result -Wno-unknown-pragmas -fPIC -Ofast -DOPENCV -DGPU -DCUDNN -I/usr/local/cudnn/include -c ./src/region_layer.c -o obj/region_layer.o\n",
            "\u001b[01m\u001b[K./src/region_layer.c:\u001b[m\u001b[K In function ‘\u001b[01m\u001b[Kresize_region_layer\u001b[m\u001b[K’:\n",
            "\u001b[01m\u001b[K./src/region_layer.c:59:9:\u001b[m\u001b[K \u001b[01;35m\u001b[Kwarning: \u001b[m\u001b[Kunused variable ‘\u001b[01m\u001b[Kold_h\u001b[m\u001b[K’ [\u001b[01;35m\u001b[K-Wunused-variable\u001b[m\u001b[K]\n",
            "     int \u001b[01;35m\u001b[Kold_h\u001b[m\u001b[K = l->h;\n",
            "         \u001b[01;35m\u001b[K^~~~~\u001b[m\u001b[K\n",
            "\u001b[01m\u001b[K./src/region_layer.c:58:9:\u001b[m\u001b[K \u001b[01;35m\u001b[Kwarning: \u001b[m\u001b[Kunused variable ‘\u001b[01m\u001b[Kold_w\u001b[m\u001b[K’ [\u001b[01;35m\u001b[K-Wunused-variable\u001b[m\u001b[K]\n",
            "     int \u001b[01;35m\u001b[Kold_w\u001b[m\u001b[K = l->w;\n",
            "         \u001b[01;35m\u001b[K^~~~~\u001b[m\u001b[K\n",
            "gcc -Iinclude/ -I3rdparty/stb/include -DOPENCV `pkg-config --cflags opencv4 2> /dev/null || pkg-config --cflags opencv` -DGPU -I/usr/local/cuda/include/ -DCUDNN -Wall -Wfatal-errors -Wno-unused-result -Wno-unknown-pragmas -fPIC -Ofast -DOPENCV -DGPU -DCUDNN -I/usr/local/cudnn/include -c ./src/reorg_layer.c -o obj/reorg_layer.o\n",
            "gcc -Iinclude/ -I3rdparty/stb/include -DOPENCV `pkg-config --cflags opencv4 2> /dev/null || pkg-config --cflags opencv` -DGPU -I/usr/local/cuda/include/ -DCUDNN -Wall -Wfatal-errors -Wno-unused-result -Wno-unknown-pragmas -fPIC -Ofast -DOPENCV -DGPU -DCUDNN -I/usr/local/cudnn/include -c ./src/reorg_old_layer.c -o obj/reorg_old_layer.o\n",
            "gcc -Iinclude/ -I3rdparty/stb/include -DOPENCV `pkg-config --cflags opencv4 2> /dev/null || pkg-config --cflags opencv` -DGPU -I/usr/local/cuda/include/ -DCUDNN -Wall -Wfatal-errors -Wno-unused-result -Wno-unknown-pragmas -fPIC -Ofast -DOPENCV -DGPU -DCUDNN -I/usr/local/cudnn/include -c ./src/super.c -o obj/super.o\n",
            "gcc -Iinclude/ -I3rdparty/stb/include -DOPENCV `pkg-config --cflags opencv4 2> /dev/null || pkg-config --cflags opencv` -DGPU -I/usr/local/cuda/include/ -DCUDNN -Wall -Wfatal-errors -Wno-unused-result -Wno-unknown-pragmas -fPIC -Ofast -DOPENCV -DGPU -DCUDNN -I/usr/local/cudnn/include -c ./src/voxel.c -o obj/voxel.o\n",
            "gcc -Iinclude/ -I3rdparty/stb/include -DOPENCV `pkg-config --cflags opencv4 2> /dev/null || pkg-config --cflags opencv` -DGPU -I/usr/local/cuda/include/ -DCUDNN -Wall -Wfatal-errors -Wno-unused-result -Wno-unknown-pragmas -fPIC -Ofast -DOPENCV -DGPU -DCUDNN -I/usr/local/cudnn/include -c ./src/tree.c -o obj/tree.o\n",
            "gcc -Iinclude/ -I3rdparty/stb/include -DOPENCV `pkg-config --cflags opencv4 2> /dev/null || pkg-config --cflags opencv` -DGPU -I/usr/local/cuda/include/ -DCUDNN -Wall -Wfatal-errors -Wno-unused-result -Wno-unknown-pragmas -fPIC -Ofast -DOPENCV -DGPU -DCUDNN -I/usr/local/cudnn/include -c ./src/yolo_layer.c -o obj/yolo_layer.o\n",
            "\u001b[01m\u001b[K./src/yolo_layer.c:\u001b[m\u001b[K In function ‘\u001b[01m\u001b[Kmake_yolo_layer\u001b[m\u001b[K’:\n",
            "\u001b[01m\u001b[K./src/yolo_layer.c:68:38:\u001b[m\u001b[K \u001b[01;35m\u001b[Kwarning: \u001b[m\u001b[Kpassing argument 1 of ‘\u001b[01m\u001b[KcudaHostAlloc\u001b[m\u001b[K’ from incompatible pointer type [\u001b[01;35m\u001b[K-Wincompatible-pointer-types\u001b[m\u001b[K]\n",
            "     if (cudaSuccess == cudaHostAlloc(\u001b[01;35m\u001b[K&\u001b[m\u001b[Kl.output, batch*l.outputs*sizeof(float), cudaHostRegisterMapped)) l.output_pinned = 1;\n",
            "                                      \u001b[01;35m\u001b[K^\u001b[m\u001b[K\n",
            "In file included from \u001b[01m\u001b[K/usr/local/cuda/include/cuda_runtime.h:96:0\u001b[m\u001b[K,\n",
            "                 from \u001b[01m\u001b[Kinclude/darknet.h:41\u001b[m\u001b[K,\n",
            "                 from \u001b[01m\u001b[K./src/activations.h:3\u001b[m\u001b[K,\n",
            "                 from \u001b[01m\u001b[K./src/layer.h:4\u001b[m\u001b[K,\n",
            "                 from \u001b[01m\u001b[K./src/yolo_layer.h:5\u001b[m\u001b[K,\n",
            "                 from \u001b[01m\u001b[K./src/yolo_layer.c:1\u001b[m\u001b[K:\n",
            "\u001b[01m\u001b[K/usr/local/cuda/include/cuda_runtime_api.h:4707:39:\u001b[m\u001b[K \u001b[01;36m\u001b[Knote: \u001b[m\u001b[Kexpected ‘\u001b[01m\u001b[Kvoid **\u001b[m\u001b[K’ but argument is of type ‘\u001b[01m\u001b[Kfloat **\u001b[m\u001b[K’\n",
            " extern __host__ cudaError_t CUDARTAPI \u001b[01;36m\u001b[KcudaHostAlloc\u001b[m\u001b[K(void **pHost, size_t size, unsigned int flags);\n",
            "                                       \u001b[01;36m\u001b[K^~~~~~~~~~~~~\u001b[m\u001b[K\n",
            "\u001b[01m\u001b[K./src/yolo_layer.c:75:38:\u001b[m\u001b[K \u001b[01;35m\u001b[Kwarning: \u001b[m\u001b[Kpassing argument 1 of ‘\u001b[01m\u001b[KcudaHostAlloc\u001b[m\u001b[K’ from incompatible pointer type [\u001b[01;35m\u001b[K-Wincompatible-pointer-types\u001b[m\u001b[K]\n",
            "     if (cudaSuccess == cudaHostAlloc(\u001b[01;35m\u001b[K&\u001b[m\u001b[Kl.delta, batch*l.outputs*sizeof(float), cudaHostRegisterMapped)) l.delta_pinned = 1;\n",
            "                                      \u001b[01;35m\u001b[K^\u001b[m\u001b[K\n",
            "In file included from \u001b[01m\u001b[K/usr/local/cuda/include/cuda_runtime.h:96:0\u001b[m\u001b[K,\n",
            "                 from \u001b[01m\u001b[Kinclude/darknet.h:41\u001b[m\u001b[K,\n",
            "                 from \u001b[01m\u001b[K./src/activations.h:3\u001b[m\u001b[K,\n",
            "                 from \u001b[01m\u001b[K./src/layer.h:4\u001b[m\u001b[K,\n",
            "                 from \u001b[01m\u001b[K./src/yolo_layer.h:5\u001b[m\u001b[K,\n",
            "                 from \u001b[01m\u001b[K./src/yolo_layer.c:1\u001b[m\u001b[K:\n",
            "\u001b[01m\u001b[K/usr/local/cuda/include/cuda_runtime_api.h:4707:39:\u001b[m\u001b[K \u001b[01;36m\u001b[Knote: \u001b[m\u001b[Kexpected ‘\u001b[01m\u001b[Kvoid **\u001b[m\u001b[K’ but argument is of type ‘\u001b[01m\u001b[Kfloat **\u001b[m\u001b[K’\n",
            " extern __host__ cudaError_t CUDARTAPI \u001b[01;36m\u001b[KcudaHostAlloc\u001b[m\u001b[K(void **pHost, size_t size, unsigned int flags);\n",
            "                                       \u001b[01;36m\u001b[K^~~~~~~~~~~~~\u001b[m\u001b[K\n",
            "\u001b[01m\u001b[K./src/yolo_layer.c:\u001b[m\u001b[K In function ‘\u001b[01m\u001b[Kresize_yolo_layer\u001b[m\u001b[K’:\n",
            "\u001b[01m\u001b[K./src/yolo_layer.c:106:42:\u001b[m\u001b[K \u001b[01;35m\u001b[Kwarning: \u001b[m\u001b[Kpassing argument 1 of ‘\u001b[01m\u001b[KcudaHostAlloc\u001b[m\u001b[K’ from incompatible pointer type [\u001b[01;35m\u001b[K-Wincompatible-pointer-types\u001b[m\u001b[K]\n",
            "         if (cudaSuccess != cudaHostAlloc(\u001b[01;35m\u001b[K&\u001b[m\u001b[Kl->output, l->batch*l->outputs * sizeof(float), cudaHostRegisterMapped)) {\n",
            "                                          \u001b[01;35m\u001b[K^\u001b[m\u001b[K\n",
            "In file included from \u001b[01m\u001b[K/usr/local/cuda/include/cuda_runtime.h:96:0\u001b[m\u001b[K,\n",
            "                 from \u001b[01m\u001b[Kinclude/darknet.h:41\u001b[m\u001b[K,\n",
            "                 from \u001b[01m\u001b[K./src/activations.h:3\u001b[m\u001b[K,\n",
            "                 from \u001b[01m\u001b[K./src/layer.h:4\u001b[m\u001b[K,\n",
            "                 from \u001b[01m\u001b[K./src/yolo_layer.h:5\u001b[m\u001b[K,\n",
            "                 from \u001b[01m\u001b[K./src/yolo_layer.c:1\u001b[m\u001b[K:\n",
            "\u001b[01m\u001b[K/usr/local/cuda/include/cuda_runtime_api.h:4707:39:\u001b[m\u001b[K \u001b[01;36m\u001b[Knote: \u001b[m\u001b[Kexpected ‘\u001b[01m\u001b[Kvoid **\u001b[m\u001b[K’ but argument is of type ‘\u001b[01m\u001b[Kfloat **\u001b[m\u001b[K’\n",
            " extern __host__ cudaError_t CUDARTAPI \u001b[01;36m\u001b[KcudaHostAlloc\u001b[m\u001b[K(void **pHost, size_t size, unsigned int flags);\n",
            "                                       \u001b[01;36m\u001b[K^~~~~~~~~~~~~\u001b[m\u001b[K\n",
            "\u001b[01m\u001b[K./src/yolo_layer.c:115:42:\u001b[m\u001b[K \u001b[01;35m\u001b[Kwarning: \u001b[m\u001b[Kpassing argument 1 of ‘\u001b[01m\u001b[KcudaHostAlloc\u001b[m\u001b[K’ from incompatible pointer type [\u001b[01;35m\u001b[K-Wincompatible-pointer-types\u001b[m\u001b[K]\n",
            "         if (cudaSuccess != cudaHostAlloc(\u001b[01;35m\u001b[K&\u001b[m\u001b[Kl->delta, l->batch*l->outputs * sizeof(float), cudaHostRegisterMapped)) {\n",
            "                                          \u001b[01;35m\u001b[K^\u001b[m\u001b[K\n",
            "In file included from \u001b[01m\u001b[K/usr/local/cuda/include/cuda_runtime.h:96:0\u001b[m\u001b[K,\n",
            "                 from \u001b[01m\u001b[Kinclude/darknet.h:41\u001b[m\u001b[K,\n",
            "                 from \u001b[01m\u001b[K./src/activations.h:3\u001b[m\u001b[K,\n",
            "                 from \u001b[01m\u001b[K./src/layer.h:4\u001b[m\u001b[K,\n",
            "                 from \u001b[01m\u001b[K./src/yolo_layer.h:5\u001b[m\u001b[K,\n",
            "                 from \u001b[01m\u001b[K./src/yolo_layer.c:1\u001b[m\u001b[K:\n",
            "\u001b[01m\u001b[K/usr/local/cuda/include/cuda_runtime_api.h:4707:39:\u001b[m\u001b[K \u001b[01;36m\u001b[Knote: \u001b[m\u001b[Kexpected ‘\u001b[01m\u001b[Kvoid **\u001b[m\u001b[K’ but argument is of type ‘\u001b[01m\u001b[Kfloat **\u001b[m\u001b[K’\n",
            " extern __host__ cudaError_t CUDARTAPI \u001b[01;36m\u001b[KcudaHostAlloc\u001b[m\u001b[K(void **pHost, size_t size, unsigned int flags);\n",
            "                                       \u001b[01;36m\u001b[K^~~~~~~~~~~~~\u001b[m\u001b[K\n",
            "\u001b[01m\u001b[K./src/yolo_layer.c:\u001b[m\u001b[K In function ‘\u001b[01m\u001b[Kprocess_batch\u001b[m\u001b[K’:\n",
            "\u001b[01m\u001b[K./src/yolo_layer.c:426:25:\u001b[m\u001b[K \u001b[01;35m\u001b[Kwarning: \u001b[m\u001b[Kvariable ‘\u001b[01m\u001b[Kbest_match_t\u001b[m\u001b[K’ set but not used [\u001b[01;35m\u001b[K-Wunused-but-set-variable\u001b[m\u001b[K]\n",
            "                     int \u001b[01;35m\u001b[Kbest_match_t\u001b[m\u001b[K = 0;\n",
            "                         \u001b[01;35m\u001b[K^~~~~~~~~~~~\u001b[m\u001b[K\n",
            "\u001b[01m\u001b[K./src/yolo_layer.c:\u001b[m\u001b[K In function ‘\u001b[01m\u001b[Kforward_yolo_layer\u001b[m\u001b[K’:\n",
            "\u001b[01m\u001b[K./src/yolo_layer.c:707:11:\u001b[m\u001b[K \u001b[01;35m\u001b[Kwarning: \u001b[m\u001b[Kunused variable ‘\u001b[01m\u001b[Kavg_anyobj\u001b[m\u001b[K’ [\u001b[01;35m\u001b[K-Wunused-variable\u001b[m\u001b[K]\n",
            "     float \u001b[01;35m\u001b[Kavg_anyobj\u001b[m\u001b[K = 0;\n",
            "           \u001b[01;35m\u001b[K^~~~~~~~~~\u001b[m\u001b[K\n",
            "\u001b[01m\u001b[K./src/yolo_layer.c:706:11:\u001b[m\u001b[K \u001b[01;35m\u001b[Kwarning: \u001b[m\u001b[Kunused variable ‘\u001b[01m\u001b[Kavg_obj\u001b[m\u001b[K’ [\u001b[01;35m\u001b[K-Wunused-variable\u001b[m\u001b[K]\n",
            "     float \u001b[01;35m\u001b[Kavg_obj\u001b[m\u001b[K = 0;\n",
            "           \u001b[01;35m\u001b[K^~~~~~~\u001b[m\u001b[K\n",
            "\u001b[01m\u001b[K./src/yolo_layer.c:705:11:\u001b[m\u001b[K \u001b[01;35m\u001b[Kwarning: \u001b[m\u001b[Kunused variable ‘\u001b[01m\u001b[Kavg_cat\u001b[m\u001b[K’ [\u001b[01;35m\u001b[K-Wunused-variable\u001b[m\u001b[K]\n",
            "     float \u001b[01;35m\u001b[Kavg_cat\u001b[m\u001b[K = 0;\n",
            "           \u001b[01;35m\u001b[K^~~~~~~\u001b[m\u001b[K\n",
            "\u001b[01m\u001b[K./src/yolo_layer.c:704:11:\u001b[m\u001b[K \u001b[01;35m\u001b[Kwarning: \u001b[m\u001b[Kunused variable ‘\u001b[01m\u001b[Krecall75\u001b[m\u001b[K’ [\u001b[01;35m\u001b[K-Wunused-variable\u001b[m\u001b[K]\n",
            "     float \u001b[01;35m\u001b[Krecall75\u001b[m\u001b[K = 0;\n",
            "           \u001b[01;35m\u001b[K^~~~~~~~\u001b[m\u001b[K\n",
            "\u001b[01m\u001b[K./src/yolo_layer.c:703:11:\u001b[m\u001b[K \u001b[01;35m\u001b[Kwarning: \u001b[m\u001b[Kunused variable ‘\u001b[01m\u001b[Krecall\u001b[m\u001b[K’ [\u001b[01;35m\u001b[K-Wunused-variable\u001b[m\u001b[K]\n",
            "     float \u001b[01;35m\u001b[Krecall\u001b[m\u001b[K = 0;\n",
            "           \u001b[01;35m\u001b[K^~~~~~\u001b[m\u001b[K\n",
            "\u001b[01m\u001b[K./src/yolo_layer.c:702:11:\u001b[m\u001b[K \u001b[01;35m\u001b[Kwarning: \u001b[m\u001b[Kunused variable ‘\u001b[01m\u001b[Ktot_ciou_loss\u001b[m\u001b[K’ [\u001b[01;35m\u001b[K-Wunused-variable\u001b[m\u001b[K]\n",
            "     float \u001b[01;35m\u001b[Ktot_ciou_loss\u001b[m\u001b[K = 0;\n",
            "           \u001b[01;35m\u001b[K^~~~~~~~~~~~~\u001b[m\u001b[K\n",
            "\u001b[01m\u001b[K./src/yolo_layer.c:701:11:\u001b[m\u001b[K \u001b[01;35m\u001b[Kwarning: \u001b[m\u001b[Kunused variable ‘\u001b[01m\u001b[Ktot_diou_loss\u001b[m\u001b[K’ [\u001b[01;35m\u001b[K-Wunused-variable\u001b[m\u001b[K]\n",
            "     float \u001b[01;35m\u001b[Ktot_diou_loss\u001b[m\u001b[K = 0;\n",
            "           \u001b[01;35m\u001b[K^~~~~~~~~~~~~\u001b[m\u001b[K\n",
            "\u001b[01m\u001b[K./src/yolo_layer.c:698:11:\u001b[m\u001b[K \u001b[01;35m\u001b[Kwarning: \u001b[m\u001b[Kunused variable ‘\u001b[01m\u001b[Ktot_ciou\u001b[m\u001b[K’ [\u001b[01;35m\u001b[K-Wunused-variable\u001b[m\u001b[K]\n",
            "     float \u001b[01;35m\u001b[Ktot_ciou\u001b[m\u001b[K = 0;\n",
            "           \u001b[01;35m\u001b[K^~~~~~~~\u001b[m\u001b[K\n",
            "\u001b[01m\u001b[K./src/yolo_layer.c:697:11:\u001b[m\u001b[K \u001b[01;35m\u001b[Kwarning: \u001b[m\u001b[Kunused variable ‘\u001b[01m\u001b[Ktot_diou\u001b[m\u001b[K’ [\u001b[01;35m\u001b[K-Wunused-variable\u001b[m\u001b[K]\n",
            "     float \u001b[01;35m\u001b[Ktot_diou\u001b[m\u001b[K = 0;\n",
            "           \u001b[01;35m\u001b[K^~~~~~~~\u001b[m\u001b[K\n",
            "\u001b[01m\u001b[K./src/yolo_layer.c:696:11:\u001b[m\u001b[K \u001b[01;35m\u001b[Kwarning: \u001b[m\u001b[Kunused variable ‘\u001b[01m\u001b[Ktot_giou\u001b[m\u001b[K’ [\u001b[01;35m\u001b[K-Wunused-variable\u001b[m\u001b[K]\n",
            "     float \u001b[01;35m\u001b[Ktot_giou\u001b[m\u001b[K = 0;\n",
            "           \u001b[01;35m\u001b[K^~~~~~~~\u001b[m\u001b[K\n",
            "\u001b[01m\u001b[K./src/yolo_layer.c:668:12:\u001b[m\u001b[K \u001b[01;35m\u001b[Kwarning: \u001b[m\u001b[Kunused variable ‘\u001b[01m\u001b[Kn\u001b[m\u001b[K’ [\u001b[01;35m\u001b[K-Wunused-variable\u001b[m\u001b[K]\n",
            "     int b, \u001b[01;35m\u001b[Kn\u001b[m\u001b[K;\n",
            "            \u001b[01;35m\u001b[K^\u001b[m\u001b[K\n",
            "gcc -Iinclude/ -I3rdparty/stb/include -DOPENCV `pkg-config --cflags opencv4 2> /dev/null || pkg-config --cflags opencv` -DGPU -I/usr/local/cuda/include/ -DCUDNN -Wall -Wfatal-errors -Wno-unused-result -Wno-unknown-pragmas -fPIC -Ofast -DOPENCV -DGPU -DCUDNN -I/usr/local/cudnn/include -c ./src/gaussian_yolo_layer.c -o obj/gaussian_yolo_layer.o\n",
            "\u001b[01m\u001b[K./src/gaussian_yolo_layer.c:\u001b[m\u001b[K In function ‘\u001b[01m\u001b[Kmake_gaussian_yolo_layer\u001b[m\u001b[K’:\n",
            "\u001b[01m\u001b[K./src/gaussian_yolo_layer.c:72:38:\u001b[m\u001b[K \u001b[01;35m\u001b[Kwarning: \u001b[m\u001b[Kpassing argument 1 of ‘\u001b[01m\u001b[KcudaHostAlloc\u001b[m\u001b[K’ from incompatible pointer type [\u001b[01;35m\u001b[K-Wincompatible-pointer-types\u001b[m\u001b[K]\n",
            "     if (cudaSuccess == cudaHostAlloc(\u001b[01;35m\u001b[K&\u001b[m\u001b[Kl.output, batch*l.outputs * sizeof(float), cudaHostRegisterMapped)) l.output_pinned = 1;\n",
            "                                      \u001b[01;35m\u001b[K^\u001b[m\u001b[K\n",
            "In file included from \u001b[01m\u001b[K/usr/local/cuda/include/cuda_runtime.h:96:0\u001b[m\u001b[K,\n",
            "                 from \u001b[01m\u001b[Kinclude/darknet.h:41\u001b[m\u001b[K,\n",
            "                 from \u001b[01m\u001b[K./src/gaussian_yolo_layer.h:5\u001b[m\u001b[K,\n",
            "                 from \u001b[01m\u001b[K./src/gaussian_yolo_layer.c:7\u001b[m\u001b[K:\n",
            "\u001b[01m\u001b[K/usr/local/cuda/include/cuda_runtime_api.h:4707:39:\u001b[m\u001b[K \u001b[01;36m\u001b[Knote: \u001b[m\u001b[Kexpected ‘\u001b[01m\u001b[Kvoid **\u001b[m\u001b[K’ but argument is of type ‘\u001b[01m\u001b[Kfloat **\u001b[m\u001b[K’\n",
            " extern __host__ cudaError_t CUDARTAPI \u001b[01;36m\u001b[KcudaHostAlloc\u001b[m\u001b[K(void **pHost, size_t size, unsigned int flags);\n",
            "                                       \u001b[01;36m\u001b[K^~~~~~~~~~~~~\u001b[m\u001b[K\n",
            "\u001b[01m\u001b[K./src/gaussian_yolo_layer.c:79:38:\u001b[m\u001b[K \u001b[01;35m\u001b[Kwarning: \u001b[m\u001b[Kpassing argument 1 of ‘\u001b[01m\u001b[KcudaHostAlloc\u001b[m\u001b[K’ from incompatible pointer type [\u001b[01;35m\u001b[K-Wincompatible-pointer-types\u001b[m\u001b[K]\n",
            "     if (cudaSuccess == cudaHostAlloc(\u001b[01;35m\u001b[K&\u001b[m\u001b[Kl.delta, batch*l.outputs * sizeof(float), cudaHostRegisterMapped)) l.delta_pinned = 1;\n",
            "                                      \u001b[01;35m\u001b[K^\u001b[m\u001b[K\n",
            "In file included from \u001b[01m\u001b[K/usr/local/cuda/include/cuda_runtime.h:96:0\u001b[m\u001b[K,\n",
            "                 from \u001b[01m\u001b[Kinclude/darknet.h:41\u001b[m\u001b[K,\n",
            "                 from \u001b[01m\u001b[K./src/gaussian_yolo_layer.h:5\u001b[m\u001b[K,\n",
            "                 from \u001b[01m\u001b[K./src/gaussian_yolo_layer.c:7\u001b[m\u001b[K:\n",
            "\u001b[01m\u001b[K/usr/local/cuda/include/cuda_runtime_api.h:4707:39:\u001b[m\u001b[K \u001b[01;36m\u001b[Knote: \u001b[m\u001b[Kexpected ‘\u001b[01m\u001b[Kvoid **\u001b[m\u001b[K’ but argument is of type ‘\u001b[01m\u001b[Kfloat **\u001b[m\u001b[K’\n",
            " extern __host__ cudaError_t CUDARTAPI \u001b[01;36m\u001b[KcudaHostAlloc\u001b[m\u001b[K(void **pHost, size_t size, unsigned int flags);\n",
            "                                       \u001b[01;36m\u001b[K^~~~~~~~~~~~~\u001b[m\u001b[K\n",
            "\u001b[01m\u001b[K./src/gaussian_yolo_layer.c:\u001b[m\u001b[K In function ‘\u001b[01m\u001b[Kresize_gaussian_yolo_layer\u001b[m\u001b[K’:\n",
            "\u001b[01m\u001b[K./src/gaussian_yolo_layer.c:111:42:\u001b[m\u001b[K \u001b[01;35m\u001b[Kwarning: \u001b[m\u001b[Kpassing argument 1 of ‘\u001b[01m\u001b[KcudaHostAlloc\u001b[m\u001b[K’ from incompatible pointer type [\u001b[01;35m\u001b[K-Wincompatible-pointer-types\u001b[m\u001b[K]\n",
            "         if (cudaSuccess != cudaHostAlloc(\u001b[01;35m\u001b[K&\u001b[m\u001b[Kl->output, l->batch*l->outputs * sizeof(float), cudaHostRegisterMapped)) {\n",
            "                                          \u001b[01;35m\u001b[K^\u001b[m\u001b[K\n",
            "In file included from \u001b[01m\u001b[K/usr/local/cuda/include/cuda_runtime.h:96:0\u001b[m\u001b[K,\n",
            "                 from \u001b[01m\u001b[Kinclude/darknet.h:41\u001b[m\u001b[K,\n",
            "                 from \u001b[01m\u001b[K./src/gaussian_yolo_layer.h:5\u001b[m\u001b[K,\n",
            "                 from \u001b[01m\u001b[K./src/gaussian_yolo_layer.c:7\u001b[m\u001b[K:\n",
            "\u001b[01m\u001b[K/usr/local/cuda/include/cuda_runtime_api.h:4707:39:\u001b[m\u001b[K \u001b[01;36m\u001b[Knote: \u001b[m\u001b[Kexpected ‘\u001b[01m\u001b[Kvoid **\u001b[m\u001b[K’ but argument is of type ‘\u001b[01m\u001b[Kfloat **\u001b[m\u001b[K’\n",
            " extern __host__ cudaError_t CUDARTAPI \u001b[01;36m\u001b[KcudaHostAlloc\u001b[m\u001b[K(void **pHost, size_t size, unsigned int flags);\n",
            "                                       \u001b[01;36m\u001b[K^~~~~~~~~~~~~\u001b[m\u001b[K\n",
            "\u001b[01m\u001b[K./src/gaussian_yolo_layer.c:120:42:\u001b[m\u001b[K \u001b[01;35m\u001b[Kwarning: \u001b[m\u001b[Kpassing argument 1 of ‘\u001b[01m\u001b[KcudaHostAlloc\u001b[m\u001b[K’ from incompatible pointer type [\u001b[01;35m\u001b[K-Wincompatible-pointer-types\u001b[m\u001b[K]\n",
            "         if (cudaSuccess != cudaHostAlloc(\u001b[01;35m\u001b[K&\u001b[m\u001b[Kl->delta, l->batch*l->outputs * sizeof(float), cudaHostRegisterMapped)) {\n",
            "                                          \u001b[01;35m\u001b[K^\u001b[m\u001b[K\n",
            "In file included from \u001b[01m\u001b[K/usr/local/cuda/include/cuda_runtime.h:96:0\u001b[m\u001b[K,\n",
            "                 from \u001b[01m\u001b[Kinclude/darknet.h:41\u001b[m\u001b[K,\n",
            "                 from \u001b[01m\u001b[K./src/gaussian_yolo_layer.h:5\u001b[m\u001b[K,\n",
            "                 from \u001b[01m\u001b[K./src/gaussian_yolo_layer.c:7\u001b[m\u001b[K:\n",
            "\u001b[01m\u001b[K/usr/local/cuda/include/cuda_runtime_api.h:4707:39:\u001b[m\u001b[K \u001b[01;36m\u001b[Knote: \u001b[m\u001b[Kexpected ‘\u001b[01m\u001b[Kvoid **\u001b[m\u001b[K’ but argument is of type ‘\u001b[01m\u001b[Kfloat **\u001b[m\u001b[K’\n",
            " extern __host__ cudaError_t CUDARTAPI \u001b[01;36m\u001b[KcudaHostAlloc\u001b[m\u001b[K(void **pHost, size_t size, unsigned int flags);\n",
            "                                       \u001b[01;36m\u001b[K^~~~~~~~~~~~~\u001b[m\u001b[K\n",
            "gcc -Iinclude/ -I3rdparty/stb/include -DOPENCV `pkg-config --cflags opencv4 2> /dev/null || pkg-config --cflags opencv` -DGPU -I/usr/local/cuda/include/ -DCUDNN -Wall -Wfatal-errors -Wno-unused-result -Wno-unknown-pragmas -fPIC -Ofast -DOPENCV -DGPU -DCUDNN -I/usr/local/cudnn/include -c ./src/upsample_layer.c -o obj/upsample_layer.o\n",
            "gcc -Iinclude/ -I3rdparty/stb/include -DOPENCV `pkg-config --cflags opencv4 2> /dev/null || pkg-config --cflags opencv` -DGPU -I/usr/local/cuda/include/ -DCUDNN -Wall -Wfatal-errors -Wno-unused-result -Wno-unknown-pragmas -fPIC -Ofast -DOPENCV -DGPU -DCUDNN -I/usr/local/cudnn/include -c ./src/lstm_layer.c -o obj/lstm_layer.o\n",
            "gcc -Iinclude/ -I3rdparty/stb/include -DOPENCV `pkg-config --cflags opencv4 2> /dev/null || pkg-config --cflags opencv` -DGPU -I/usr/local/cuda/include/ -DCUDNN -Wall -Wfatal-errors -Wno-unused-result -Wno-unknown-pragmas -fPIC -Ofast -DOPENCV -DGPU -DCUDNN -I/usr/local/cudnn/include -c ./src/conv_lstm_layer.c -o obj/conv_lstm_layer.o\n",
            "gcc -Iinclude/ -I3rdparty/stb/include -DOPENCV `pkg-config --cflags opencv4 2> /dev/null || pkg-config --cflags opencv` -DGPU -I/usr/local/cuda/include/ -DCUDNN -Wall -Wfatal-errors -Wno-unused-result -Wno-unknown-pragmas -fPIC -Ofast -DOPENCV -DGPU -DCUDNN -I/usr/local/cudnn/include -c ./src/scale_channels_layer.c -o obj/scale_channels_layer.o\n",
            "gcc -Iinclude/ -I3rdparty/stb/include -DOPENCV `pkg-config --cflags opencv4 2> /dev/null || pkg-config --cflags opencv` -DGPU -I/usr/local/cuda/include/ -DCUDNN -Wall -Wfatal-errors -Wno-unused-result -Wno-unknown-pragmas -fPIC -Ofast -DOPENCV -DGPU -DCUDNN -I/usr/local/cudnn/include -c ./src/sam_layer.c -o obj/sam_layer.o\n",
            "nvcc -gencode arch=compute_35,code=sm_35 -gencode arch=compute_50,code=[sm_50,compute_50] -gencode arch=compute_52,code=[sm_52,compute_52] -gencode arch=compute_61,code=[sm_61,compute_61] -Iinclude/ -I3rdparty/stb/include -DOPENCV `pkg-config --cflags opencv4 2> /dev/null || pkg-config --cflags opencv` -DGPU -I/usr/local/cuda/include/ -DCUDNN --compiler-options \"-Wall -Wfatal-errors -Wno-unused-result -Wno-unknown-pragmas -fPIC -Ofast -DOPENCV -DGPU -DCUDNN -I/usr/local/cudnn/include\" -c ./src/convolutional_kernels.cu -o obj/convolutional_kernels.o\n",
            "nvcc warning : The 'compute_35', 'compute_37', 'compute_50', 'sm_35', 'sm_37' and 'sm_50' architectures are deprecated, and may be removed in a future release (Use -Wno-deprecated-gpu-targets to suppress warning).\n",
            "nvcc -gencode arch=compute_35,code=sm_35 -gencode arch=compute_50,code=[sm_50,compute_50] -gencode arch=compute_52,code=[sm_52,compute_52] -gencode arch=compute_61,code=[sm_61,compute_61] -Iinclude/ -I3rdparty/stb/include -DOPENCV `pkg-config --cflags opencv4 2> /dev/null || pkg-config --cflags opencv` -DGPU -I/usr/local/cuda/include/ -DCUDNN --compiler-options \"-Wall -Wfatal-errors -Wno-unused-result -Wno-unknown-pragmas -fPIC -Ofast -DOPENCV -DGPU -DCUDNN -I/usr/local/cudnn/include\" -c ./src/activation_kernels.cu -o obj/activation_kernels.o\n",
            "nvcc warning : The 'compute_35', 'compute_37', 'compute_50', 'sm_35', 'sm_37' and 'sm_50' architectures are deprecated, and may be removed in a future release (Use -Wno-deprecated-gpu-targets to suppress warning).\n",
            "./src/activation_kernels.cu(263): warning: variable \"MISH_THRESHOLD\" was declared but never referenced\n",
            "\n",
            "./src/activation_kernels.cu(263): warning: variable \"MISH_THRESHOLD\" was declared but never referenced\n",
            "\n",
            "./src/activation_kernels.cu(263): warning: variable \"MISH_THRESHOLD\" was declared but never referenced\n",
            "\n",
            "./src/activation_kernels.cu(263): warning: variable \"MISH_THRESHOLD\" was declared but never referenced\n",
            "\n",
            "nvcc -gencode arch=compute_35,code=sm_35 -gencode arch=compute_50,code=[sm_50,compute_50] -gencode arch=compute_52,code=[sm_52,compute_52] -gencode arch=compute_61,code=[sm_61,compute_61] -Iinclude/ -I3rdparty/stb/include -DOPENCV `pkg-config --cflags opencv4 2> /dev/null || pkg-config --cflags opencv` -DGPU -I/usr/local/cuda/include/ -DCUDNN --compiler-options \"-Wall -Wfatal-errors -Wno-unused-result -Wno-unknown-pragmas -fPIC -Ofast -DOPENCV -DGPU -DCUDNN -I/usr/local/cudnn/include\" -c ./src/im2col_kernels.cu -o obj/im2col_kernels.o\n",
            "nvcc warning : The 'compute_35', 'compute_37', 'compute_50', 'sm_35', 'sm_37' and 'sm_50' architectures are deprecated, and may be removed in a future release (Use -Wno-deprecated-gpu-targets to suppress warning).\n",
            "nvcc -gencode arch=compute_35,code=sm_35 -gencode arch=compute_50,code=[sm_50,compute_50] -gencode arch=compute_52,code=[sm_52,compute_52] -gencode arch=compute_61,code=[sm_61,compute_61] -Iinclude/ -I3rdparty/stb/include -DOPENCV `pkg-config --cflags opencv4 2> /dev/null || pkg-config --cflags opencv` -DGPU -I/usr/local/cuda/include/ -DCUDNN --compiler-options \"-Wall -Wfatal-errors -Wno-unused-result -Wno-unknown-pragmas -fPIC -Ofast -DOPENCV -DGPU -DCUDNN -I/usr/local/cudnn/include\" -c ./src/col2im_kernels.cu -o obj/col2im_kernels.o\n",
            "nvcc warning : The 'compute_35', 'compute_37', 'compute_50', 'sm_35', 'sm_37' and 'sm_50' architectures are deprecated, and may be removed in a future release (Use -Wno-deprecated-gpu-targets to suppress warning).\n",
            "nvcc -gencode arch=compute_35,code=sm_35 -gencode arch=compute_50,code=[sm_50,compute_50] -gencode arch=compute_52,code=[sm_52,compute_52] -gencode arch=compute_61,code=[sm_61,compute_61] -Iinclude/ -I3rdparty/stb/include -DOPENCV `pkg-config --cflags opencv4 2> /dev/null || pkg-config --cflags opencv` -DGPU -I/usr/local/cuda/include/ -DCUDNN --compiler-options \"-Wall -Wfatal-errors -Wno-unused-result -Wno-unknown-pragmas -fPIC -Ofast -DOPENCV -DGPU -DCUDNN -I/usr/local/cudnn/include\" -c ./src/blas_kernels.cu -o obj/blas_kernels.o\n",
            "nvcc warning : The 'compute_35', 'compute_37', 'compute_50', 'sm_35', 'sm_37' and 'sm_50' architectures are deprecated, and may be removed in a future release (Use -Wno-deprecated-gpu-targets to suppress warning).\n",
            "./src/blas_kernels.cu(1086): warning: variable \"out_index\" was declared but never referenced\n",
            "\n",
            "./src/blas_kernels.cu(1130): warning: variable \"step\" was set but never used\n",
            "\n",
            "./src/blas_kernels.cu(1736): warning: variable \"stage_id\" was declared but never referenced\n",
            "\n",
            "./src/blas_kernels.cu(1086): warning: variable \"out_index\" was declared but never referenced\n",
            "\n",
            "./src/blas_kernels.cu(1130): warning: variable \"step\" was set but never used\n",
            "\n",
            "./src/blas_kernels.cu(1736): warning: variable \"stage_id\" was declared but never referenced\n",
            "\n",
            "./src/blas_kernels.cu(1086): warning: variable \"out_index\" was declared but never referenced\n",
            "\n",
            "./src/blas_kernels.cu(1130): warning: variable \"step\" was set but never used\n",
            "\n",
            "./src/blas_kernels.cu(1736): warning: variable \"stage_id\" was declared but never referenced\n",
            "\n",
            "./src/blas_kernels.cu(1086): warning: variable \"out_index\" was declared but never referenced\n",
            "\n",
            "./src/blas_kernels.cu(1130): warning: variable \"step\" was set but never used\n",
            "\n",
            "./src/blas_kernels.cu(1736): warning: variable \"stage_id\" was declared but never referenced\n",
            "\n",
            "\u001b[01m\u001b[K./src/blas_kernels.cu:\u001b[m\u001b[K In function ‘\u001b[01m\u001b[Kvoid backward_shortcut_multilayer_gpu(int, int, int, int*, float**, float*, float*, float*, float*, int, float*, float**, WEIGHTS_NORMALIZATION_T)\u001b[m\u001b[K’:\n",
            "\u001b[01m\u001b[K./src/blas_kernels.cu:1130:5:\u001b[m\u001b[K \u001b[01;35m\u001b[Kwarning: \u001b[m\u001b[Kvariable ‘\u001b[01m\u001b[Kstep\u001b[m\u001b[K’ set but not used [\u001b[01;35m\u001b[K-Wunused-but-set-variable\u001b[m\u001b[K]\n",
            "     \u001b[01;35m\u001b[Kint \u001b[m\u001b[Kstep = 0;\n",
            "     \u001b[01;35m\u001b[K^~~~\u001b[m\u001b[K\n",
            "nvcc -gencode arch=compute_35,code=sm_35 -gencode arch=compute_50,code=[sm_50,compute_50] -gencode arch=compute_52,code=[sm_52,compute_52] -gencode arch=compute_61,code=[sm_61,compute_61] -Iinclude/ -I3rdparty/stb/include -DOPENCV `pkg-config --cflags opencv4 2> /dev/null || pkg-config --cflags opencv` -DGPU -I/usr/local/cuda/include/ -DCUDNN --compiler-options \"-Wall -Wfatal-errors -Wno-unused-result -Wno-unknown-pragmas -fPIC -Ofast -DOPENCV -DGPU -DCUDNN -I/usr/local/cudnn/include\" -c ./src/crop_layer_kernels.cu -o obj/crop_layer_kernels.o\n",
            "nvcc warning : The 'compute_35', 'compute_37', 'compute_50', 'sm_35', 'sm_37' and 'sm_50' architectures are deprecated, and may be removed in a future release (Use -Wno-deprecated-gpu-targets to suppress warning).\n",
            "nvcc -gencode arch=compute_35,code=sm_35 -gencode arch=compute_50,code=[sm_50,compute_50] -gencode arch=compute_52,code=[sm_52,compute_52] -gencode arch=compute_61,code=[sm_61,compute_61] -Iinclude/ -I3rdparty/stb/include -DOPENCV `pkg-config --cflags opencv4 2> /dev/null || pkg-config --cflags opencv` -DGPU -I/usr/local/cuda/include/ -DCUDNN --compiler-options \"-Wall -Wfatal-errors -Wno-unused-result -Wno-unknown-pragmas -fPIC -Ofast -DOPENCV -DGPU -DCUDNN -I/usr/local/cudnn/include\" -c ./src/dropout_layer_kernels.cu -o obj/dropout_layer_kernels.o\n",
            "nvcc warning : The 'compute_35', 'compute_37', 'compute_50', 'sm_35', 'sm_37' and 'sm_50' architectures are deprecated, and may be removed in a future release (Use -Wno-deprecated-gpu-targets to suppress warning).\n",
            "nvcc -gencode arch=compute_35,code=sm_35 -gencode arch=compute_50,code=[sm_50,compute_50] -gencode arch=compute_52,code=[sm_52,compute_52] -gencode arch=compute_61,code=[sm_61,compute_61] -Iinclude/ -I3rdparty/stb/include -DOPENCV `pkg-config --cflags opencv4 2> /dev/null || pkg-config --cflags opencv` -DGPU -I/usr/local/cuda/include/ -DCUDNN --compiler-options \"-Wall -Wfatal-errors -Wno-unused-result -Wno-unknown-pragmas -fPIC -Ofast -DOPENCV -DGPU -DCUDNN -I/usr/local/cudnn/include\" -c ./src/maxpool_layer_kernels.cu -o obj/maxpool_layer_kernels.o\n",
            "nvcc warning : The 'compute_35', 'compute_37', 'compute_50', 'sm_35', 'sm_37' and 'sm_50' architectures are deprecated, and may be removed in a future release (Use -Wno-deprecated-gpu-targets to suppress warning).\n",
            "nvcc -gencode arch=compute_35,code=sm_35 -gencode arch=compute_50,code=[sm_50,compute_50] -gencode arch=compute_52,code=[sm_52,compute_52] -gencode arch=compute_61,code=[sm_61,compute_61] -Iinclude/ -I3rdparty/stb/include -DOPENCV `pkg-config --cflags opencv4 2> /dev/null || pkg-config --cflags opencv` -DGPU -I/usr/local/cuda/include/ -DCUDNN --compiler-options \"-Wall -Wfatal-errors -Wno-unused-result -Wno-unknown-pragmas -fPIC -Ofast -DOPENCV -DGPU -DCUDNN -I/usr/local/cudnn/include\" -c ./src/network_kernels.cu -o obj/network_kernels.o\n",
            "nvcc warning : The 'compute_35', 'compute_37', 'compute_50', 'sm_35', 'sm_37' and 'sm_50' architectures are deprecated, and may be removed in a future release (Use -Wno-deprecated-gpu-targets to suppress warning).\n",
            "./src/network_kernels.cu(364): warning: variable \"l\" was declared but never referenced\n",
            "\n",
            "./src/network_kernels.cu(364): warning: variable \"l\" was declared but never referenced\n",
            "\n",
            "./src/network_kernels.cu(364): warning: variable \"l\" was declared but never referenced\n",
            "\n",
            "./src/network_kernels.cu(364): warning: variable \"l\" was declared but never referenced\n",
            "\n",
            "\u001b[01m\u001b[K./src/network_kernels.cu:\u001b[m\u001b[K In function ‘\u001b[01m\u001b[Kfloat train_network_datum_gpu(network, float*, float*)\u001b[m\u001b[K’:\n",
            "\u001b[01m\u001b[K./src/network_kernels.cu:364:7:\u001b[m\u001b[K \u001b[01;35m\u001b[Kwarning: \u001b[m\u001b[Kvariable ‘\u001b[01m\u001b[Kl\u001b[m\u001b[K’ set but not used [\u001b[01;35m\u001b[K-Wunused-but-set-variable\u001b[m\u001b[K]\n",
            "       \u001b[01;35m\u001b[K \u001b[m\u001b[K layer l = net.layers[net.n - 1];\n",
            "       \u001b[01;35m\u001b[K^\u001b[m\u001b[K\n",
            "nvcc -gencode arch=compute_35,code=sm_35 -gencode arch=compute_50,code=[sm_50,compute_50] -gencode arch=compute_52,code=[sm_52,compute_52] -gencode arch=compute_61,code=[sm_61,compute_61] -Iinclude/ -I3rdparty/stb/include -DOPENCV `pkg-config --cflags opencv4 2> /dev/null || pkg-config --cflags opencv` -DGPU -I/usr/local/cuda/include/ -DCUDNN --compiler-options \"-Wall -Wfatal-errors -Wno-unused-result -Wno-unknown-pragmas -fPIC -Ofast -DOPENCV -DGPU -DCUDNN -I/usr/local/cudnn/include\" -c ./src/avgpool_layer_kernels.cu -o obj/avgpool_layer_kernels.o\n",
            "nvcc warning : The 'compute_35', 'compute_37', 'compute_50', 'sm_35', 'sm_37' and 'sm_50' architectures are deprecated, and may be removed in a future release (Use -Wno-deprecated-gpu-targets to suppress warning).\n",
            "g++ -std=c++11 -std=c++11 -Iinclude/ -I3rdparty/stb/include -DOPENCV `pkg-config --cflags opencv4 2> /dev/null || pkg-config --cflags opencv` -DGPU -I/usr/local/cuda/include/ -DCUDNN -Wall -Wfatal-errors -Wno-unused-result -Wno-unknown-pragmas -fPIC -Ofast -DOPENCV -DGPU -DCUDNN -I/usr/local/cudnn/include obj/image_opencv.o obj/http_stream.o obj/gemm.o obj/utils.o obj/dark_cuda.o obj/convolutional_layer.o obj/list.o obj/image.o obj/activations.o obj/im2col.o obj/col2im.o obj/blas.o obj/crop_layer.o obj/dropout_layer.o obj/maxpool_layer.o obj/softmax_layer.o obj/data.o obj/matrix.o obj/network.o obj/connected_layer.o obj/cost_layer.o obj/parser.o obj/option_list.o obj/darknet.o obj/detection_layer.o obj/captcha.o obj/route_layer.o obj/writing.o obj/box.o obj/nightmare.o obj/normalization_layer.o obj/avgpool_layer.o obj/coco.o obj/dice.o obj/yolo.o obj/detector.o obj/layer.o obj/compare.o obj/classifier.o obj/local_layer.o obj/swag.o obj/shortcut_layer.o obj/activation_layer.o obj/rnn_layer.o obj/gru_layer.o obj/rnn.o obj/rnn_vid.o obj/crnn_layer.o obj/demo.o obj/tag.o obj/cifar.o obj/go.o obj/batchnorm_layer.o obj/art.o obj/region_layer.o obj/reorg_layer.o obj/reorg_old_layer.o obj/super.o obj/voxel.o obj/tree.o obj/yolo_layer.o obj/gaussian_yolo_layer.o obj/upsample_layer.o obj/lstm_layer.o obj/conv_lstm_layer.o obj/scale_channels_layer.o obj/sam_layer.o obj/convolutional_kernels.o obj/activation_kernels.o obj/im2col_kernels.o obj/col2im_kernels.o obj/blas_kernels.o obj/crop_layer_kernels.o obj/dropout_layer_kernels.o obj/maxpool_layer_kernels.o obj/network_kernels.o obj/avgpool_layer_kernels.o -o darknet -lm -pthread `pkg-config --libs opencv4 2> /dev/null || pkg-config --libs opencv` -L/usr/local/cuda/lib64 -lcuda -lcudart -lcublas -lcurand -L/usr/local/cudnn/lib64 -lcudnn -lstdc++\n"
          ],
          "name": "stdout"
        }
      ]
    },
    {
      "cell_type": "code",
      "metadata": {
        "id": "xmUVp7Ub57rd"
      },
      "source": [
        "!cp cfg/yolov3.cfg cfg/yolov3_training.cfg"
      ],
      "execution_count": 8,
      "outputs": []
    },
    {
      "cell_type": "code",
      "metadata": {
        "id": "Z01ldxWl6Kg8"
      },
      "source": [
        "!sed -i 's/batch=1/batch=64/' cfg/yolov3_training.cfg\n",
        "!sed -i 's/subdivisions=1/subdivisions=16/' cfg/yolov3_training.cfg\n",
        "!sed -i 's/max_batches = 500200/max_batches = 8000/' cfg/yolov3_training.cfg\n",
        "!sed -i '610 s@classes=80@classes=1@' cfg/yolov3_training.cfg\n",
        "!sed -i '696 s@classes=80@classes=1@' cfg/yolov3_training.cfg\n",
        "!sed -i '783 s@classes=80@classes=1@' cfg/yolov3_training.cfg\n",
        "!sed -i '603 s@filters=255@filters=18@' cfg/yolov3_training.cfg\n",
        "!sed -i '689 s@filters=255@filters=18@' cfg/yolov3_training.cfg\n",
        "!sed -i '776 s@filters=255@filters=18@' cfg/yolov3_training.cfg"
      ],
      "execution_count": 9,
      "outputs": []
    },
    {
      "cell_type": "code",
      "metadata": {
        "colab": {
          "base_uri": "https://localhost:8080/"
        },
        "id": "mefqqq8J6O7U",
        "outputId": "fb6f4274-d08a-495f-8ba6-d38915298802"
      },
      "source": [
        "!mkdir \"/mydrive/yolov3/\""
      ],
      "execution_count": 10,
      "outputs": [
        {
          "output_type": "stream",
          "text": [
            "mkdir: cannot create directory ‘/mydrive/yolov3/’: File exists\n"
          ],
          "name": "stdout"
        }
      ]
    },
    {
      "cell_type": "code",
      "metadata": {
        "id": "WZTixAnxFulU"
      },
      "source": [
        "!unzip /content/gdrive/MyDrive/yolov3/images.zip -d data/obj"
      ],
      "execution_count": null,
      "outputs": []
    },
    {
      "cell_type": "code",
      "metadata": {
        "id": "Y5yuOjz06Tss",
        "colab": {
          "base_uri": "https://localhost:8080/"
        },
        "outputId": "08f4e449-651a-49fb-c6e8-fb37f6336f79"
      },
      "source": [
        "# Jet is a class name\n",
        "!echo \"contrail\" > data/obj.names\n",
        "!echo -e 'classes= 1\\ntrain  = data/train.txt\\nvalid  = data/test.txt\\nnames = data/obj.names\\nbackup = /mydrive/yolov3/' > data/obj.data\n",
        "!mkdir data/obj"
      ],
      "execution_count": 12,
      "outputs": [
        {
          "output_type": "stream",
          "text": [
            "mkdir: cannot create directory ‘data/obj’: File exists\n"
          ],
          "name": "stdout"
        }
      ]
    },
    {
      "cell_type": "code",
      "metadata": {
        "id": "CBqll1lR2vyF"
      },
      "source": [
        "!echo \"contrail\" > data/coco.names"
      ],
      "execution_count": 13,
      "outputs": []
    },
    {
      "cell_type": "code",
      "metadata": {
        "colab": {
          "base_uri": "https://localhost:8080/"
        },
        "id": "Z7K7F4mn_SUZ",
        "outputId": "883fd650-9683-4ec0-8050-b78c93ec42be"
      },
      "source": [
        "!wget https://pjreddie.com/media/files/darknet53.conv.74"
      ],
      "execution_count": 14,
      "outputs": [
        {
          "output_type": "stream",
          "text": [
            "--2021-04-30 21:52:25--  https://pjreddie.com/media/files/darknet53.conv.74\n",
            "Resolving pjreddie.com (pjreddie.com)... 128.208.4.108\n",
            "Connecting to pjreddie.com (pjreddie.com)|128.208.4.108|:443... connected.\n",
            "HTTP request sent, awaiting response... 200 OK\n",
            "Length: 162482580 (155M) [application/octet-stream]\n",
            "Saving to: ‘darknet53.conv.74’\n",
            "\n",
            "darknet53.conv.74   100%[===================>] 154.96M  76.0MB/s    in 2.0s    \n",
            "\n",
            "2021-04-30 21:52:27 (76.0 MB/s) - ‘darknet53.conv.74’ saved [162482580/162482580]\n",
            "\n"
          ],
          "name": "stdout"
        }
      ]
    },
    {
      "cell_type": "code",
      "metadata": {
        "colab": {
          "base_uri": "https://localhost:8080/"
        },
        "id": "puSOrj2To48L",
        "outputId": "6848eb7c-62d4-4692-99ea-6763aef1614f"
      },
      "source": [
        "import glob\n",
        "images_list = glob.glob(\"data/obj/images/*.png\") + glob.glob(\"data/obj/images/*.jpg\")\n",
        "print(images_list)"
      ],
      "execution_count": 15,
      "outputs": [
        {
          "output_type": "stream",
          "text": [
            "['data/obj/images/cira-rammb-slider---goes-16---conus---band_04-opacity-100---20210307145111(1)_blur.png', 'data/obj/images/cira-rammb-slider---goes-16---conus---band_04-opacity-100---20210312165614_rotate.png', 'data/obj/images/cira-rammb-slider---goes-16---conus---band_04-opacity-100---20170902122715_20(1)_contrast.png', 'data/obj/images/cira-rammb-slider---goes-16---conus---band_04-opacity-100---20210312155614(2)_rotate.png', 'data/obj/images/cira-rammb-slider---goes-16---conus---band_04-opacity-100---20170902135715_blur.png', 'data/obj/images/cira-rammb-slider---goes-16---conus---band_04-opacity-100---20170902145715_blur.png', 'data/obj/images/cira-rammb-slider---goes-16---conus---band_04-opacity-100---20210312145614_blur.png', 'data/obj/images/cira-rammb-slider---goes-16---conus---band_04-opacity-100---20210315234618_contrast.png', 'data/obj/images/cira-rammb-slider---goes-16---conus---band_04-opacity-100---20210314140617_rotate.png', 'data/obj/images/cira-rammb-slider---goes-16---conus---band_04-opacity-100---20210316134618(1)_blur.png', 'data/obj/images/cira-rammb-slider---goes-16---conus---band_04-opacity-100---20170906135216_contrast.png', 'data/obj/images/cira-rammb-slider---goes-16---conus---band_04-opacity-100---20210308135116(2)_contrast.png', 'data/obj/images/cira-rammb-slider---goes-16---conus---band_04-opacity-100---20170902172715_contrast.png', 'data/obj/images/cira-rammb-slider---goes-16---conus---band_04-opacity-100---20210307145111_blur.png', 'data/obj/images/cira-rammb-slider---goes-16---conus---band_04-opacity-100---20170902135715_20(2)_contrast.png', 'data/obj/images/cira-rammb-slider---goes-16---conus---band_04-opacity-100---20210315214618(1)_blur.png', 'data/obj/images/cira-rammb-slider---goes-16---conus---band_04-opacity-100---20210307145111(1)_rotate.png', 'data/obj/images/cira-rammb-slider---goes-16---conus---band_04-opacity-100---20210314140617_blur.png', 'data/obj/images/cira-rammb-slider---goes-16---conus---band_04-opacity-100---20170906193216_blur.png', 'data/obj/images/cira-rammb-slider---goes-16---conus---band_04-opacity-100---20210315194618(1)_blur.png', 'data/obj/images/cira-rammb-slider---goes-16---conus---band_04-opacity-100---20210307175616_rotate.png', 'data/obj/images/cira-rammb-slider---goes-16---conus---band_04-opacity-100---20210307191616_contrast.png', 'data/obj/images/cira-rammb-slider---goes-16---conus---band_04-opacity-100---20210227165615(1)_blur.png', 'data/obj/images/cira-rammb-slider---goes-16---conus---band_04-opacity-100---20210311205614_rotate.png', 'data/obj/images/cira-rammb-slider---goes-16---conus---band_04-opacity-100---20210314123617_rotate.png', 'data/obj/images/cira-rammb-slider---goes-16---conus---band_04-opacity-100---20210307162111(4)_blur.png', 'data/obj/images/cira-rammb-slider---goes-16---conus---band_04-opacity-100---20210316134618(1)_rotate.png', 'data/obj/images/cira-rammb-slider---goes-16---conus---band_04-opacity-100---20210314143617_contrast.png', 'data/obj/images/cira-rammb-slider---goes-16---conus---band_04-opacity-100---20210312142614(2)_blur.png', 'data/obj/images/cira-rammb-slider---goes-16---conus---band_04-opacity-100---20210307171617_contrast.png', 'data/obj/images/cira-rammb-slider---goes-16---conus---band_04-opacity-100---20210315134118_contrast.png', 'data/obj/images/cira-rammb-slider---goes-16---conus---band_04-opacity-100---20210312142614(2)_contrast.png', 'data/obj/images/cira-rammb-slider---goes-16---conus---band_04-opacity-100---20210312143614_rotate.png', 'data/obj/images/cira-rammb-slider---goes-16---conus---band_04-opacity-100---20210404175616_20(1)_contrast.png', 'data/obj/images/cira-rammb-slider---goes-16---conus---band_04-opacity-100---20210314161616(3)_contrast.png', 'data/obj/images/cira-rammb-slider---goes-16---conus---band_04-opacity-100---20210312155614(2)_contrast.png', 'data/obj/images/cira-rammb-slider---goes-16---conus---band_04-opacity-100---20170902135715_rotate.png', 'data/obj/images/cira-rammb-slider---goes-16---conus---band_04-opacity-100---20210314163616_blur.png', 'data/obj/images/cira-rammb-slider---goes-16---conus---band_04-opacity-100---20170902135715_20(2)_blur.png', 'data/obj/images/cira-rammb-slider---goes-16---conus---band_04-opacity-100---20210315234618_blur.png', 'data/obj/images/cira-rammb-slider---goes-16---conus---band_04-opacity-100---20170901205715_blur.png', 'data/obj/images/cira-rammb-slider---goes-16---conus---band_04-opacity-100---20210308155116_rotate.png', 'data/obj/images/cira-rammb-slider---goes-16---conus---band_04-opacity-100---20210307162111(2)_rotate.png', 'data/obj/images/cira-rammb-slider---goes-16---conus---band_04-opacity-100---20210314161616(2)_contrast.png', 'data/obj/images/cira-rammb-slider---goes-16---conus---band_04-opacity-100---20170902145715_20(4)_blur.png', 'data/obj/images/cira-rammb-slider---goes-16---conus---band_04-opacity-100---20170902125715_20(1)_rotate.png', 'data/obj/images/cira-rammb-slider---goes-16---conus---band_04-opacity-100---20210312155614(1)_contrast.png', 'data/obj/images/cira-rammb-slider---goes-16---conus---band_04-opacity-100---20210311145614_blur.png', 'data/obj/images/cira-rammb-slider---goes-16---conus---band_04-opacity-100---20170902125715_20(1)_contrast.png', 'data/obj/images/cira-rammb-slider---goes-16---conus---band_04-opacity-100---20210314125617_contrast.png', 'data/obj/images/cira-rammb-slider---goes-16---conus---band_04-opacity-100---20170902122715_20(1)_blur.png', 'data/obj/images/cira-rammb-slider---goes-16---conus---band_04-opacity-100---20210315124118_contrast.png', 'data/obj/images/cira-rammb-slider---goes-16---conus---band_04-opacity-100---20210315124118_rotate.png', 'data/obj/images/cira-rammb-slider---goes-16---conus---band_04-opacity-100---20210404175616_20(3)_rotate.png', 'data/obj/images/cira-rammb-slider---goes-16---conus---band_04-opacity-100---20170902155715_blur.png', 'data/obj/images/cira-rammb-slider---goes-16---conus---band_04-opacity-100---20170902145715_20(3)_rotate.png', 'data/obj/images/cira-rammb-slider---goes-16---conus---band_04-opacity-100---20170902125715_20(3)_blur.png', 'data/obj/images/cira-rammb-slider---goes-16---conus---band_04-opacity-100---20210405155616_blur.png', 'data/obj/images/cira-rammb-slider---goes-16---conus---band_04-opacity-100---20170902135715_20(1)_blur.png', 'data/obj/images/cira-rammb-slider---goes-16---conus---band_04-opacity-100---20210307162111(2)_blur.png', 'data/obj/images/cira-rammb-slider---goes-16---conus---band_04-opacity-100---20210316134618(1)_contrast.png', 'data/obj/images/cira-rammb-slider---goes-16---conus---band_04-opacity-100---20210404145616_rotate.png', 'data/obj/images/cira-rammb-slider---goes-16---conus---band_04-opacity-100---20210307175616_blur.png', 'data/obj/images/cira-rammb-slider---goes-16---conus---band_04-opacity-100---20170902145715_20(2)_blur.png', 'data/obj/images/cira-rammb-slider---goes-16---conus---band_04-opacity-100---20210227153615_contrast.png', 'data/obj/images/cira-rammb-slider---goes-16---conus---band_04-opacity-100---20210307162111(3)_rotate.png', 'data/obj/images/cira-rammb-slider---goes-16---conus---band_04-opacity-100---20210404175616_20(4)_rotate.png', 'data/obj/images/cira-rammb-slider---goes-16---conus---band_04-opacity-100---20210227193615_rotate.png', 'data/obj/images/cira-rammb-slider---goes-16---conus---band_04-opacity-100---20210227193615_blur.png', 'data/obj/images/cira-rammb-slider---goes-16---conus---band_04-opacity-100---20170906145716_blur.png', 'data/obj/images/cira-rammb-slider---goes-16---conus---band_04-opacity-100---20170902172715_blur.png', 'data/obj/images/cira-rammb-slider---goes-16---conus---band_04-opacity-100---20170906193216_rotate.png', 'data/obj/images/cira-rammb-slider---goes-16---conus---band_04-opacity-100---20210308135116_rotate.png', 'data/obj/images/cira-rammb-slider---goes-16---conus---band_04-opacity-100---20210315214618(1)_contrast.png', 'data/obj/images/cira-rammb-slider---goes-16---conus---band_04-opacity-100---20210308135116(1)_blur.png', 'data/obj/images/cira-rammb-slider---goes-16---conus---band_04-opacity-100---20170902135715_20(1)_contrast.png', 'data/obj/images/cira-rammb-slider---goes-16---conus---band_04-opacity-100---20210227161615(1)_blur.png', 'data/obj/images/cira-rammb-slider---goes-16---conus---band_04-opacity-100---20210315194618(1)_contrast.png', 'data/obj/images/cira-rammb-slider---goes-16---conus---band_04-opacity-100---20170902145715_20(2)_rotate.png', 'data/obj/images/cira-rammb-slider---goes-16---conus---band_04-opacity-100---20170902132715_20(1)_rotate.png', 'data/obj/images/cira-rammb-slider---goes-16---conus---band_04-opacity-100---20210314131617_contrast.png', 'data/obj/images/cira-rammb-slider---goes-16---conus---band_04-opacity-100---20210307175616_contrast.png', 'data/obj/images/cira-rammb-slider---goes-16---conus---band_04-opacity-100---20210307145111_rotate.png', 'data/obj/images/cira-rammb-slider---goes-16---conus---band_04-opacity-100---20210307222616_rotate.png', 'data/obj/images/cira-rammb-slider---goes-16---conus---band_04-opacity-100---20170901205715_contrast.png', 'data/obj/images/cira-rammb-slider---goes-16---conus---band_04-opacity-100---20170901145215_20(1)_rotate.png', 'data/obj/images/cira-rammb-slider---goes-16---conus---band_04-opacity-100---20170902132715_contrast.png', 'data/obj/images/cira-rammb-slider---goes-16---conus---band_04-opacity-100---20210315201618_contrast.png', 'data/obj/images/cira-rammb-slider---goes-16---conus---band_04-opacity-100---20210311155114_rotate.png', 'data/obj/images/cira-rammb-slider---goes-16---conus---band_04-opacity-100---20170902132715_rotate.png', 'data/obj/images/cira-rammb-slider---goes-16---conus---band_04-opacity-100---20210307195616_blur.png', 'data/obj/images/cira-rammb-slider---goes-16---conus---band_04-opacity-100---20170901145215_20(1)_contrast.png', 'data/obj/images/cira-rammb-slider---goes-16---conus---band_04-opacity-100---20210307203616_contrast.png', 'data/obj/images/cira-rammb-slider---goes-16---conus---band_04-opacity-100---20170902145715_rotate.png', 'data/obj/images/cira-rammb-slider---goes-16---conus---band_04-opacity-100---20210227161615(1)_rotate.png', 'data/obj/images/cira-rammb-slider---goes-16---conus---band_04-opacity-100---20210311141614_rotate.png', 'data/obj/images/cira-rammb-slider---goes-16---conus---band_04-opacity-100---20210314141617_blur.png', 'data/obj/images/cira-rammb-slider---goes-16---conus---band_04-opacity-100---20170831175215_20(1)_blur.png', 'data/obj/images/cira-rammb-slider---goes-16---conus---band_04-opacity-100---20210308175616_rotate.png', 'data/obj/images/cira-rammb-slider---goes-16---conus---band_04-opacity-100---20210312155614(2)_blur.png', 'data/obj/images/cira-rammb-slider---goes-16---conus---band_04-opacity-100---20210312135614_blur.png', 'data/obj/images/cira-rammb-slider---goes-16---conus---band_04-opacity-100---20210312155614_contrast.png', 'data/obj/images/cira-rammb-slider---goes-16---conus---band_04-opacity-100---20210227161615_rotate.png', 'data/obj/images/cira-rammb-slider---goes-16---conus---band_04-opacity-100---20210311142614_rotate.png', 'data/obj/images/cira-rammb-slider---goes-16---conus---band_04-opacity-100---20210312142614_rotate.png', 'data/obj/images/cira-rammb-slider---goes-16---conus---band_04-opacity-100---20170906142716_contrast.png', 'data/obj/images/cira-rammb-slider---goes-16---conus---band_04-opacity-100---20210307145111(2)_contrast.png', 'data/obj/images/cira-rammb-slider---goes-16---conus---band_04-opacity-100---20210314161616_contrast.png', 'data/obj/images/cira-rammb-slider---goes-16---conus---band_04-opacity-100---20210311173614_blur.png', 'data/obj/images/cira-rammb-slider---goes-16---conus---band_04-opacity-100---20170902125715_20(3)_contrast.png', 'data/obj/images/cira-rammb-slider---goes-16---conus---band_04-opacity-100---20210315194618(1)_rotate.png', 'data/obj/images/cira-rammb-slider---goes-16---conus---band_04-opacity-100---20210404175616_20(4)_contrast.png', 'data/obj/images/cira-rammb-slider---goes-16---conus---band_04-opacity-100---20210227161615_blur.png', 'data/obj/images/cira-rammb-slider---goes-16---conus---band_04-opacity-100---20170831175215_20(1)_contrast.png', 'data/obj/images/cira-rammb-slider---goes-16---conus---band_04-opacity-100---20210308155116(2)_rotate.png', 'data/obj/images/cira-rammb-slider---goes-16---conus---band_04-opacity-100---20210405155616_20(1)_contrast.png', 'data/obj/images/cira-rammb-slider---goes-16---conus---band_04-opacity-100---20210311141614_blur.png', 'data/obj/images/cira-rammb-slider---goes-16---conus---band_04-opacity-100---20170902155715_20(1)_contrast.png', 'data/obj/images/cira-rammb-slider---goes-16---conus---band_04-opacity-100---20210311205614_contrast.png', 'data/obj/images/cira-rammb-slider---goes-16---conus---band_04-opacity-100---20210405155616_20(1)_blur.png', 'data/obj/images/cira-rammb-slider---goes-16---conus---band_04-opacity-100---20210307162111(1)_rotate.png', 'data/obj/images/cira-rammb-slider---goes-16---conus---band_04-opacity-100---20210308155116(1)_rotate.png', 'data/obj/images/cira-rammb-slider---goes-16---conus---band_04-opacity-100---20170901145215_rotate.png', 'data/obj/images/cira-rammb-slider---goes-16---conus---band_04-opacity-100---20210307191616_blur.png', 'data/obj/images/cira-rammb-slider---goes-16---conus---band_04-opacity-100---20210227173615_blur.png', 'data/obj/images/cira-rammb-slider---goes-16---conus---band_04-opacity-100---20210312142614(3)_blur.png', 'data/obj/images/cira-rammb-slider---goes-16---conus---band_04-opacity-100---20170902135715_20(3)_rotate.png', 'data/obj/images/cira-rammb-slider---goes-16---conus---band_04-opacity-100---20210404175616_20(1)_blur.png', 'data/obj/images/cira-rammb-slider---goes-16---conus---band_04-opacity-100---20210404175616_20(3)_contrast.png', 'data/obj/images/cira-rammb-slider---goes-16---conus---band_04-opacity-100---20210227161615_contrast.png', 'data/obj/images/cira-rammb-slider---goes-16---conus---band_04-opacity-100---20210314123617_blur.png', 'data/obj/images/cira-rammb-slider---goes-16---conus---band_04-opacity-100---20210314144617_contrast.png', 'data/obj/images/cira-rammb-slider---goes-16---conus---band_04-opacity-100---20170906145716_contrast.png', 'data/obj/images/cira-rammb-slider---goes-16---conus---band_04-opacity-100---20210308155116_blur.png', 'data/obj/images/cira-rammb-slider---goes-16---conus---band_04-opacity-100---20210227162615_contrast.png', 'data/obj/images/cira-rammb-slider---goes-16---conus---band_04-opacity-100---20170901145215_contrast.png', 'data/obj/images/cira-rammb-slider---goes-16---conus---band_04-opacity-100---20210227193615_contrast.png', 'data/obj/images/cira-rammb-slider---goes-16---conus---band_04-opacity-100---20170902135715_20(2)_rotate.png', 'data/obj/images/cira-rammb-slider---goes-16---conus---band_04-opacity-100---20210308155116(2)_contrast.png', 'data/obj/images/cira-rammb-slider---goes-16---conus---band_04-opacity-100---20170902125715_20(1)_blur.png', 'data/obj/images/cira-rammb-slider---goes-16---conus---band_04-opacity-100---20210312145614_contrast.png', 'data/obj/images/cira-rammb-slider---goes-16---conus---band_04-opacity-100---20210315214618(2)_contrast.png', 'data/obj/images/cira-rammb-slider---goes-16---conus---band_04-opacity-100---20210404175616_20(1)_rotate.png', 'data/obj/images/cira-rammb-slider---goes-16---conus---band_04-opacity-100---20210311172614_rotate.png', 'data/obj/images/cira-rammb-slider---goes-16---conus---band_04-opacity-100---20170902145715_contrast.png', 'data/obj/images/cira-rammb-slider---goes-16---conus---band_04-opacity-100---20170902145715_20(1)_contrast.png', 'data/obj/images/cira-rammb-slider---goes-16---conus---band_04-opacity-100---20210227165615(1)_contrast.png', 'data/obj/images/cira-rammb-slider---goes-16---conus---band_04-opacity-100---20210314161616(2)_blur.png', 'data/obj/images/cira-rammb-slider---goes-16---conus---band_04-opacity-100---20210227165615(1)_rotate.png', 'data/obj/images/cira-rammb-slider---goes-16---conus---band_04-opacity-100---20210312165614_blur.png', 'data/obj/images/cira-rammb-slider---goes-16---conus---band_04-opacity-100---20210405155616_contrast.png', 'data/obj/images/cira-rammb-slider---goes-16---conus---band_04-opacity-100---20170902145715_20(3)_blur.png', 'data/obj/images/cira-rammb-slider---goes-16---conus---band_04-opacity-100---20210307162111(1)_blur.png', 'data/obj/images/cira-rammb-slider---goes-16---conus---band_04-opacity-100---20170906142716_rotate.png', 'data/obj/images/cira-rammb-slider---goes-16---conus---band_04-opacity-100---20210307162111(4)_contrast.png', 'data/obj/images/cira-rammb-slider---goes-16---conus---band_04-opacity-100---20210308135116_blur.png', 'data/obj/images/cira-rammb-slider---goes-16---conus---band_04-opacity-100---20210312155614_rotate.png', 'data/obj/images/cira-rammb-slider---goes-16---conus---band_04-opacity-100---20210308135116(1)_rotate.png', 'data/obj/images/cira-rammb-slider---goes-16---conus---band_04-opacity-100---20210404175616_20(2)_blur.png', 'data/obj/images/cira-rammb-slider---goes-16---conus---band_04-opacity-100---20210308175616_blur.png', 'data/obj/images/cira-rammb-slider---goes-16---conus---band_04-opacity-100---20170902122715_rotate.png', 'data/obj/images/cira-rammb-slider---goes-16---conus---band_04-opacity-100---20210307195616_contrast.png', 'data/obj/images/cira-rammb-slider---goes-16---conus---band_04-opacity-100---20170902155715_contrast.png', 'data/obj/images/cira-rammb-slider---goes-16---conus---band_04-opacity-100---20170901205715_rotate.png', 'data/obj/images/cira-rammb-slider---goes-16---conus---band_04-opacity-100---20210307192616_rotate.png', 'data/obj/images/cira-rammb-slider---goes-16---conus---band_04-opacity-100---20210307162111(3)_blur.png', 'data/obj/images/cira-rammb-slider---goes-16---conus---band_04-opacity-100---20170902135715_contrast.png', 'data/obj/images/cira-rammb-slider---goes-16---conus---band_04-opacity-100---20210311205614_blur.png', 'data/obj/images/cira-rammb-slider---goes-16---conus---band_04-opacity-100---20210308155116(1)_contrast.png', 'data/obj/images/cira-rammb-slider---goes-16---conus---band_04-opacity-100---20210311172614_blur.png', 'data/obj/images/cira-rammb-slider---goes-16---conus---band_04-opacity-100---20170831205215_contrast.png', 'data/obj/images/cira-rammb-slider---goes-16---conus---band_04-opacity-100---20170902142715_contrast.png', 'data/obj/images/cira-rammb-slider---goes-16---conus---band_04-opacity-100---20210307145111(2)_rotate.png', 'data/obj/images/cira-rammb-slider---goes-16---conus---band_04-opacity-100---20210404155616_20(1)_contrast.png', 'data/obj/images/cira-rammb-slider---goes-16---conus---band_04-opacity-100---20170831175215_20(1)_rotate.png', 'data/obj/images/cira-rammb-slider---goes-16---conus---band_04-opacity-100---20210314163616_rotate.png', 'data/obj/images/cira-rammb-slider---goes-16---conus---band_04-opacity-100---20210312155614_blur.png', 'data/obj/images/cira-rammb-slider---goes-16---conus---band_04-opacity-100---20210404145616_contrast.png', 'data/obj/images/cira-rammb-slider---goes-16---conus---band_04-opacity-100---20210314123617_contrast.png', 'data/obj/images/cira-rammb-slider---goes-16---conus---band_04-opacity-100---20210227181615_blur.png', 'data/obj/images/cira-rammb-slider---goes-16---conus---band_04-opacity-100---20210312135614_contrast.png', 'data/obj/images/cira-rammb-slider---goes-16---conus---band_04-opacity-100---20210315194618_rotate.png', 'data/obj/images/cira-rammb-slider---goes-16---conus---band_04-opacity-100---20210315214618(1)_rotate.png', 'data/obj/images/cira-rammb-slider---goes-16---conus---band_04-opacity-100---20210307162111(2)_contrast.png', 'data/obj/images/cira-rammb-slider---goes-16---conus---band_04-opacity-100---20210307162111(3)_contrast.png', 'data/obj/images/cira-rammb-slider---goes-16---conus---band_04-opacity-100---20210307171617_rotate.png', 'data/obj/images/cira-rammb-slider---goes-16---conus---band_04-opacity-100---20170906145716_20(1)_rotate.png', 'data/obj/images/cira-rammb-slider---goes-16---conus---band_04-opacity-100---20170902155715_rotate.png', 'data/obj/images/cira-rammb-slider---goes-16---conus---band_04-opacity-100---20170906135216_rotate.png', 'data/obj/images/cira-rammb-slider---goes-16---conus---band_04-opacity-100---20210307222616_contrast.png', 'data/obj/images/cira-rammb-slider---goes-16---conus---band_04-opacity-100---20170831205215_blur.png', 'data/obj/images/cira-rammb-slider---goes-16---conus---band_04-opacity-100---20210311141614_contrast.png', 'data/obj/images/cira-rammb-slider---goes-16---conus---band_04-opacity-100---20210307162111_rotate.png', 'data/obj/images/cira-rammb-slider---goes-16---conus---band_04-opacity-100---20210404175616_20(2)_contrast.png', 'data/obj/images/cira-rammb-slider---goes-16---conus---band_04-opacity-100---20170902152715_rotate.png', 'data/obj/images/cira-rammb-slider---goes-16---conus---band_04-opacity-100---20210314163616_contrast.png', 'data/obj/images/cira-rammb-slider---goes-16---conus---band_04-opacity-100---20210315214618_contrast.png', 'data/obj/images/cira-rammb-slider---goes-16---conus---band_04-opacity-100---20210311142614_blur.png', 'data/obj/images/cira-rammb-slider---goes-16---conus---band_04-opacity-100---20210316141618(1)_contrast.png', 'data/obj/images/cira-rammb-slider---goes-16---conus---band_04-opacity-100---20170906142716_blur.png', 'data/obj/images/cira-rammb-slider---goes-16---conus---band_04-opacity-100---20210308135116_contrast.png', 'data/obj/images/cira-rammb-slider---goes-16---conus---band_04-opacity-100---20170902172715_rotate.png', 'data/obj/images/cira-rammb-slider---goes-16---conus---band_04-opacity-100---20170902132715_20(1)_blur.png', 'data/obj/images/cira-rammb-slider---goes-16---conus---band_04-opacity-100---20210311155114_blur.png', 'data/obj/images/cira-rammb-slider---goes-16---conus---band_04-opacity-100---20210308135116(2)_blur.png', 'data/obj/images/cira-rammb-slider---goes-16---conus---band_04-opacity-100---20210308155116(1)_blur.png', 'data/obj/images/cira-rammb-slider---goes-16---conus---band_04-opacity-100---20210314125617_blur.png', 'data/obj/images/cira-rammb-slider---goes-16---conus---band_04-opacity-100---20210227181615_contrast.png', 'data/obj/images/cira-rammb-slider---goes-16---conus---band_04-opacity-100---20170906193216_contrast.png', 'data/obj/images/cira-rammb-slider---goes-16---conus---band_04-opacity-100---20170902125715_blur.png', 'data/obj/images/cira-rammb-slider---goes-16---conus---band_04-opacity-100---20210311145614_contrast.png', 'data/obj/images/cira-rammb-slider---goes-16---conus---band_04-opacity-100---20210312152614_rotate.png', 'data/obj/images/cira-rammb-slider---goes-16---conus---band_04-opacity-100---20210314143617_rotate.png', 'data/obj/images/cira-rammb-slider---goes-16---conus---band_04-opacity-100---20210314143617(1)_blur.png', 'data/obj/images/cira-rammb-slider---goes-16---conus---band_04-opacity-100---20210405155616_rotate.png', 'data/obj/images/cira-rammb-slider---goes-16---conus---band_04-opacity-100---20210307145111(3)_rotate.png', 'data/obj/images/cira-rammb-slider---goes-16---conus---band_04-opacity-100---20210315134118_rotate.png', 'data/obj/images/cira-rammb-slider---goes-16---conus---band_04-opacity-100---20210404175616_20(4)_blur.png', 'data/obj/images/cira-rammb-slider---goes-16---conus---band_04-opacity-100---20210307162111(5)_blur.png', 'data/obj/images/cira-rammb-slider---goes-16---conus---band_04-opacity-100---20210314161616_rotate.png', 'data/obj/images/cira-rammb-slider---goes-16---conus---band_04-opacity-100---20210227161615(1)_contrast.png', 'data/obj/images/cira-rammb-slider---goes-16---conus---band_04-opacity-100---20210312142614(1)_contrast.png', 'data/obj/images/cira-rammb-slider---goes-16---conus---band_04-opacity-100---20210315194618_blur.png', 'data/obj/images/cira-rammb-slider---goes-16---conus---band_04-opacity-100---20210405155616_20(1)_rotate.png', 'data/obj/images/cira-rammb-slider---goes-16---conus---band_04-opacity-100---20210307171617_blur.png', 'data/obj/images/cira-rammb-slider---goes-16---conus---band_04-opacity-100---20210314161616(3)_rotate.png', 'data/obj/images/cira-rammb-slider---goes-16---conus---band_04-opacity-100---20210307162111(4)_rotate.png', 'data/obj/images/cira-rammb-slider---goes-16---conus---band_04-opacity-100---20210311173614_rotate.png', 'data/obj/images/cira-rammb-slider---goes-16---conus---band_04-opacity-100---20210227173615_rotate.png', 'data/obj/images/cira-rammb-slider---goes-16---conus---band_04-opacity-100---20210308155116(2)_blur.png', 'data/obj/images/cira-rammb-slider---goes-16---conus---band_04-opacity-100---20210316134618_blur.png', 'data/obj/images/cira-rammb-slider---goes-16---conus---band_04-opacity-100---20210311142614_contrast.png', 'data/obj/images/cira-rammb-slider---goes-16---conus---band_04-opacity-100---20210307145111(2)_blur.png', 'data/obj/images/cira-rammb-slider---goes-16---conus---band_04-opacity-100---20210314140617_contrast.png', 'data/obj/images/cira-rammb-slider---goes-16---conus---band_04-opacity-100---20170902155715_20(1)_blur.png', 'data/obj/images/cira-rammb-slider---goes-16---conus---band_04-opacity-100---20210312143614_contrast.png', 'data/obj/images/cira-rammb-slider---goes-16---conus---band_04-opacity-100---20170902125715_20(2)_blur.png', 'data/obj/images/cira-rammb-slider---goes-16---conus---band_04-opacity-100---20170902125715_20(2)_contrast.png', 'data/obj/images/cira-rammb-slider---goes-16---conus---band_04-opacity-100---20210312135614_rotate.png', 'data/obj/images/cira-rammb-slider---goes-16---conus---band_04-opacity-100---20210227162615(2)_blur.png', 'data/obj/images/cira-rammb-slider---goes-16---conus---band_04-opacity-100---20210227175615(1)_contrast.png', 'data/obj/images/cira-rammb-slider---goes-16---conus---band_04-opacity-100---20170902125715_20(2)_rotate.png', 'data/obj/images/cira-rammb-slider---goes-16---conus---band_04-opacity-100---20210314143617(1)_rotate.png', 'data/obj/images/cira-rammb-slider---goes-16---conus---band_04-opacity-100---20210308175616(1)_rotate.png', 'data/obj/images/cira-rammb-slider---goes-16---conus---band_04-opacity-100---20210308135116(2)_rotate.png', 'data/obj/images/cira-rammb-slider---goes-16---conus---band_04-opacity-100---20210307162111_blur.png', 'data/obj/images/cira-rammb-slider---goes-16---conus---band_04-opacity-100---20210314161616_blur.png', 'data/obj/images/cira-rammb-slider---goes-16---conus---band_04-opacity-100---20210311175614_contrast.png', 'data/obj/images/cira-rammb-slider---goes-16---conus---band_04-opacity-100---20210307162111(5)_rotate.png', 'data/obj/images/cira-rammb-slider---goes-16---conus---band_04-opacity-100---20210404235616_blur.png', 'data/obj/images/cira-rammb-slider---goes-16---conus---band_04-opacity-100---20210227162615(1)_blur.png', 'data/obj/images/cira-rammb-slider---goes-16---conus---band_04-opacity-100---20210404175616_20(3)_blur.png', 'data/obj/images/cira-rammb-slider---goes-16---conus---band_04-opacity-100---20210307191616_rotate.png', 'data/obj/images/cira-rammb-slider---goes-16---conus---band_04-opacity-100---20210312145614_rotate.png', 'data/obj/images/cira-rammb-slider---goes-16---conus---band_04-opacity-100---20210227181615_rotate.png', 'data/obj/images/cira-rammb-slider---goes-16---conus---band_04-opacity-100---20210307145111(1)_contrast.png', 'data/obj/images/cira-rammb-slider---goes-16---conus---band_04-opacity-100---20210314131617_rotate.png', 'data/obj/images/cira-rammb-slider---goes-16---conus---band_04-opacity-100---20210314170616_blur.png', 'data/obj/images/cira-rammb-slider---goes-16---conus---band_04-opacity-100---20210307145111(3)_blur.png', 'data/obj/images/cira-rammb-slider---goes-16---conus---band_04-opacity-100---20210227162615(1)_rotate.png', 'data/obj/images/cira-rammb-slider---goes-16---conus---band_04-opacity-100---20210308175616_contrast.png', 'data/obj/images/cira-rammb-slider---goes-16---conus---band_04-opacity-100---20210404175616_20(5)_contrast.png', 'data/obj/images/cira-rammb-slider---goes-16---conus---band_04-opacity-100---20210315124118_blur.png', 'data/obj/images/cira-rammb-slider---goes-16---conus---band_04-opacity-100---20210311155114_contrast.png', 'data/obj/images/cira-rammb-slider---goes-16---conus---band_04-opacity-100---20210314143617(2)_contrast.png', 'data/obj/images/cira-rammb-slider---goes-16---conus---band_04-opacity-100---20210312142614_blur.png', 'data/obj/images/cira-rammb-slider---goes-16---conus---band_04-opacity-100---20210405175616_contrast.png', 'data/obj/images/cira-rammb-slider---goes-16---conus---band_04-opacity-100---20210316134618_contrast.png', 'data/obj/images/cira-rammb-slider---goes-16---conus---band_04-opacity-100---20170902125715_rotate.png', 'data/obj/images/cira-rammb-slider---goes-16---conus---band_04-opacity-100---20210307195616_rotate.png', 'data/obj/images/cira-rammb-slider---goes-16---conus---band_04-opacity-100---20210314161616(3)_blur.png', 'data/obj/images/cira-rammb-slider---goes-16---conus---band_04-opacity-100---20210314153617_rotate.png', 'data/obj/images/cira-rammb-slider---goes-16---conus---band_04-opacity-100---20210312142614(1)_rotate.png', 'data/obj/images/cira-rammb-slider---goes-16---conus---band_04-opacity-100---20210404145616_blur.png', 'data/obj/images/cira-rammb-slider---goes-16---conus---band_04-opacity-100---20210405175616_20(1)_blur.png', 'data/obj/images/cira-rammb-slider---goes-16---conus---band_04-opacity-100---20210315214618(2)_rotate.png', 'data/obj/images/cira-rammb-slider---goes-16---conus---band_04-opacity-100---20170902142715_blur.png', 'data/obj/images/cira-rammb-slider---goes-16---conus---band_04-opacity-100---20170901145215_blur.png', 'data/obj/images/cira-rammb-slider---goes-16---conus---band_04-opacity-100---20210307145111_contrast.png', 'data/obj/images/cira-rammb-slider---goes-16---conus---band_04-opacity-100---20210314143617(2)_rotate.png', 'data/obj/images/cira-rammb-slider---goes-16---conus---band_04-opacity-100---20210227162615_rotate.png', 'data/obj/images/cira-rammb-slider---goes-16---conus---band_04-opacity-100---20210315201618_blur.png', 'data/obj/images/cira-rammb-slider---goes-16---conus---band_04-opacity-100---20210316134618_rotate.png', 'data/obj/images/cira-rammb-slider---goes-16---conus---band_04-opacity-100---20210314161616(1)_rotate.png', 'data/obj/images/cira-rammb-slider---goes-16---conus---band_04-opacity-100---20210311172614_contrast.png', 'data/obj/images/cira-rammb-slider---goes-16---conus---band_04-opacity-100---20210314144617_blur.png', 'data/obj/images/cira-rammb-slider---goes-16---conus---band_04-opacity-100---20170902145715_20(4)_rotate.png', 'data/obj/images/cira-rammb-slider---goes-16---conus---band_04-opacity-100---20210404175616_20(2)_rotate.png', 'data/obj/images/cira-rammb-slider---goes-16---conus---band_04-opacity-100---20170901145215_20(1)_blur.png', 'data/obj/images/cira-rammb-slider---goes-16---conus---band_04-opacity-100---20210307192616_blur.png', 'data/obj/images/cira-rammb-slider---goes-16---conus---band_04-opacity-100---20210315134118_blur.png', 'data/obj/images/cira-rammb-slider---goes-16---conus---band_04-opacity-100---20210312142614_contrast.png', 'data/obj/images/cira-rammb-slider---goes-16---conus---band_04-opacity-100---20210312142614(1)_blur.png', 'data/obj/images/cira-rammb-slider---goes-16---conus---band_04-opacity-100---20210312142614(2)_rotate.png', 'data/obj/images/cira-rammb-slider---goes-16---conus---band_04-opacity-100---20210227153615_rotate.png', 'data/obj/images/cira-rammb-slider---goes-16---conus---band_04-opacity-100---20210311175614_blur.png', 'data/obj/images/cira-rammb-slider---goes-16---conus---band_04-opacity-100---20170902152715_blur.png', 'data/obj/images/cira-rammb-slider---goes-16---conus---band_04-opacity-100---20170906135216_blur.png', 'data/obj/images/cira-rammb-slider---goes-16---conus---band_04-opacity-100---20210316141618(1)_rotate.png', 'data/obj/images/cira-rammb-slider---goes-16---conus---band_04-opacity-100---20210307191616(1)_rotate.png', 'data/obj/images/cira-rammb-slider---goes-16---conus---band_04-opacity-100---20210314170616_rotate.png', 'data/obj/images/cira-rammb-slider---goes-16---conus---band_04-opacity-100---20170906145716_20(1)_contrast.png', 'data/obj/images/cira-rammb-slider---goes-16---conus---band_04-opacity-100---20210316141618_contrast.png', 'data/obj/images/cira-rammb-slider---goes-16---conus---band_04-opacity-100---20210307162111(1)_contrast.png', 'data/obj/images/cira-rammb-slider---goes-16---conus---band_04-opacity-100---20210314143617(2)_blur.png', 'data/obj/images/cira-rammb-slider---goes-16---conus---band_04-opacity-100---20170902125715_20(3)_rotate.png', 'data/obj/images/cira-rammb-slider---goes-16---conus---band_04-opacity-100---20210312165614_contrast.png', 'data/obj/images/cira-rammb-slider---goes-16---conus---band_04-opacity-100---20210307162111(5)_contrast.png', 'data/obj/images/cira-rammb-slider---goes-16---conus---band_04-opacity-100---20210308175616(1)_contrast.png', 'data/obj/images/cira-rammb-slider---goes-16---conus---band_04-opacity-100---20210311175614_rotate.png', 'data/obj/images/cira-rammb-slider---goes-16---conus---band_04-opacity-100---20210308135116(1)_contrast.png', 'data/obj/images/cira-rammb-slider---goes-16---conus---band_04-opacity-100---20170902122715_contrast.png', 'data/obj/images/cira-rammb-slider---goes-16---conus---band_04-opacity-100---20210404235616_contrast.png', 'data/obj/images/cira-rammb-slider---goes-16---conus---band_04-opacity-100---20210312152614_blur.png', 'data/obj/images/cira-rammb-slider---goes-16---conus---band_04-opacity-100---20210227173615_contrast.png', 'data/obj/images/cira-rammb-slider---goes-16---conus---band_04-opacity-100---20210307191616(1)_contrast.png', 'data/obj/images/cira-rammb-slider---goes-16---conus---band_04-opacity-100---20170902142715_rotate.png', 'data/obj/images/cira-rammb-slider---goes-16---conus---band_04-opacity-100---20170902135715_20(3)_blur.png', 'data/obj/images/cira-rammb-slider---goes-16---conus---band_04-opacity-100---20170902152715_contrast.png', 'data/obj/images/cira-rammb-slider---goes-16---conus---band_04-opacity-100---20210307192616_contrast.png', 'data/obj/images/cira-rammb-slider---goes-16---conus---band_04-opacity-100---20210404175616_20(5)_rotate.png', 'data/obj/images/cira-rammb-slider---goes-16---conus---band_04-opacity-100---20210312155614(1)_blur.png', 'data/obj/images/cira-rammb-slider---goes-16---conus---band_04-opacity-100---20210227162615_blur.png', 'data/obj/images/cira-rammb-slider---goes-16---conus---band_04-opacity-100---20210315194618_contrast.png', 'data/obj/images/cira-rammb-slider---goes-16---conus---band_04-opacity-100---20210227162615(2)_rotate.png', 'data/obj/images/cira-rammb-slider---goes-16---conus---band_04-opacity-100---20210312152614_contrast.png', 'data/obj/images/cira-rammb-slider---goes-16---conus---band_04-opacity-100---20170902145715_20(1)_rotate.png', 'data/obj/images/cira-rammb-slider---goes-16---conus---band_04-opacity-100---20210314143617(1)_contrast.png', 'data/obj/images/cira-rammb-slider---goes-16---conus---band_04-opacity-100---20170902125715_contrast.png', 'data/obj/images/cira-rammb-slider---goes-16---conus---band_04-opacity-100---20210227162615(2)_contrast.png', 'data/obj/images/cira-rammb-slider---goes-16---conus---band_04-opacity-100---20210405175616_20(1)_contrast.png', 'data/obj/images/cira-rammb-slider---goes-16---conus---band_04-opacity-100---20170906145716_rotate.png', 'data/obj/images/cira-rammb-slider---goes-16---conus---band_04-opacity-100---20170831205215_rotate.png', 'data/obj/images/cira-rammb-slider---goes-16---conus---band_04-opacity-100---20170902135715_20(1)_rotate.png', 'data/obj/images/cira-rammb-slider---goes-16---conus---band_04-opacity-100---20210311145614_rotate.png', 'data/obj/images/cira-rammb-slider---goes-16---conus---band_04-opacity-100---20170902145715_20(1)_blur.png', 'data/obj/images/cira-rammb-slider---goes-16---conus---band_04-opacity-100---20210404155616_contrast.png', 'data/obj/images/cira-rammb-slider---goes-16---conus---band_04-opacity-100---20170902135715_20(3)_contrast.png', 'data/obj/images/cira-rammb-slider---goes-16---conus---band_04-opacity-100---20170902145715_20(4)_contrast.png', 'data/obj/images/cira-rammb-slider---goes-16---conus---band_04-opacity-100---20210307222616_blur.png', 'data/obj/images/cira-rammb-slider---goes-16---conus---band_04-opacity-100---20210308155116_contrast.png', 'data/obj/images/cira-rammb-slider---goes-16---conus---band_04-opacity-100---20210314141617_contrast.png', 'data/obj/images/cira-rammb-slider---goes-16---conus---band_04-opacity-100---20210314161616(1)_blur.png', 'data/obj/images/cira-rammb-slider---goes-16---conus---band_04-opacity-100---20210315201618_rotate.png', 'data/obj/images/cira-rammb-slider---goes-16---conus---band_04-opacity-100---20170902145715_20(2)_contrast.png', 'data/obj/images/cira-rammb-slider---goes-16---conus---band_04-opacity-100---20210307203616_blur.png', 'data/obj/images/cira-rammb-slider---goes-16---conus---band_04-opacity-100---20210314144617_rotate.png', 'data/obj/images/cira-rammb-slider---goes-16---conus---band_04-opacity-100---20210312155614(1)_rotate.png', 'data/obj/images/cira-rammb-slider---goes-16---conus---band_04-opacity-100---20170906145716_20(1)_blur.png', 'data/obj/images/cira-rammb-slider---goes-16---conus---band_04-opacity-100---20210307203616_rotate.png', 'data/obj/images/cira-rammb-slider---goes-16---conus---band_04-opacity-100---20210227153615_blur.png', 'data/obj/images/cira-rammb-slider---goes-16---conus---band_04-opacity-100---20210314161616(2)_rotate.png', 'data/obj/images/cira-rammb-slider---goes-16---conus---band_04-opacity-100---20210405175616_20(1)_rotate.png', 'data/obj/images/cira-rammb-slider---goes-16---conus---band_04-opacity-100---20170902132715_20(1)_contrast.png', 'data/obj/images/cira-rammb-slider---goes-16---conus---band_04-opacity-100---20210307145111(3)_contrast.png', 'data/obj/images/cira-rammb-slider---goes-16---conus---band_04-opacity-100---20210404175616_20(5)_blur.png', 'data/obj/images/cira-rammb-slider---goes-16---conus---band_04-opacity-100---20170902122715_20(1)_rotate.png', 'data/obj/images/cira-rammb-slider---goes-16---conus---band_04-opacity-100---20210316141618_rotate.png', 'data/obj/images/cira-rammb-slider---goes-16---conus---band_04-opacity-100---20210314131617_blur.png', 'data/obj/images/cira-rammb-slider---goes-16---conus---band_04-opacity-100---20210315214618_blur.png', 'data/obj/images/cira-rammb-slider---goes-16---conus---band_04-opacity-100---20210311173614_contrast.png', 'data/obj/images/cira-rammb-slider---goes-16---conus---band_04-opacity-100---20210308175616(1)_blur.png', 'data/obj/images/cira-rammb-slider---goes-16---conus---band_04-opacity-100---20210314161616(1)_contrast.png', 'data/obj/images/cira-rammb-slider---goes-16---conus---band_04-opacity-100---20210314141617_rotate.png', 'data/obj/images/cira-rammb-slider---goes-16---conus---band_04-opacity-100---20210312142614(3)_contrast.png', 'data/obj/images/cira-rammb-slider---goes-16---conus---band_04-opacity-100---20210312142614(3)_rotate.png', 'data/obj/images/cira-rammb-slider---goes-16---conus---band_04-opacity-100---20210315214618(2)_blur.png', 'data/obj/images/cira-rammb-slider---goes-16---conus---band_04-opacity-100---20170902122715_blur.png', 'data/obj/images/cira-rammb-slider---goes-16---conus---band_04-opacity-100---20210312143614_blur.png', 'data/obj/images/cira-rammb-slider---goes-16---conus---band_04-opacity-100---20210314170616_contrast.png', 'data/obj/images/cira-rammb-slider---goes-16---conus---band_04-opacity-100---20210316141618(1)_blur.png', 'data/obj/images/cira-rammb-slider---goes-16---conus---band_04-opacity-100---20210307162111_contrast.png', 'data/obj/images/cira-rammb-slider---goes-16---conus---band_04-opacity-100---20210316141618_blur.png', 'data/obj/images/cira-rammb-slider---goes-16---conus---band_04-opacity-100---20210227162615(1)_contrast.png', 'data/obj/images/cira-rammb-slider---goes-16---conus---band_04-opacity-100---20170902145715_20(3)_contrast.png', 'data/obj/images/cira-rammb-slider---goes-16---conus---band_04-opacity-100---20210314143617_blur.png', 'data/obj/images/cira-rammb-slider---goes-16---conus---band_04-opacity-100---20210314153617_contrast.png', 'data/obj/images/cira-rammb-slider---goes-16---conus---band_04-opacity-100---20170902132715_blur.png']\n"
          ],
          "name": "stdout"
        }
      ]
    },
    {
      "cell_type": "code",
      "metadata": {
        "id": "SOLlI8aDY02E"
      },
      "source": [
        "file_train = open(\"data/train.txt\", \"w\")   \n",
        "file_test = open(\"data/test.txt\", \"w\") "
      ],
      "execution_count": 18,
      "outputs": []
    },
    {
      "cell_type": "code",
      "metadata": {
        "id": "VfjCQP77X8C2"
      },
      "source": [
        "dataset_path = '/content/darknet/data/obj/images'"
      ],
      "execution_count": 19,
      "outputs": []
    },
    {
      "cell_type": "code",
      "metadata": {
        "id": "fj0Xrz-RX1Bw"
      },
      "source": [
        "counter = 1  \n",
        "index_test = round(100 / 10)  \n",
        "for pathAndFilename in images_list:  \n",
        "    title, ext = os.path.splitext(os.path.basename(pathAndFilename))\n",
        "\n",
        "    if counter == index_test+1:\n",
        "        counter = 1\n",
        "        file_test.write(dataset_path + \"/\" + title + '.png' + \"\\n\")\n",
        "    else:\n",
        "        file_train.write(dataset_path + \"/\" + title + '.png' + \"\\n\")\n",
        "        counter = counter + 1"
      ],
      "execution_count": 23,
      "outputs": []
    },
    {
      "cell_type": "code",
      "metadata": {
        "id": "YezWyg9S_Vpf"
      },
      "source": [
        "import glob\n",
        "import os\n",
        "import re\n",
        "\n",
        "txt_file_paths = glob.glob(r\"/content/darknet/data/obj/images/*.txt\")\n",
        "for i, file_path in enumerate(txt_file_paths):\n",
        "    # get image size\n",
        "    with open(file_path, \"r\") as f_o:\n",
        "        lines = f_o.readlines()\n",
        "\n",
        "        text_converted = []\n",
        "        for line in lines:\n",
        "            print(line)\n",
        "            numbers = re.findall(\"[0-9.]+\", line)\n",
        "            print(numbers)\n",
        "            if numbers:\n",
        "\n",
        "                # Define coordinates\n",
        "                text = \"{} {} {} {} {}\".format(0, numbers[1], numbers[2], numbers[3], numbers[4])\n",
        "                text_converted.append(text)\n",
        "                print(i, file_path)\n",
        "                print(text)\n",
        "        # Write file\n",
        "        with open(file_path, 'w') as fp:\n",
        "            for item in text_converted:\n",
        "                fp.writelines(\"%s\\n\" % item)"
      ],
      "execution_count": null,
      "outputs": []
    },
    {
      "cell_type": "code",
      "metadata": {
        "colab": {
          "base_uri": "https://localhost:8080/"
        },
        "id": "LNM8BX1w_2_p",
        "outputId": "01f11f0c-1c88-480b-c783-8940fe36b8fb"
      },
      "source": [
        "!./darknet detector calc_anchors /content/darknet/data/obj.data -num_of_clusters 9 -width 416 -height 416"
      ],
      "execution_count": 26,
      "outputs": [
        {
          "output_type": "stream",
          "text": [
            " CUDA-version: 11000 (11020), cuDNN: 7.6.5, GPU count: 1  \n",
            " OpenCV version: 3.2.0\n",
            "\n",
            " num_of_clusters = 9, width = 416, height = 416 \n",
            " read labels from 341 images \n",
            "\r loaded \t image: 1 \t box: 1\r loaded \t image: 1 \t box: 2\r loaded \t image: 2 \t box: 3\r loaded \t image: 2 \t box: 4\r loaded \t image: 3 \t box: 5\r loaded \t image: 3 \t box: 6\r loaded \t image: 3 \t box: 7\r loaded \t image: 4 \t box: 8\r loaded \t image: 5 \t box: 9\r loaded \t image: 6 \t box: 10\r loaded \t image: 7 \t box: 11\r loaded \t image: 7 \t box: 12\r loaded \t image: 8 \t box: 13\r loaded \t image: 9 \t box: 14\r loaded \t image: 10 \t box: 15\r loaded \t image: 10 \t box: 16\r loaded \t image: 11 \t box: 17\r loaded \t image: 11 \t box: 18\r loaded \t image: 11 \t box: 19\r loaded \t image: 11 \t box: 20\r loaded \t image: 11 \t box: 21\r loaded \t image: 11 \t box: 22\r loaded \t image: 12 \t box: 23\r loaded \t image: 12 \t box: 24\r loaded \t image: 12 \t box: 25\r loaded \t image: 13 \t box: 26\r loaded \t image: 14 \t box: 27\r loaded \t image: 14 \t box: 28\r loaded \t image: 15 \t box: 29\r loaded \t image: 15 \t box: 30\r loaded \t image: 16 \t box: 31\r loaded \t image: 16 \t box: 32\r loaded \t image: 16 \t box: 33\r loaded \t image: 17 \t box: 34\r loaded \t image: 18 \t box: 35\r loaded \t image: 19 \t box: 36\r loaded \t image: 19 \t box: 37\r loaded \t image: 20 \t box: 38\r loaded \t image: 20 \t box: 39\r loaded \t image: 21 \t box: 40\r loaded \t image: 21 \t box: 41\r loaded \t image: 22 \t box: 42\r loaded \t image: 23 \t box: 43\r loaded \t image: 23 \t box: 44\r loaded \t image: 23 \t box: 45\r loaded \t image: 24 \t box: 46\r loaded \t image: 25 \t box: 47\r loaded \t image: 25 \t box: 48\r loaded \t image: 26 \t box: 49\r loaded \t image: 26 \t box: 50\r loaded \t image: 27 \t box: 51\r loaded \t image: 28 \t box: 52\r loaded \t image: 28 \t box: 53\r loaded \t image: 28 \t box: 54\r loaded \t image: 28 \t box: 55\r loaded \t image: 29 \t box: 56\r loaded \t image: 30 \t box: 57\r loaded \t image: 31 \t box: 58\r loaded \t image: 32 \t box: 59\r loaded \t image: 32 \t box: 60\r loaded \t image: 32 \t box: 61\r loaded \t image: 32 \t box: 62\r loaded \t image: 33 \t box: 63\r loaded \t image: 34 \t box: 64\r loaded \t image: 35 \t box: 65\r loaded \t image: 35 \t box: 66\r loaded \t image: 36 \t box: 67\r loaded \t image: 36 \t box: 68\r loaded \t image: 37 \t box: 69\r loaded \t image: 38 \t box: 70\r loaded \t image: 39 \t box: 71\r loaded \t image: 40 \t box: 72\r loaded \t image: 41 \t box: 73\r loaded \t image: 42 \t box: 74\r loaded \t image: 42 \t box: 75\r loaded \t image: 43 \t box: 76\r loaded \t image: 43 \t box: 77\r loaded \t image: 43 \t box: 78\r loaded \t image: 43 \t box: 79\r loaded \t image: 43 \t box: 80\r loaded \t image: 44 \t box: 81\r loaded \t image: 45 \t box: 82\r loaded \t image: 45 \t box: 83\r loaded \t image: 46 \t box: 84\r loaded \t image: 46 \t box: 85\r loaded \t image: 46 \t box: 86\r loaded \t image: 46 \t box: 87\r loaded \t image: 47 \t box: 88\r loaded \t image: 47 \t box: 89\r loaded \t image: 48 \t box: 90\r loaded \t image: 48 \t box: 91\r loaded \t image: 48 \t box: 92\r loaded \t image: 49 \t box: 93\r loaded \t image: 49 \t box: 94\r loaded \t image: 50 \t box: 95\r loaded \t image: 51 \t box: 96\r loaded \t image: 51 \t box: 97\r loaded \t image: 52 \t box: 98\r loaded \t image: 52 \t box: 99\r loaded \t image: 52 \t box: 100\r loaded \t image: 53 \t box: 101\r loaded \t image: 53 \t box: 102\r loaded \t image: 54 \t box: 103\r loaded \t image: 54 \t box: 104\r loaded \t image: 55 \t box: 105\r loaded \t image: 56 \t box: 106\r loaded \t image: 56 \t box: 107\r loaded \t image: 57 \t box: 108\r loaded \t image: 58 \t box: 109\r loaded \t image: 58 \t box: 110\r loaded \t image: 59 \t box: 111\r loaded \t image: 60 \t box: 112\r loaded \t image: 60 \t box: 113\r loaded \t image: 61 \t box: 114\r loaded \t image: 61 \t box: 115\r loaded \t image: 62 \t box: 116\r loaded \t image: 62 \t box: 117\r loaded \t image: 63 \t box: 118\r loaded \t image: 63 \t box: 119\r loaded \t image: 64 \t box: 120\r loaded \t image: 64 \t box: 121\r loaded \t image: 65 \t box: 122\r loaded \t image: 66 \t box: 123\r loaded \t image: 67 \t box: 124\r loaded \t image: 68 \t box: 125\r loaded \t image: 68 \t box: 126\r loaded \t image: 69 \t box: 127\r loaded \t image: 70 \t box: 128\r loaded \t image: 70 \t box: 129\r loaded \t image: 70 \t box: 130\r loaded \t image: 71 \t box: 131\r loaded \t image: 71 \t box: 132\r loaded \t image: 71 \t box: 133\r loaded \t image: 71 \t box: 134\r loaded \t image: 71 \t box: 135\r loaded \t image: 72 \t box: 136\r loaded \t image: 73 \t box: 137\r loaded \t image: 73 \t box: 138\r loaded \t image: 73 \t box: 139\r loaded \t image: 73 \t box: 140\r loaded \t image: 74 \t box: 141\r loaded \t image: 74 \t box: 142\r loaded \t image: 74 \t box: 143\r loaded \t image: 74 \t box: 144\r loaded \t image: 75 \t box: 145\r loaded \t image: 75 \t box: 146\r loaded \t image: 76 \t box: 147\r loaded \t image: 77 \t box: 148\r loaded \t image: 78 \t box: 149\r loaded \t image: 79 \t box: 150\r loaded \t image: 79 \t box: 151\r loaded \t image: 80 \t box: 152\r loaded \t image: 80 \t box: 153\r loaded \t image: 81 \t box: 154\r loaded \t image: 81 \t box: 155\r loaded \t image: 82 \t box: 156\r loaded \t image: 82 \t box: 157\r loaded \t image: 82 \t box: 158\r loaded \t image: 83 \t box: 159\r loaded \t image: 84 \t box: 160\r loaded \t image: 84 \t box: 161\r loaded \t image: 85 \t box: 162\r loaded \t image: 85 \t box: 163\r loaded \t image: 86 \t box: 164\r loaded \t image: 87 \t box: 165\r loaded \t image: 87 \t box: 166\r loaded \t image: 88 \t box: 167\r loaded \t image: 89 \t box: 168\r loaded \t image: 89 \t box: 169\r loaded \t image: 89 \t box: 170\r loaded \t image: 90 \t box: 171\r loaded \t image: 90 \t box: 172\r loaded \t image: 91 \t box: 173\r loaded \t image: 92 \t box: 174\r loaded \t image: 92 \t box: 175\r loaded \t image: 93 \t box: 176\r loaded \t image: 93 \t box: 177\r loaded \t image: 94 \t box: 178\r loaded \t image: 95 \t box: 179\r loaded \t image: 96 \t box: 180\r loaded \t image: 97 \t box: 181\r loaded \t image: 97 \t box: 182\r loaded \t image: 97 \t box: 183\r loaded \t image: 97 \t box: 184\r loaded \t image: 97 \t box: 185\r loaded \t image: 98 \t box: 186\r loaded \t image: 99 \t box: 187\r loaded \t image: 99 \t box: 188\r loaded \t image: 99 \t box: 189\r loaded \t image: 99 \t box: 190\r loaded \t image: 99 \t box: 191\r loaded \t image: 100 \t box: 192\r loaded \t image: 101 \t box: 193\r loaded \t image: 101 \t box: 194\r loaded \t image: 101 \t box: 195\r loaded \t image: 102 \t box: 196\r loaded \t image: 102 \t box: 197\r loaded \t image: 103 \t box: 198\r loaded \t image: 104 \t box: 199\r loaded \t image: 104 \t box: 200\r loaded \t image: 105 \t box: 201\r loaded \t image: 105 \t box: 202\r loaded \t image: 105 \t box: 203\r loaded \t image: 106 \t box: 204\r loaded \t image: 106 \t box: 205\r loaded \t image: 106 \t box: 206\r loaded \t image: 106 \t box: 207\r loaded \t image: 107 \t box: 208\r loaded \t image: 108 \t box: 209\r loaded \t image: 109 \t box: 210\r loaded \t image: 110 \t box: 211\r loaded \t image: 110 \t box: 212\r loaded \t image: 110 \t box: 213\r loaded \t image: 111 \t box: 214\r loaded \t image: 112 \t box: 215\r loaded \t image: 112 \t box: 216\r loaded \t image: 113 \t box: 217\r loaded \t image: 113 \t box: 218\r loaded \t image: 114 \t box: 219\r loaded \t image: 115 \t box: 220\r loaded \t image: 115 \t box: 221\r loaded \t image: 116 \t box: 222\r loaded \t image: 116 \t box: 223\r loaded \t image: 117 \t box: 224\r loaded \t image: 118 \t box: 225\r loaded \t image: 119 \t box: 226\r loaded \t image: 120 \t box: 227\r loaded \t image: 120 \t box: 228\r loaded \t image: 121 \t box: 229\r loaded \t image: 121 \t box: 230\r loaded \t image: 121 \t box: 231\r loaded \t image: 122 \t box: 232\r loaded \t image: 123 \t box: 233\r loaded \t image: 123 \t box: 234\r loaded \t image: 123 \t box: 235\r loaded \t image: 124 \t box: 236\r loaded \t image: 124 \t box: 237\r loaded \t image: 124 \t box: 238\r loaded \t image: 125 \t box: 239\r loaded \t image: 125 \t box: 240\r loaded \t image: 126 \t box: 241\r loaded \t image: 126 \t box: 242\r loaded \t image: 127 \t box: 243\r loaded \t image: 127 \t box: 244\r loaded \t image: 127 \t box: 245\r loaded \t image: 128 \t box: 246\r loaded \t image: 128 \t box: 247\r loaded \t image: 129 \t box: 248\r loaded \t image: 129 \t box: 249\r loaded \t image: 129 \t box: 250\r loaded \t image: 130 \t box: 251\r loaded \t image: 130 \t box: 252\r loaded \t image: 131 \t box: 253\r loaded \t image: 132 \t box: 254\r loaded \t image: 133 \t box: 255\r loaded \t image: 134 \t box: 256\r loaded \t image: 134 \t box: 257\r loaded \t image: 135 \t box: 258\r loaded \t image: 135 \t box: 259\r loaded \t image: 135 \t box: 260\r loaded \t image: 135 \t box: 261\r loaded \t image: 136 \t box: 262\r loaded \t image: 136 \t box: 263\r loaded \t image: 137 \t box: 264\r loaded \t image: 138 \t box: 265\r loaded \t image: 138 \t box: 266\r loaded \t image: 138 \t box: 267\r loaded \t image: 139 \t box: 268\r loaded \t image: 140 \t box: 269\r loaded \t image: 141 \t box: 270\r loaded \t image: 142 \t box: 271\r loaded \t image: 143 \t box: 272\r loaded \t image: 143 \t box: 273\r loaded \t image: 144 \t box: 274\r loaded \t image: 145 \t box: 275\r loaded \t image: 146 \t box: 276\r loaded \t image: 146 \t box: 277\r loaded \t image: 147 \t box: 278\r loaded \t image: 147 \t box: 279\r loaded \t image: 148 \t box: 280\r loaded \t image: 149 \t box: 281\r loaded \t image: 150 \t box: 282\r loaded \t image: 151 \t box: 283\r loaded \t image: 152 \t box: 284\r loaded \t image: 152 \t box: 285\r loaded \t image: 153 \t box: 286\r loaded \t image: 154 \t box: 287\r loaded \t image: 155 \t box: 288\r loaded \t image: 156 \t box: 289\r loaded \t image: 156 \t box: 290\r loaded \t image: 157 \t box: 291\r loaded \t image: 157 \t box: 292\r loaded \t image: 158 \t box: 293\r loaded \t image: 159 \t box: 294\r loaded \t image: 159 \t box: 295\r loaded \t image: 160 \t box: 296\r loaded \t image: 160 \t box: 297\r loaded \t image: 160 \t box: 298\r loaded \t image: 161 \t box: 299\r loaded \t image: 161 \t box: 300\r loaded \t image: 162 \t box: 301\r loaded \t image: 163 \t box: 302\r loaded \t image: 163 \t box: 303\r loaded \t image: 163 \t box: 304\r loaded \t image: 164 \t box: 305\r loaded \t image: 165 \t box: 306\r loaded \t image: 165 \t box: 307\r loaded \t image: 166 \t box: 308\r loaded \t image: 166 \t box: 309\r loaded \t image: 167 \t box: 310\r loaded \t image: 168 \t box: 311\r loaded \t image: 168 \t box: 312\r loaded \t image: 169 \t box: 313\r loaded \t image: 170 \t box: 314\r loaded \t image: 171 \t box: 315\r loaded \t image: 172 \t box: 316\r loaded \t image: 172 \t box: 317\r loaded \t image: 172 \t box: 318\r loaded \t image: 173 \t box: 319\r loaded \t image: 174 \t box: 320\r loaded \t image: 174 \t box: 321\r loaded \t image: 175 \t box: 322\r loaded \t image: 176 \t box: 323\r loaded \t image: 177 \t box: 324\r loaded \t image: 178 \t box: 325\r loaded \t image: 179 \t box: 326\r loaded \t image: 179 \t box: 327\r loaded \t image: 179 \t box: 328\r loaded \t image: 180 \t box: 329\r loaded \t image: 181 \t box: 330\r loaded \t image: 181 \t box: 331\r loaded \t image: 182 \t box: 332\r loaded \t image: 182 \t box: 333\r loaded \t image: 183 \t box: 334\r loaded \t image: 184 \t box: 335\r loaded \t image: 185 \t box: 336\r loaded \t image: 185 \t box: 337\r loaded \t image: 185 \t box: 338\r loaded \t image: 186 \t box: 339\r loaded \t image: 186 \t box: 340\r loaded \t image: 187 \t box: 341\r loaded \t image: 187 \t box: 342\r loaded \t image: 187 \t box: 343\r loaded \t image: 188 \t box: 344\r loaded \t image: 189 \t box: 345\r loaded \t image: 189 \t box: 346\r loaded \t image: 190 \t box: 347\r loaded \t image: 191 \t box: 348\r loaded \t image: 191 \t box: 349\r loaded \t image: 192 \t box: 350\r loaded \t image: 193 \t box: 351\r loaded \t image: 193 \t box: 352\r loaded \t image: 194 \t box: 353\r loaded \t image: 194 \t box: 354\r loaded \t image: 195 \t box: 355\r loaded \t image: 196 \t box: 356\r loaded \t image: 196 \t box: 357\r loaded \t image: 197 \t box: 358\r loaded \t image: 198 \t box: 359\r loaded \t image: 199 \t box: 360\r loaded \t image: 199 \t box: 361\r loaded \t image: 200 \t box: 362\r loaded \t image: 201 \t box: 363\r loaded \t image: 201 \t box: 364\r loaded \t image: 201 \t box: 365\r loaded \t image: 202 \t box: 366\r loaded \t image: 203 \t box: 367\r loaded \t image: 204 \t box: 368\r loaded \t image: 204 \t box: 369\r loaded \t image: 205 \t box: 370\r loaded \t image: 206 \t box: 371\r loaded \t image: 206 \t box: 372\r loaded \t image: 206 \t box: 373\r loaded \t image: 207 \t box: 374\r loaded \t image: 208 \t box: 375\r loaded \t image: 209 \t box: 376\r loaded \t image: 210 \t box: 377\r loaded \t image: 210 \t box: 378\r loaded \t image: 210 \t box: 379\r loaded \t image: 211 \t box: 380\r loaded \t image: 212 \t box: 381\r loaded \t image: 213 \t box: 382\r loaded \t image: 214 \t box: 383\r loaded \t image: 215 \t box: 384\r loaded \t image: 215 \t box: 385\r loaded \t image: 215 \t box: 386\r loaded \t image: 216 \t box: 387\r loaded \t image: 216 \t box: 388\r loaded \t image: 217 \t box: 389\r loaded \t image: 217 \t box: 390\r loaded \t image: 218 \t box: 391\r loaded \t image: 219 \t box: 392\r loaded \t image: 219 \t box: 393\r loaded \t image: 219 \t box: 394\r loaded \t image: 220 \t box: 395\r loaded \t image: 221 \t box: 396\r loaded \t image: 222 \t box: 397\r loaded \t image: 222 \t box: 398\r loaded \t image: 222 \t box: 399\r loaded \t image: 223 \t box: 400\r loaded \t image: 223 \t box: 401\r loaded \t image: 223 \t box: 402\r loaded \t image: 224 \t box: 403\r loaded \t image: 225 \t box: 404\r loaded \t image: 225 \t box: 405\r loaded \t image: 225 \t box: 406\r loaded \t image: 226 \t box: 407\r loaded \t image: 227 \t box: 408\r loaded \t image: 228 \t box: 409\r loaded \t image: 229 \t box: 410\r loaded \t image: 229 \t box: 411\r loaded \t image: 229 \t box: 412\r loaded \t image: 230 \t box: 413\r loaded \t image: 231 \t box: 414\r loaded \t image: 232 \t box: 415\r loaded \t image: 233 \t box: 416\r loaded \t image: 233 \t box: 417\r loaded \t image: 234 \t box: 418\r loaded \t image: 234 \t box: 419\r loaded \t image: 234 \t box: 420\r loaded \t image: 235 \t box: 421\r loaded \t image: 236 \t box: 422\r loaded \t image: 237 \t box: 423\r loaded \t image: 237 \t box: 424\r loaded \t image: 237 \t box: 425\r loaded \t image: 238 \t box: 426\r loaded \t image: 238 \t box: 427\r loaded \t image: 239 \t box: 428\r loaded \t image: 239 \t box: 429\r loaded \t image: 240 \t box: 430\r loaded \t image: 240 \t box: 431\r loaded \t image: 241 \t box: 432\r loaded \t image: 241 \t box: 433\r loaded \t image: 241 \t box: 434\r loaded \t image: 242 \t box: 435\r loaded \t image: 242 \t box: 436\r loaded \t image: 243 \t box: 437\r loaded \t image: 244 \t box: 438\r loaded \t image: 244 \t box: 439\r loaded \t image: 245 \t box: 440\r loaded \t image: 246 \t box: 441\r loaded \t image: 247 \t box: 442\r loaded \t image: 247 \t box: 443\r loaded \t image: 247 \t box: 444\r loaded \t image: 247 \t box: 445\r loaded \t image: 248 \t box: 446\r loaded \t image: 249 \t box: 447\r loaded \t image: 250 \t box: 448\r loaded \t image: 251 \t box: 449\r loaded \t image: 252 \t box: 450\r loaded \t image: 252 \t box: 451\r loaded \t image: 253 \t box: 452\r loaded \t image: 253 \t box: 453\r loaded \t image: 254 \t box: 454\r loaded \t image: 254 \t box: 455\r loaded \t image: 255 \t box: 456\r loaded \t image: 255 \t box: 457\r loaded \t image: 255 \t box: 458\r loaded \t image: 256 \t box: 459\r loaded \t image: 256 \t box: 460\r loaded \t image: 256 \t box: 461\r loaded \t image: 257 \t box: 462\r loaded \t image: 257 \t box: 463\r loaded \t image: 258 \t box: 464\r loaded \t image: 258 \t box: 465\r loaded \t image: 259 \t box: 466\r loaded \t image: 259 \t box: 467\r loaded \t image: 260 \t box: 468\r loaded \t image: 261 \t box: 469\r loaded \t image: 261 \t box: 470\r loaded \t image: 262 \t box: 471\r loaded \t image: 263 \t box: 472\r loaded \t image: 264 \t box: 473\r loaded \t image: 264 \t box: 474\r loaded \t image: 265 \t box: 475\r loaded \t image: 266 \t box: 476\r loaded \t image: 266 \t box: 477\r loaded \t image: 267 \t box: 478\r loaded \t image: 268 \t box: 479\r loaded \t image: 269 \t box: 480\r loaded \t image: 269 \t box: 481\r loaded \t image: 270 \t box: 482\r loaded \t image: 271 \t box: 483\r loaded \t image: 271 \t box: 484\r loaded \t image: 271 \t box: 485\r loaded \t image: 272 \t box: 486\r loaded \t image: 272 \t box: 487\r loaded \t image: 273 \t box: 488\r loaded \t image: 273 \t box: 489\r loaded \t image: 274 \t box: 490\r loaded \t image: 275 \t box: 491\r loaded \t image: 275 \t box: 492\r loaded \t image: 275 \t box: 493\r loaded \t image: 275 \t box: 494\r loaded \t image: 276 \t box: 495\r loaded \t image: 276 \t box: 496\r loaded \t image: 277 \t box: 497\r loaded \t image: 278 \t box: 498\r loaded \t image: 278 \t box: 499\r loaded \t image: 279 \t box: 500\r loaded \t image: 279 \t box: 501\r loaded \t image: 279 \t box: 502\r loaded \t image: 280 \t box: 503\r loaded \t image: 281 \t box: 504\r loaded \t image: 281 \t box: 505\r loaded \t image: 281 \t box: 506\r loaded \t image: 281 \t box: 507\r loaded \t image: 282 \t box: 508\r loaded \t image: 283 \t box: 509\r loaded \t image: 284 \t box: 510\r loaded \t image: 284 \t box: 511\r loaded \t image: 284 \t box: 512\r loaded \t image: 285 \t box: 513\r loaded \t image: 286 \t box: 514\r loaded \t image: 286 \t box: 515\r loaded \t image: 287 \t box: 516\r loaded \t image: 288 \t box: 517\r loaded \t image: 288 \t box: 518\r loaded \t image: 289 \t box: 519\r loaded \t image: 289 \t box: 520\r loaded \t image: 290 \t box: 521\r loaded \t image: 290 \t box: 522\r loaded \t image: 290 \t box: 523\r loaded \t image: 291 \t box: 524\r loaded \t image: 291 \t box: 525\r loaded \t image: 292 \t box: 526\r loaded \t image: 292 \t box: 527\r loaded \t image: 293 \t box: 528\r loaded \t image: 293 \t box: 529\r loaded \t image: 294 \t box: 530\r loaded \t image: 294 \t box: 531\r loaded \t image: 294 \t box: 532\r loaded \t image: 295 \t box: 533\r loaded \t image: 295 \t box: 534\r loaded \t image: 296 \t box: 535\r loaded \t image: 296 \t box: 536\r loaded \t image: 297 \t box: 537\r loaded \t image: 297 \t box: 538\r loaded \t image: 298 \t box: 539\r loaded \t image: 298 \t box: 540\r loaded \t image: 299 \t box: 541\r loaded \t image: 299 \t box: 542\r loaded \t image: 299 \t box: 543\r loaded \t image: 300 \t box: 544\r loaded \t image: 300 \t box: 545\r loaded \t image: 300 \t box: 546\r loaded \t image: 301 \t box: 547\r loaded \t image: 302 \t box: 548\r loaded \t image: 302 \t box: 549\r loaded \t image: 303 \t box: 550\r loaded \t image: 303 \t box: 551\r loaded \t image: 303 \t box: 552\r loaded \t image: 304 \t box: 553\r loaded \t image: 305 \t box: 554\r loaded \t image: 306 \t box: 555\r loaded \t image: 307 \t box: 556\r loaded \t image: 308 \t box: 557\r loaded \t image: 308 \t box: 558\r loaded \t image: 308 \t box: 559\r loaded \t image: 308 \t box: 560\r loaded \t image: 309 \t box: 561\r loaded \t image: 309 \t box: 562\r loaded \t image: 310 \t box: 563\r loaded \t image: 311 \t box: 564\r loaded \t image: 311 \t box: 565\r loaded \t image: 311 \t box: 566\r loaded \t image: 311 \t box: 567\r loaded \t image: 312 \t box: 568\r loaded \t image: 312 \t box: 569\r loaded \t image: 313 \t box: 570\r loaded \t image: 313 \t box: 571\r loaded \t image: 313 \t box: 572\r loaded \t image: 314 \t box: 573\r loaded \t image: 315 \t box: 574\r loaded \t image: 315 \t box: 575\r loaded \t image: 316 \t box: 576\r loaded \t image: 316 \t box: 577\r loaded \t image: 316 \t box: 578\r loaded \t image: 317 \t box: 579\r loaded \t image: 317 \t box: 580\r loaded \t image: 318 \t box: 581\r loaded \t image: 318 \t box: 582\r loaded \t image: 318 \t box: 583\r loaded \t image: 319 \t box: 584\r loaded \t image: 319 \t box: 585\r loaded \t image: 320 \t box: 586\r loaded \t image: 320 \t box: 587\r loaded \t image: 321 \t box: 588\r loaded \t image: 322 \t box: 589\r loaded \t image: 322 \t box: 590\r loaded \t image: 322 \t box: 591\r loaded \t image: 322 \t box: 592\r loaded \t image: 322 \t box: 593\r loaded \t image: 323 \t box: 594\r loaded \t image: 324 \t box: 595\r loaded \t image: 324 \t box: 596\r loaded \t image: 325 \t box: 597\r loaded \t image: 325 \t box: 598\r loaded \t image: 326 \t box: 599\r loaded \t image: 327 \t box: 600\r loaded \t image: 327 \t box: 601\r loaded \t image: 327 \t box: 602\r loaded \t image: 328 \t box: 603\r loaded \t image: 329 \t box: 604\r loaded \t image: 330 \t box: 605\r loaded \t image: 330 \t box: 606\r loaded \t image: 331 \t box: 607\r loaded \t image: 331 \t box: 608\r loaded \t image: 331 \t box: 609\r loaded \t image: 331 \t box: 610\r loaded \t image: 332 \t box: 611\r loaded \t image: 332 \t box: 612\r loaded \t image: 333 \t box: 613\r loaded \t image: 333 \t box: 614\r loaded \t image: 334 \t box: 615\r loaded \t image: 335 \t box: 616\r loaded \t image: 335 \t box: 617\r loaded \t image: 336 \t box: 618\r loaded \t image: 337 \t box: 619\r loaded \t image: 338 \t box: 620\r loaded \t image: 339 \t box: 621\r loaded \t image: 340 \t box: 622\r loaded \t image: 340 \t box: 623\r loaded \t image: 341 \t box: 624\r loaded \t image: 341 \t box: 625\n",
            " all loaded. \n",
            "\n",
            " calculating k-means++ ...\n",
            "\n",
            " iterations = 28 \n",
            "\n",
            "\n",
            "counters_per_class = 625\n",
            "\n",
            " avg IoU = 74.74 % \n",
            "\n",
            "Saving anchors to the file: anchors.txt \n",
            "anchors =  39, 41, 104, 46, 254, 27,  77,103, 202, 50, 167, 84, 340, 46, 296, 75, 267,117\n",
            "^C\n"
          ],
          "name": "stdout"
        }
      ]
    },
    {
      "cell_type": "code",
      "metadata": {
        "id": "FXg4K-NMBtos"
      },
      "source": [
        "!./darknet detector train data/obj.data cfg/yolov3_training.cfg darknet53.conv.74 -dont_show | tee log.txt"
      ],
      "execution_count": null,
      "outputs": []
    },
    {
      "cell_type": "code",
      "metadata": {
        "id": "mUhGtAZIgfXa"
      },
      "source": [
        "!./darknet detect cfg/yolov3_training.cfg '/content/gdrive/MyDrive/yolov3/yolov3_training_final.weights' '/content/gdrive/MyDrive/yolov3/cira-rammb-slider---goes-16---conus---band_04-opacity-100---20210404175616_20(4)_rotate.png'"
      ],
      "execution_count": null,
      "outputs": []
    },
    {
      "cell_type": "code",
      "metadata": {
        "id": "YelHFpoghIEG"
      },
      "source": [
        ""
      ],
      "execution_count": null,
      "outputs": []
    },
    {
      "cell_type": "code",
      "metadata": {
        "id": "xEm3U1R0h5ig"
      },
      "source": [
        "!./darknet detector map data/obj.data cfg/yolov3_training.cfg '/content/drive/MyDrive/yolov3/yolov3_training_final.weights'"
      ],
      "execution_count": null,
      "outputs": []
    }
  ]
}